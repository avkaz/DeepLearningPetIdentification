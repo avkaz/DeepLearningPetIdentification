{
  "nbformat": 4,
  "nbformat_minor": 0,
  "metadata": {
    "colab": {
      "provenance": [],
      "authorship_tag": "ABX9TyPwbIP/zplQriNAkNs8WG83",
      "include_colab_link": true
    },
    "kernelspec": {
      "name": "python3",
      "display_name": "Python 3"
    },
    "language_info": {
      "name": "python"
    }
  },
  "cells": [
    {
      "cell_type": "markdown",
      "metadata": {
        "id": "view-in-github",
        "colab_type": "text"
      },
      "source": [
        "<a href=\"https://colab.research.google.com/github/avkaz/DeepLearningPetIdentification/blob/preprocesing_pipeline/Preprocesing.ipynb\" target=\"_parent\"><img src=\"https://colab.research.google.com/assets/colab-badge.svg\" alt=\"Open In Colab\"/></a>"
      ]
    },
    {
      "cell_type": "code",
      "execution_count": 1,
      "metadata": {
        "id": "AsKyb9p2fBMG",
        "colab": {
          "base_uri": "https://localhost:8080/"
        },
        "outputId": "b271fa3c-79a8-47cc-a794-7a72c5b69731"
      },
      "outputs": [
        {
          "output_type": "stream",
          "name": "stdout",
          "text": [
            "utility.py downloaded successfully.\n"
          ]
        }
      ],
      "source": [
        "## 1st -  Download utility.py file from github repository\n",
        "## 2nd - Imports all functions from utility.py\n",
        "\n",
        "import requests\n",
        "\n",
        "# Correct raw URL for the utility.py file\n",
        "url = \"https://raw.githubusercontent.com/avkaz/DeepLearningPetIdentification/main/utility.py\"\n",
        "\n",
        "# Fetch and save the file locally\n",
        "response = requests.get(url)\n",
        "with open(\"utility.py\", \"wb\") as f:\n",
        "    f.write(response.content)\n",
        "\n",
        "\n",
        "import utility\n",
        "print(\"utility.py downloaded successfully.\")\n"
      ]
    },
    {
      "cell_type": "code",
      "source": [
        "data = utility.get_data()"
      ],
      "metadata": {
        "id": "m2oHQ9uYFw5T"
      },
      "execution_count": 2,
      "outputs": []
    },
    {
      "cell_type": "code",
      "source": [
        "first_3_pets = list(data.items())[:3]\n",
        "first_3_pets"
      ],
      "metadata": {
        "colab": {
          "base_uri": "https://localhost:8080/"
        },
        "id": "A3NXHvdtGyCM",
        "outputId": "936da55b-2341-4ffc-f6d7-d48b2185a8b3"
      },
      "execution_count": 3,
      "outputs": [
        {
          "output_type": "execute_result",
          "data": {
            "text/plain": [
              "[('tanyny-chomutov-2024-12-21',\n",
              "  {'Jméno': 'Tanyny',\n",
              "   'Pohlaví': 'Samec',\n",
              "   'Kraj': 'Ústecký',\n",
              "   'Okres': 'Chomutov',\n",
              "   'Plemeno': 'Kříženec',\n",
              "   'Věk': '5 let',\n",
              "   'Barva': 'Černá',\n",
              "   'Velikost': 'Střední - 10-17kg',\n",
              "   'url': 'https://www.psidetektiv.cz/zvire/tanyny-chomutov-2024-12-21',\n",
              "   'images': ['https://www.psidetektiv.cz/data/catalog/big/2024/12/22/img190390.jpg',\n",
              "    'https://www.psidetektiv.cz/data/catalog/big/2024/12/22/img190391.jpg',\n",
              "    'https://www.psidetektiv.cz/data/catalog/big/2024/12/22/img190392.jpg',\n",
              "    'https://www.psidetektiv.cz/data/catalog/big/2024/12/22/img190393.jpg',\n",
              "    'https://www.psidetektiv.cz/data/catalog/big/2024/12/22/img190394.jpg']}),\n",
              " ('haily-tachov-2024-12-21',\n",
              "  {'Jméno': 'Haily',\n",
              "   'Pohlaví': 'Samice',\n",
              "   'Kraj': 'Plzeňský',\n",
              "   'Okres': 'Tachov',\n",
              "   'Plemeno': 'Jezevčík',\n",
              "   'Věk': '5 let',\n",
              "   'Barva': 'Tmavý divočák',\n",
              "   'Velikost': 'Střední - 10-17kg',\n",
              "   'url': 'https://www.psidetektiv.cz/zvire/haily-tachov-2024-12-21',\n",
              "   'images': ['https://www.psidetektiv.cz/data/catalog/big/2024/12/21/img190383.jpg',\n",
              "    'https://www.psidetektiv.cz/data/catalog/big/2024/12/21/img190384.jpg']}),\n",
              " ('egy-karlovy-vary-2024-12-17',\n",
              "  {'Jméno': 'Egy',\n",
              "   'Pohlaví': 'Samec',\n",
              "   'Kraj': 'Karlovarský',\n",
              "   'Okres': 'Karlovy Vary',\n",
              "   'Plemeno': 'Kříženec',\n",
              "   'Věk': 'cca 1 rok',\n",
              "   'Barva': 'Mourovatý',\n",
              "   'Velikost': 'Malá - do 9kg',\n",
              "   'url': 'https://www.psidetektiv.cz/zvire/egy-karlovy-vary-2024-12-17',\n",
              "   'images': ['https://www.psidetektiv.cz/data/catalog/big/2024/12/21/img190378.jpg',\n",
              "    'https://www.psidetektiv.cz/data/catalog/big/2024/12/21/img190379.jpg',\n",
              "    'https://www.psidetektiv.cz/data/catalog/big/2024/12/21/img190380.jpg',\n",
              "    'https://www.psidetektiv.cz/data/catalog/big/2024/12/21/img190381.jpg']})]"
            ]
          },
          "metadata": {},
          "execution_count": 3
        }
      ]
    },
    {
      "cell_type": "code",
      "source": [
        "#remove words from weigths of pets. leave only numbers.\n",
        "#control if colours are consistent over all pets. if there are no misspels.\n",
        "#control other attribute\n",
        "#get rid of duplicates\n",
        "#get rid of missing data\n",
        "#perform one hot encoding"
      ],
      "metadata": {
        "id": "tMqQT4A-7XVD"
      },
      "execution_count": 4,
      "outputs": []
    },
    {
      "cell_type": "code",
      "source": [
        "len(data)"
      ],
      "metadata": {
        "colab": {
          "base_uri": "https://localhost:8080/"
        },
        "id": "R7-LOio_Kx29",
        "outputId": "27b84334-60a4-49b1-c231-7a6ac58c677a"
      },
      "execution_count": 5,
      "outputs": [
        {
          "output_type": "execute_result",
          "data": {
            "text/plain": [
              "12050"
            ]
          },
          "metadata": {},
          "execution_count": 5
        }
      ]
    },
    {
      "cell_type": "markdown",
      "source": [
        "Control weights of pets and delete numbers"
      ],
      "metadata": {
        "id": "c_m6fW1NLGEQ"
      }
    },
    {
      "cell_type": "code",
      "source": [
        "def clean_weight_category(weight_str):\n",
        "    categories = ['Malá', 'Střední', 'Velká']\n",
        "    for category in categories:\n",
        "        if category in weight_str:\n",
        "            return category\n",
        "    return None  # Pokud kategorie není nalezena, vraťte None\n",
        "\n",
        "for pet_id, pet_info in data.items():\n",
        "    pet_info['Velikost'] = clean_weight_category(pet_info['Velikost'])"
      ],
      "metadata": {
        "id": "LAjrfszRJO31"
      },
      "execution_count": 6,
      "outputs": []
    },
    {
      "cell_type": "code",
      "source": [
        "first_3_pets = list(data.items())[:3]\n",
        "first_3_pets"
      ],
      "metadata": {
        "colab": {
          "base_uri": "https://localhost:8080/"
        },
        "id": "YcGiNX97JhLv",
        "outputId": "2882582d-27f1-4e73-8cf8-a9a903d2a622"
      },
      "execution_count": 7,
      "outputs": [
        {
          "output_type": "execute_result",
          "data": {
            "text/plain": [
              "[('tanyny-chomutov-2024-12-21',\n",
              "  {'Jméno': 'Tanyny',\n",
              "   'Pohlaví': 'Samec',\n",
              "   'Kraj': 'Ústecký',\n",
              "   'Okres': 'Chomutov',\n",
              "   'Plemeno': 'Kříženec',\n",
              "   'Věk': '5 let',\n",
              "   'Barva': 'Černá',\n",
              "   'Velikost': 'Střední',\n",
              "   'url': 'https://www.psidetektiv.cz/zvire/tanyny-chomutov-2024-12-21',\n",
              "   'images': ['https://www.psidetektiv.cz/data/catalog/big/2024/12/22/img190390.jpg',\n",
              "    'https://www.psidetektiv.cz/data/catalog/big/2024/12/22/img190391.jpg',\n",
              "    'https://www.psidetektiv.cz/data/catalog/big/2024/12/22/img190392.jpg',\n",
              "    'https://www.psidetektiv.cz/data/catalog/big/2024/12/22/img190393.jpg',\n",
              "    'https://www.psidetektiv.cz/data/catalog/big/2024/12/22/img190394.jpg']}),\n",
              " ('haily-tachov-2024-12-21',\n",
              "  {'Jméno': 'Haily',\n",
              "   'Pohlaví': 'Samice',\n",
              "   'Kraj': 'Plzeňský',\n",
              "   'Okres': 'Tachov',\n",
              "   'Plemeno': 'Jezevčík',\n",
              "   'Věk': '5 let',\n",
              "   'Barva': 'Tmavý divočák',\n",
              "   'Velikost': 'Střední',\n",
              "   'url': 'https://www.psidetektiv.cz/zvire/haily-tachov-2024-12-21',\n",
              "   'images': ['https://www.psidetektiv.cz/data/catalog/big/2024/12/21/img190383.jpg',\n",
              "    'https://www.psidetektiv.cz/data/catalog/big/2024/12/21/img190384.jpg']}),\n",
              " ('egy-karlovy-vary-2024-12-17',\n",
              "  {'Jméno': 'Egy',\n",
              "   'Pohlaví': 'Samec',\n",
              "   'Kraj': 'Karlovarský',\n",
              "   'Okres': 'Karlovy Vary',\n",
              "   'Plemeno': 'Kříženec',\n",
              "   'Věk': 'cca 1 rok',\n",
              "   'Barva': 'Mourovatý',\n",
              "   'Velikost': 'Malá',\n",
              "   'url': 'https://www.psidetektiv.cz/zvire/egy-karlovy-vary-2024-12-17',\n",
              "   'images': ['https://www.psidetektiv.cz/data/catalog/big/2024/12/21/img190378.jpg',\n",
              "    'https://www.psidetektiv.cz/data/catalog/big/2024/12/21/img190379.jpg',\n",
              "    'https://www.psidetektiv.cz/data/catalog/big/2024/12/21/img190380.jpg',\n",
              "    'https://www.psidetektiv.cz/data/catalog/big/2024/12/21/img190381.jpg']})]"
            ]
          },
          "metadata": {},
          "execution_count": 7
        }
      ]
    },
    {
      "cell_type": "markdown",
      "source": [
        "Get rid of duplicates"
      ],
      "metadata": {
        "id": "k5o-9qL5LXnx"
      }
    },
    {
      "cell_type": "code",
      "source": [
        "def remove_pets_without_images(data):\n",
        "    cleaned_data = []\n",
        "    for pet_id, pet_info in data.items():\n",
        "        if 'images' in pet_info and pet_info['images']:\n",
        "            cleaned_data.append((pet_id, pet_info))\n",
        "    return cleaned_data\n",
        "\n",
        "# Použití funkce\n",
        "data = remove_pets_without_images(data)"
      ],
      "metadata": {
        "id": "E5vwUs6tJr6P"
      },
      "execution_count": 8,
      "outputs": []
    },
    {
      "cell_type": "code",
      "source": [
        "len(data)"
      ],
      "metadata": {
        "colab": {
          "base_uri": "https://localhost:8080/"
        },
        "id": "jxp118s0K1ir",
        "outputId": "f172be94-2bda-4c62-8f7e-1eb22a271f19"
      },
      "execution_count": 9,
      "outputs": [
        {
          "output_type": "execute_result",
          "data": {
            "text/plain": [
              "10328"
            ]
          },
          "metadata": {},
          "execution_count": 9
        }
      ]
    },
    {
      "cell_type": "markdown",
      "source": [
        "Control if colours are consistent over all pets. if there are no misspels."
      ],
      "metadata": {
        "id": "v8JfTNvyLkDH"
      }
    },
    {
      "cell_type": "code",
      "source": [
        "colors = [pet_info['Barva'] for pet_id, pet_info in data]\n",
        "\n",
        "# Získání unikátních barev\n",
        "unique_colors = list(set(colors))\n",
        "\n",
        "# Výpis unikátních barev ve formátu seznamu\n",
        "print(\"Unikátní barvy:\", unique_colors)"
      ],
      "metadata": {
        "colab": {
          "base_uri": "https://localhost:8080/"
        },
        "id": "P_r5Dd5rLhDJ",
        "outputId": "3ea09a61-f46d-42b0-9bbf-a20823f76657"
      },
      "execution_count": 10,
      "outputs": [
        {
          "output_type": "stream",
          "name": "stdout",
          "text": [
            "Unikátní barvy: ['Bílá s černými tečkami', 'černá se stříbrným', 'Mourek s bílou náprsen', 'hnědě mourovatá', 'blonďatorezavá', 'bílomourovatá', 'Černá, bílé flíčky', 'bílo-černý', 'zrzavá, bílá, hnědá', 'hnědo-béžový', 'grizzly / rezavá', 'Modrý, oranžový bělouš', 'bílá s rezavým ocasem', 'Hnědá / zrzavá', 'šedobílá', 'Žíhaný typu Rex', 'Šedočerná, mourovaná', 'Cappuccino - bílá', 'bílo - mourovatý', 'Černá/bílá', 'Černo bílá s pálením', 'Bílá,šedá, béžová', 'Světle hnědá-bílá', 'Hnědá/ žíhaná, bílé znaky', 'černá s bílým bříškem', 'Bílo-šedý mourovatý', 'Rezavo-bílý', 'Černá s hnědošedé pálení', 'Bílo-hnědo-šedá', 'bila', 'Hnědo zrzavá', 'Plavá-světle hnědá', 'Černá s znaky', 'bílá s černými flíčky', 'Černo šedá', 'hnědý, mourovatý', 'Černá hnědá bílá', 'stříbrný mour -whiskas', 'krémová až nazrzlá', 'Bílo-zrzavý', 'černorezavohnědý', 'tygr', 'Zlatobílá, černobílá', 'světlý mourek', 'zlatý a černý', 'Černozrzavá-želvovinov', 'Bílozrzavý', 'Šedo oranžová', 'Černý , \"bílý melír\"', 'Bílá/mouratá', 'Mourovatá - stříbrná', 'Šedá, žíhaná', 'Hnědá s pálením', 'Šedo-černá', 'Bílorezavý', 'Černobílá, Bílá', 'bílá s hnědými fleky', 'zbarvení jako dobrman', 'Zrzavavý', 'Harlekýn', 'Bílo-zrzavá', 'Černošedá', 'Bílá s černými odznaky', 'Bílý s šedými znaky', 'světlejší mourovatá', 'Želvovitá', 'Hnědostříbrný', 'černa se znaky', 'šedá', 'Bílé tělo, hnědá hlava', 'tmavší hnědá', 'Dívočak barva, hnědá', 'hnědý s pálením', 'černá, mourek', 'Bílá s mourováním', 'zbarvení typu rex', 'Bílá s černými znaky', 'hnědý bělouš plotny', 'Hnědočerně žíhaný', 'Hnědá-Zrz', 'šedoorandžová', 'Vlkošedý', 'černá, šedivé vousy', 'Mourek, bílá náprsenka', 'Hnědo, černá a bílá ná', 'Rezatá - světlejší', 'Hnědo černo bílá', 'Šedý', 'Bílá/béžová', 'Čistě bílá', 'Hnědý s Černou tlamkou', 'Rezavá, hlava šedivá', 'Kremová', 'Šedivá, mourovatý', 'Bílé s hnědými znaky', 'Zrzavo-bežová', 'calico', 'Hnědozlatá', 'Tmavě hnědá', 'Černá s hnědým zihanim', 'Černo hňědá', 'Bílá + černé fleky', 'Šedý, mourovatý', 'Stříbrno-černá', 'Bílá s černým ocasem', 'Hnědá a šedá', 'Šedá, vlčí', 'zrzatá', 'Hnědá žíhaná s bílou', 'rezavo-bílá, bílo-černá', 'černo-hnědá', 'Černá s rezavým pálením', 'bílá, černá hlava, žíhané fleky', 'Světle hnědá - bílá', 'Tříbarevná májovka', 'Velmi tmavý mourek', 'černá s malou bílou náprsenkou', 'Hnědá mourovatá', 'Černo-rezavo-bílá', 'Černá s hnědým palenim', 'Bílá náprsenka,mourova', 'slámově hnědá', 'Ćernobily', 'Mourek, delší srst', 'Bílo - černá', 'Černozlatá', 'světlá hnědá-rezavá', 'Bílo, černo, hnědý', 'krémová/světle zrzavá', 'mourovatá', 'Bílá, hnědé znaky', 'Šedočerný', 'pes plavý, fena černobílá', 'Světle hnědá - černá', 'Tmavá žíhaná', 'Černá, šedá, bílá', 'Bílá, hlava trikolora', 'Mourovatý, bílá brada', 'bílá s černou a hnědou', 'Černobíla', 'Bílá s žiháním', 'Černá, bílá, zrzavá', 'Sedá kremova zlata', 'Žihaná, bílé znaky', 'Bílo-mourovatá + rezavá', 'tříslová', 'hnědá s černou maskou', 'rezavá mouratá', 'Multicolor', 'třibarevná (\"majová\")', 'Mix šedý', 'barevná', 'Bílo, hnědo černá', 'Čokoládově hnědá se znaky', 'Hnědobílý', 'Světle hnědá/Béžová', 'Bílý, nazrzlý', 'Šedivá (vlk)', 'Mourovatý a bílý', 'Mourovaný/bílý', 'Mourovatá, bílá brada', 'Zlatá, černě žíhaná', 'Hnědo zrzavo černá', 'Mix', 'Mourovatá + bílá', 'Rezavohnědý', 'Hnědá a blonďatá', 'Fauve', 'černo-bílý a bílý', 'Černá, bílo černe tlap', 'Černá,bílé ponožky', 'tm. šedý/ sv. šedý', 'Zlatavý mourek s flíčk', 'zrzavý mourek', 'Bilý, hnědé znaky', 'Roan', 'Bíla a hnědé znaky', 'Hnědobíločerná', 'rezavý', 'Šedivo-hnědě tmavý', 'černá/hnědá/bílá', 'Bílý, rezavé fleky', 'bilá', 'Tmavě šedá mourovatá', 'Šedá mourovaná', 'Šedo-černě mourovaná', 'bílo-šedo-hnědý', 'Kaliko (tříbarevná)', 'Bilo hnědá', 'vícebarevná', 'Stribrno-zlatá', 'bílá s béžovým flekem', 'Blue merle  - černobílá', 'Černá s bílými tlapkam', 'mourek do zrz', 'blond', 'Hnědočerná mourovata', 'Bílá s mourovatým', 'černobilý', 'Modrošedobílá', 'Černá s bílými odznaky', 'whiskas šedý mourek', 'Bílá, černá', 'bílá, černé fleky', 'šedo-béžová, mourovatá', 'Bílo,zrzavo,mourovatá', 'Bilo hnědou cerna', 'Béžovo bílá', 'Černá s bílým ocáskem', 'Husky', 'Hnedo-zrzavy', 'černá  bílá náprsenka', 'Bílá, Karamelová', 'Žihany', 'Tmavá', 'černá s bílou skvrnou', 'bílo-hnědo-černá', 'šedo-černá', 'Blue tan', 'tmavě a světle šedá', 'Černobílá, hnědé znaky', 'Bílo - rezata', 'Bílá, hnědá, černý nos', 'světlá hnědá', 'Černá - bílá náprsenka', 'bílošedivá', 'Bílo-zrzavo-mouratá', 'Černá, bílá náprsenka', 'Světle hnědý, bílé znaky', 'Bílo/Hnědý', 'Bílý, rezavý ocas', 'Šedá, vypadá jako Brit', 'Bílo-světle hnědý', 'Hnědá', 'černo - bílý', 'zrzavá a šedá', 'bílý se zrzavými fleky', 'Světle rezavá s bílými znaky', 'Světle hnedy/zlaty', 'Zlatý a černý', 'Černá s bílým flíčkem', 'Černá s palením', 'bila má oranžove fleky', 'Bílá s béžovými fleky', 'strakatá', 'Černá s šedou podsadou', 'Bíla, černé fleky', 'Zlatohnědá', 'Střibrný', 'Béžovo zlatá', 'Bilorezavá', 'Rezata', 'Hnědá, bílá náprsenka', 'Plavý, tmavé znaky', 'mour', 'Hnědo černý', 'hnědá, černá', 'Černá s žlutým pálením', 'Šedá s béžovými znaky', 'mourovato-rezavá', 'Bílá, černé fleky', 'Želvovinová s bílou', 'Bílá,  mourovatá', 'šedo-černo-bílý', 'Šedo - bílá', 'Bilo-mourovatý', 'Hnědá, černá maska', 'světle zrzavo-bílá', 'zrzavá mourovatá větší', 'Bílo černý', 'Mourek s bílými znaky', 'Hnědá a Černá', 'stříbrno-světle-hnědý', 'Černá, bílé bříško', 'černá s pálenim', 'Šedivá s puntíky', 'hnědá s pálením', 'krémový, hřbet dohněda', 'světlá', 'Rezavo-černo-bílá', 'černo hnědá', 'Krémovo-bílá', 'Oranžová a tmavě hnědá', 'Černo hnědá', 'Rezavobílá', 'Světle hnědá, bílá', 'Šedá až stříbrná', 'šedo-černo-hnědá', 'Bílá se znaky', 'divočák', 'bílo,hnědo šedá', 'Černá, hnědé nohy', 'Mourovatá lehce nazrzl', 'Mourovato zrzavá', 'Piskova', 'Šedivo - mourovatý', 'Bílá, rezavé fleky', 'Černá s béžový pálením', 'Béžová s černými znaky', 'Cream sable (světlá)', 'Zrzavý s žíháním', 'Černá-bílá', 'Tmavý divočák', 'trikolorní a bílá', 'Žíhaná,šedá,hnědá', 'mourovatobílá', 'Šedivá', 'Zrzavá, světlá maska', 'Šedá/plavá', 'tmavě rezavá', 'Černohnědá s šedou', 'Šedočerná', 'bílá s oranžovými skvrnami', 'Mourinka, bílé ponožky', 'hnědo černá (vlkošedá)', 'černorezavobílá', 'Bílá, hnědá, černá,', 'Černo-zrzavá', 'černá s hnědými znaky', 'bílo, zlatá s černou', 'Šedivo-modrá', 'Rezavý, černá maska', 'šedohnědá mourovatá', 'Hnědá se znaky', 'Černo bílý', 'Černá, bílá, červená', 'Bilo-černo- mourovata', 'Bílá mourovatá', 'bílozrzavá', 'Šedá se znaky', 'Černý s hnědým pálením', 'merle', 'černá želvovinová', 'Stribrnošedý', 'smetanová', 'Hnědá tmava', 'Černý + bílé znaky', 'Bilá s černými fleky', 'Černobílá a hnědocěrná', 'Černá s bílou', 'Světle hnědá/rezavá', 'Modrá (šedá)', 'bíla s hnědými fleky', 'černo-šedo-bílý', 'Mourata', 'Mourovatý,bílé znaky', 'Bílomouratý', 'bílá+ barevné fleky', 'Zlato, stříbro', 'Bílá, černá, hňedá', 'bílokrémová', 'Hnědá s pruhy', 'Černo-zlatá', 'Hnědá s černým čumákem', 'Zrzavě mourovatá', 'Plavočerný', 'Černá, žíhaná', 'zlatobíláčerná', 'mouratý-bílé ponožky', 'Bílá, hnědá ouška', 'Mourovano bílá', 'Šedá mourovata', 'černá, prošedivělá', 'Bílo-hnědo-černý', 'oranžová', 'černá, hnědé pacičky', 'zrzek', 'zrzavá, bílé znaky', 'šedo černá s béžovým', 'zrzavá s bílými znaky', 'Černá, bílá, rezavá', 'Cerno hneda', 'Černá, světlá hlava', 'Mourinka', 'Bílá s šedomodrou', 'Bílá s hnědými skvrnam', 'Bříško má bílé', 'tygří zbarvení', 'černá s bílou hrudí', 'Hnědá, černá hlava', 'Černý, hnědé pálení a plavý', 'mourovatý s náprsenkou', 'dlouhosrstý mourovatý', 'Bílá+mourovaté fleky', 'Černá s hnědym pálenim', 'Béžová, černý čumák', 'Bíločerná', 'Bílá, černá maska', 'Krémově bílá', 'žíhaná hnědo-černá', 'černobílá, delší srst', 'Černo/bílá', 'Mourovatobílý', 'černohnědy', 'Bílá s hnědými prvky', 'Ruby', 'Mouravato šedá', 'Barevná', 'Mourovata', 'Divočák', 'divočáka', 'mourovatá/zrz', 'Rozeta', 'oranžový bělouš', 'rezavá, bílé packy', 'šedobílá, hnědobílá', 'Bílý, plavé znaky', 'Capuchino', 'hnědá, černá, bílá', 'bílá-béžová', 'Grizly', 'Světle rezavý', 'Mourovatý', 'černá a světlé pálení', 'Mourovatý černý', 'Šedý, mourek', 'Černá, rex', 'Střibrně mouratá', 'mourovato zrzavá', 'Bílá hnědé znaky', 'Bílomourovatá', 'Černá, bílé a šedé znaky', 'Plavá, černá maska', 'Bílá s černými skvrnam', 'Černohnědý', 'Strakatá', 'Bílá - krémová', 'Béžový', 'plášťová', 'biela s tigrovaním', 'Mourovaté', 'Lví žluť', 'Černo hnědá s bílou', 'Hnědošedočerný', 'Mourovaná s delšími chlupy', 'Černo-Žluto-bílá', 'Bílo-černý', 'bílo-zrzavá', 'Bílá, tmavá, zrzavá', 'hnědá čokoládová', 'Bluemerle s palením', 'Hnědá s tygřími znaky', 'Rezavý, bílá náprsenka', 'Bílošedá, mourovatâ', 'Bílá - trikolóra', 'Černý s bílou náprsenkou', 'Tmavá s šedým', 'černo-hnědý', 'Mourovatý a zrzavý', 'Tmavá šedá', 'Mourovany, bílé bricho', 'bílo-černá', 'hnědá s bílými znaky', 'Světlehnědá, bílé znaky', 'Bílá s šedou/okr', 'Sedivo rezato bílá', 'Bílo - béžová', 'rezavo-hnědo-bílý', 'Černá, hnědá', 'Rezavý s bílými znaky', 'Mourovata,bílé tlapky', 'Mourovaný šedý', 'bílá s hnědým sedlem', 'Zlatobílá', 'černo šedivá', 'Žlutočerná', 'čokoládová', 'Mourovatá s tečkami', 'Rezavý, bílé packy', 'šedý mourek', 'hnedo-cerno-bila', 'Šedohnedá', 'Hnědá s bílými prvky', 'Tricolora', 'světle zrzavý', 'Mourovatá (šedočerná)', 'Bílo zrzavá', 'černo světle hnědá', 'Tříbarevná, přev. bílá', 'šedá, černá, bílá', 'Černo-rezavá', 'Bílá, mouratý ocas', 'Hnědá černá bílá', 'světlý bílorezavý', 'Červenobílý', 'Černá, tmavě hnědá', 'Světle až tmavě hnědá', 'bílo rezatý', 'černá, bílá, zrzavá', 'Bilohneda', 'mourovato pruhovaný', 'hnědo-černo-zrzavá', 'bílá, polodlouhosrstá', 'Zlatá bílé znaky', 'černá, bílé bříško', 'Šedá ,na hrudníku bílá', 'Černá tříslová', 'Strakatá (hnědo bílá)', 'černobílá a béžová', 'Plavá', 'Bílá zrzavé mourování', 'Černá s bílou naprs.', 'trikolor', 'světle béžová', 'Rezavá, žíhaná', 'Blonde, brown', 'trokolor', 'Šedočerná, mourovatá', 'Černobilá', 'Bílá, barevné flíčky', 'bílá, černé puntíky', 'Bílá, mourovaté znaky', 'mourovatá, flekatá', 'Bílá, šedé znaky', 'Hnědý s žíháním', 'White & Brown', 'Černá se šedou kresbou', 'Šedo/stříbrná', 'Tmavá kouřová', 'Šedobéžová', 'Hnědá, krémová', 'Černá a černá se znaky', 'Hnědá s bílými tapkami', 'Vícebarevná', 'Oranžovo - bílá', 'Bílá + hnědě mramorová', 'Šedá s tmavymi znaky', 'světle hnědá a bílá', 'bílá-mourovaná', 'Seda', 'Zlatá s bílou náprsenkou', 'Bíločerný', 'Bílomourovatý', 'Černá / bílá / hnědá', 'Šedá a šedomourovatá', 'mourovata', 'Mourová', 'Bílo mourovatý', 'Tmavě hnědá s pálením', 'Hnědá s tmavými znaky', 'Černo bílo hnědý', 'Stříbrnohnědočerná', 'Bílo šedivá', 'Černo - hnědá', 'Bílo-mourovatý', 'Tříslová, modrá', 'Mourovaty', 'bílozrzavý', 'Zrzavočerná', 'Bílá s želvovinovými fleky', 'Zrzavý', 'zrzavý', 'Zrzavý, mourovatý', 'Světlá', 'Pískově hnědá', 'Bílá s béžovou', 'Bílomorovaná', 'černý s hnědým pálením', 'Bílý, šedomourovaté znaky', 'Černá bílými znaky', 'plavá s pálením', 'Hnědá, bílé packy', 'černo/hnědá', 'Bílá, šedé fleky', 'Hnědá do zrzava', 'Bílý s hnědou', 'Šedostříbrná s pruhy', 'Světle mourovaná', 'Hnědorezavá', 'černá s bílými packami', 'světle hnědá a černá', 'žemlová a hnědobílá', 'trikolóra', 'Blondak', 'Černá s bílími znaky', 'Žlutá', 'plavá', 'zrzavý s pruhy', 'šedobíločerná', 'Černý s hnědým pálením, prošedivělý', 'Bilo hneda', 'Oranžový, zrzavý.', 'stříbrný', 'Zlutobila', 'Šedomodrá', 'černo hnědá (typ rex)', 'mourovaný hnědý', 'bíločerné', 'Černohnědá a bílohnědá', 'Zrzavý, bílé tlapičky', 'Rezavo hnědý', 'Tmavě stříbrná', 'černo hnědo bílá', 'Zrzavá s bílým pálením', 'Světla - kremovy', 'Bílý s černými skvrny', 'Šedý mourovatý', 'Modrou-bílo-mourovatá', 'tmavý mourek s bílými znaky', 'piskova', 'Mourovatá šedá', 'Černá s hnědými a bílými znaky', 'černo-bílo-šedá', 'černo bílo hnědý', 'mouratá - čabraková', 'Zrzavá, šedá bradka', 'Mour', 'černá, tmavě hnědá', 'Hnědý, černé znaky', 'Šedivá, zrzavo-bílá', 'Tmavý s bílým čumáčkem', 'Barevný', 'Zlato hnědá', 'Hnědo-bíle', 'Černá hnědě fleky', 'Oranžovo mourovatá', 'Zrzavá', 'Bílo-šedo-hnědá', 'Mourovatá-bílá', 'Bílý, rezavé znaky', 'bílomourovatý', 'Zrzavá, černá a bílá', 'Mourovatá, bílé packy', 'tmavě hnědá, béžová', 'Stříbrný mour', 'Bílá, černé a nědé znaky', 'Tmavě mourovatá', 'Světlá, béžová', 'Bílá a černý flek', 'Zrzavobílý', 'Fawn', 'Černá s žíháním', 'šedobílý', 'Černá s náprsenkou', 'bílá, hnědá žíhaná', 'Bílá s černými skvrnami', 'mourka rezavě žihaná', 'Mourovatá,rezavé fleky', 'hnědo-šedo-blíá', 'Bílá, oranžové znaky', 'Černá s hnědou žíhanou', 'Kávovou krenova', 'žíhaná (více barevná)', 'černohnědobéžová', 'Bílošedá', 'béžovo-stříbrný', 'Černo-bílo-béžový', 'Bílo - černý ,', 'Zrzavo-hnědá', 'Bílá, Hnědé fleky', 'bílý, mourovatý', 'Bílo rezatá', 'Bílá s béžovými flíčky', 'Bílá s béžovými znaky', 'Šedá, mourovatá,delší', 'Hnědo - Černá', 'Střibrná', 'Stříbrno-bílá', 'mourek, bílé ponožky', 'černo-hnědo-šedá', 'Mourovaná, zrzavá', 'černá, hnědá, bílá', 'Bílá krémová', 'černá, zlatá náprsenka', 'Bílo hnědo flekatej', 'Černá a bílé ponožky', 'mourovatá s bílými znaky', 'Mourovo-bílá', 'Murovany', 'Zrzavo-bloňdatá', 'Černošedá, mourovatá', 'béžový a černý', 'černá s pálením', 'šedá mourovatá bíle tl', 'Černo bílá', 'Modrá/šedá', 'Šedo-mouratá', 'Zrzavá a bílá', 'Rezavá písková', 'bílá s tmavšími znaky', 'Mourovatý a černobílý', 'červeno-hnědá', 'Mourek', 'černobýlá', 'Černá, bílá naprsenka', 'Černá se znaky a Bílá', 'bílá, sv. béžové fleky', 'Bílý/ mourovaté znaky', 'Bílá s mourovatými fleky', 'mourovaná-bílá', 'Bílohnědý', 'Strakato mourovatá', 'Hnědočerný, hnědé pálení', 'Hnědočerná a vlkošedá', 'bílá,šedá', 'Bílo černohnedá zrzavá', 'cerna s hnedymi znaky', 'Bílý-hnědé skvrny', 'Světlý', 'Černá s bílou maskou', 'bikolorní a žíhaná', 'Mourovatá hnědá', 'Zlato - stříbrný', 'šedo-bílá', 'trikolor a zlatý', 'Bílo-rezavá', 'Černý', 'mourovaná, bílé tlapky', 'bílá se znaky', 'Šedá,bílá naprsenka', 'Černá, béžová', 'světlá, písková', 'Bílá s černými skvrny', 'bílý, mourovaté fleky', 'černá- žíhaná', 'Bílý s mourovatými flíčky', 'Sedá', 'černý se znaky', 'Zlatý Labrador', 'Černo-hnědý', 'šedočerná', 'Bílá s šedým ocasem', 'dlouhosrstá - rex', 'Hnědý, mourovatý', 'Flekatá, merle', 'Šedočerná (pepř a sůl)', 'plavý', 'černá, žíhaná', 'Bílo šedý-mourovaty', 'zlatá s bílými znaky', 'mourovato-bílá', 'Strakatá hnědá', 'Černo rezavo bílá', 'Krémově béžová / zlatá', 'zlatá / červená', 'světlý, štěňata hnědá', 'Černo zrzavá', 'Rezavo-černý', 'Černo Bílá', 'Rezavá s bílou', 'zrzavá s bílou', 'Černa žíhaná', 'Šedo černá (vlčí)', 'šedo-černě mourovaná', 'Andy hnědá, Bruno černý', 'Bílá/černá/hnědá', 'Šedo - béžová (tmavší)', 'Černá a hnědé packy', 'Svět.šedá+tmav.skvrny', 'Černo-rezato-hnědá', 'plavá a černá', 'Béžová, bílá', 'Bílo šedá se skvrnama', 'šedostříbrný', 'bílý, zrzavý ocas', 'černá s grošovanými znaky', 'bluemerle šedivá+hnědá', 'černá s bílými fleky', 'Color point', 'černá,žíhaná', 'hnědá(zlatá)s pálením', 'Bílý se zlatými fleky', 'Černobila', 'šedá a bílá', 'Bílý černý', 'Šedo-bílý', 'Žíhaná hnědá', 'rezatá - tmavší hřbet', 'Bílá s tmavou hlavou', 'Smetanová', 'Bílo, černo-hnědá', 'písková, černá maska', 'mourovatá, hnědá', 'Béžová,bílá', 'černobílá a hnědobílá', 'Hnědobílá', 'Mourovaná s bílou', 'Strakatá, šedá', 'tmavě žíhaná s bílými znaky', 'Černostříbrná', 'Černá s jemným žíháním', 'Mourovato-bílý', 'Hnědo - černý', 'Sedobílá', 'černá a rezavá', 'Žíhaný, bílá náprsenka', 'bílá, se zlato-černou', 'Hnědý žíhaný', 'Hnědá, žíhaná', 'Černá se světlým', 'Mourovatá do zrzava', 'Ocelová -šedá', 'Bílá, zrzavé flíčky', 'Šedá, bílá, černá', 'černo - hnědá', 'Černá, hnědé znaky', 'Šedo-černo-bíla', 'hnědo-černá', 'Hnědá/ tmavě šedá', 'černošedivá', 'Bílorezatý', 'rezatý mourek', 'Bílo-šedivá mourovatý', 'ČERNÁ', 'Mourovatá - Savanova', 'zlatá', 'Bílo - černo - hnědá', 'stříbrná', 'tříbarevná a černý', 'Bílá, rezavé znaky', 'bílá s černými fleky', 'Mourek, do zrzava', 'Bílá/zlata', 'Zrzavohnědá', 'Bílá s hnědým pálením', 'Želvoviná', 'Hnědá s černým genem', 'dlouhosrstý mourek', 'Pšeničná', 'šedobéžová, černá', 'Orange sable', 'bílá a oranžová', 'bílá až světle béžová', 'Černá, šedá tlama', 'Bílý mourovatý', 'Tmavá s žíháním', 'zlato hnědá', 'Světlá šedivá', 'Bílá, černá a šedá', 'Žíhaný', 'mourovatý, bílé břicho', 'Světlá krémová', 'Černé žihaní a bílá', 'šedá s bílou náprsenkou', 'svetla bezova', 'šedo-hnědá', 'Tmavě hnědá až černá', 'žíhaná s bílými znaky', 'Hnědorezavý s bílou náprsenkou', 'Bílo-mouratá', 'Černa, hnědá', 'šedo béžová', 'Zlatá - rezavá', 'Bílá s mour. znaky', 'seda/hneda', 'Černá a zihana', 'Trikolor-oriskova s bílou', 'Želvovina', 'černá, zelené oči', 'Bílá, černé pravé ucho', 'Černá s bílým flekem', 'černá-bílá-žlutá', 'Mourovatý, bílé znaky', 'Šedá a černá', 'Hnědá/černá', 'Moutovata', 'šedý se znaky', 'Bílá a mourovatá', 'žíhaná', 'Barevny', 'bílá, béžová', 'Zrzavá s bílou', 'bílo-tmavě hnědý', 'pšeničná', 'Černo zlata', 'Bílá s flíčky', 'Zrzavá, bílá náprsenka', 'Bílý s černým ocáskem', 'Černá  se znaky', 'Rezavo-bílá', 'Světle béžové až bílá', 'černo bílý se žíháním', 'Bílá, na zádech flek', 'Tmavý s pálením', 'Trikolór', 'černohnědá,bílé znaky', 'Zrzavý s bílými pruhy', 'světle šedá, mourovatá', 'Modrá s bílými znaky', 'Strakata mix', 'Melirovaný černo šedý', 'Pepř/sůl', 'Red tri', 'Bily a oranžové fleky', 'Bílá se šědými flíčky', 'bílá, stříbrná', 'Zrzavá, obličej černý', 'Černo bila', 'Bílo Zrzavá', 'Bílá s šedočernou', 'želvinová', 'Bilohnědá', 'černobílá, krátká srst', 'béžovobílá', 'Bílou mourovaty', 'bílá s tmavými fleky', 'plavá, tmavá maska', 'Bílo, zrzavou, černá', 'Bílá fl.kol oči, bílá', 'Čokoládová/modrá', 'Stříbrnobéžová', 'Mourovatý, šedivá', 'Bily mourovaty', 'Rednose', 'černá, hnědé znaky', 'Krémová, hnědošedá', 'Hnědobíla', 'hnědá, s čeným pálením', 'Bílo-černo-hnědy', 'béžová a černobílá', 'Černá s hnědými a bílý znaky', 'Rezava', 'šedo-tmavě hnědá', 'Hnědobílá, černé uši', 'zlata', 'černobílá, černá', 'hneda', 'Béžová a bílá', 'Černá, lehce prošedivá', 'Šedobila - mourovata', 'Černo/hnědo/bílá', 'Černo stříbrná', 'Stříbrošedá', 'černá s hnědým pálením', 'Zrzavý blonďák', 'Černá, bílé tlapky', 'Černá s hnědým detaily', 'Černohnědý, šedý krk', 'Černá, hnědé pálení', 'Černo šedivo béžová', 'Bílo šedá', 'Modrošedá, mourovatá', 'Bílá + fleky', 'mourovatá, bílé tlapky', 'Zlatá (červená)', 'červeno-bílý', 'Černo-Bílá', 'hnědočerná', 'Bílá, Hnědá', 'Zrzavá/hnědá', 'zrzava', 'Tmavě hnědá s bílou', 'Bilo-šedá', 'Játrově hnědá', 'Tabby', 'Rezavá, Mourovaná', 'černo - bílá', 'Bílá, hnědé fleky', 'Bígl - hnědobílý', 'hnědo-černá, žíhaná', 'Mourato-bílá', 'Bílá, žíhaná', 'Černà', 'Mourovato - bílá', 'Stříbrná, hnědé znaky', 'šedo hnědá', 'černý s šedými znaky', 'světle plavý', 'Černá, prošedivělá', 'béžová s tmavými odznaky', 'Černá-bílé packy', 'Rezavobílomourovatá', 'trikilor', 'hnědo černo šedé', 'Bílomourovata', 'Černo, hnědo, šedá', 'černo-hnědo-zrzavý tygr', 'Černá, šediny', 'šedo zlatá', 'Bílá s tmavými fleky', 'Bílo-hnědý', 'Šedobílý mourek', 'Černo bílo hnědá', 'Černá s pálením a světle rezavá', 'černobílá', 'černá a černá s bílou náprsenkou', 'Blue merle s hnědým pálením', 'Černo béžová', 'Bílá s hnědými skvrnami', 'šedo-bílá, mouravatý', 'Bílá, černé a hnědé znaky', 'Bílá a šedá', 'Hnedozrzavá', 'Bílomourovatozrzava', 'mourovatá, šedá', 'Bílo oranžova', 'Bílá/mourovatá', 'bílá, mourovatá', 'Černohnědý s lysinou', 'Černo rezavá', 'Hneda', 'Hnědočerná s bílou', 'převážně bílá + černá', 'Hneda s zihanim', 'zrzavo hnědá', 'světle béžová s odznaky', 'Hnědočervená', 'hnědá s šedými chlupy', 'Šedá s bílou lysinou', 'želvovinová', 'Hnědo - bílá', 'bílo hnědo černý', 'Mourovany šedý', 'Zrzavo-bílá', 'hnědá s černými pruhy', 'Zlatá /bílá', 'bílá, žíhaná', 'Zlatá a Béžová', 'béžová, hnědé fleky', 'Šedá, bílé ťapičkami', 'Červená s pálením', 'Žíhaný, bílé znaky', 'hnědo-šedá', 'tmavě mourovatá', 'Žíhaná, bílé znaky', 'Zrzavo-bila', 'Stříbrně tygrovaný', 'Mourovatobílá', 'Želvovinovå', 'Strakatá, modré oči', 'bílá+hnědé a černé fl.', 'Hnědá, grizzly', 'Zlatá/ oranžová', 'Zrzatá, mourovatá', 'Mourek černo šedý', 'Bílá/rezavá', 'Hnědá až do černa', 'Černohnědá bílá hruď', 'Světle hnědá,capucino', 'Černá,  šedá', 'Černozlatý', 'béžovo-šedý', 'Mourovatý, bílé tlapky', 'tmavě žíhaná', 'Černá s hnědými znaky', 'Černo-hnědá', 'Bílá,hnědá,černá', 'Bílý s černými znaky', 'bílorezavý', 'Jelení červeň s maskou', 'Černá, bílá a hnědá', 'Tmavěhnědá', 'světle hnědá', 'Modro, šedo, bílý', 'Bílo - hnědá', 'černo-hnědo-bílá', 'světle šedá', 'Stříbrnočerný', 'Šedo stříbrná', 'Bílé-zlatý', 'modrá', 'mourovatá černošedá', 'Mourovatá, okrový ocas', 'Zrzavý karamelovy', 'Trikolóra', 'Kremova', 'Bílá, mourovaný ocas', 'Bílá s mourovatýflíčky', 'Modrobílá', 'hnědo bílé', 'Šedá s hnědou', 'zrzavý a černý', 'mourovatá černá', 'Tmavší pepřová', 'bílá, hnědá, šedá', 'Cervena', 'hnědý mourovatý', 'bílá - hnědá', 'šedý', 'Světlá, záda tmavá', 'Bílá, strakatá', 'Krémová až bílá', 'Čisté bílá, černý ocas', 'slámová', 'Bílá, černý ocas', 'blue merle, stříbrná', 'Rezavý, bílé znaky', 'Černo hnědo bílá', 'Bílá - mourovaná', 'Hnědo-černo-béžový', 'bílý s černými skvrnam', 'šedočerná, delší chlup', 'Světlá - žlutá', 'Zrzavá-bílá', 'černá s bílou náprsenkou', 'Bílá, světle hnědá hl.', 'šedá s béžovým nosem', 'Bílá/šedá', 'mourovatá, bílá', 'Hnědá s černým žíháním', 'bílá, trikolor maska', 'Modrá', 'Hnědo béžová', 'Hněda', 'hořčičná', 'Černá, hnědá, šedá', 'Mourovatá s náprsenkou', 'šedý mourek, bílé packy', 'Stribrnošedá', 'Modroplavá, šedá maska', 'Fawn, černá maska', 'Rezavo-hnědo-bílá', 'mourovatá hnědá', 'Zrzavá, žíhaná', 'Modro bílá', 'Hnědá s náprsenkou', 'světle rezatý', 'černě želvovinová', 'Bílá, šedé skvrny', 'Mourovana, bila', 'bílá, rezavá, šedá', 'Bílo-zlatá', 'Hnědo-černo-bílá', 'šedá, hnědá', 'Bílá s mouratými znaky', 'hnědá,strakatá', 'Tmavě zrzavá', 'Bílo - mourovatá', 'Bílá,černý ocas,', 'bílooranžová', 'Bílo-zrzatá', 'Černá žíhaná do zrzava', 'sobolí bílá', 'rezatobílá', 'klasika,modré oko', 'Světlý šedobéžový melír', 'Hnědá, černá, bílá', 'Šedá s bílou', 'Černá tečkovaná barva', 'Černo-bílo-hnědá', 'Rezavá, béžová, černá', 'Šedo-písková', 'Mourovatá, bílá', 'Černa s palením', 'Černá bílá', 'Rezavá s bílou náprsenkou', 'tříbarevný', 'Černá, na bříšku šedý', 'tmaná', 'bílá, hnědá, černá', 'černo - béžová', 'Hnědo-černá s bílým', 'hnědobílý', 'Písková', 'Modrá,šedá', 'Světle hnědá, bílé znaky', 'zrzavá,bílá', 'Černá s bílou a hnědou', 'Hnědá, černá, šedá', 'bílá,hnědá', 'Bílá s moury', 'Černohnedá', 'Zrzavo-běžový', 'Béžová, (+bílá)', 'Modrošedá', 'Světle hnědá,černé zád', 'Třibarevná', 'krémovo-černá -mod. oč', 'Rezavý', 'Šedostříbrná (whiskas)', 'Bílo-hnědo-černá', 'Grizzly', 'Rezavá, prošedivělá tlama', 'šedomodrá-mourovatá', 'Mourovatá, bílé tlapičky', 'Černobílá a černohnědá', 'mourovatý', 'Bílo černý s hnědou hl', 'Rezatobílá', 'Bílá a zrzavé fleky', 'Hnědá, rezavá', 'hnědá, zrzavá', 'mourovatá, bílé znaky', 'Světla pšenice', 'Rezavo hnědá', 'cerno/siva, sůl a pepř', 'Rezavá, bílá náprsenka', 'Bílá s barevnými fleky', 'černá, bílá', 'bílý + zrzavé skvny', 'Hnědošedý', 'Béžovozrzavá', 'Světle zrzavá', 'Blond', 'rezatá', 'Tři barevná s bílou', 'žlutá', 'Šedá s pruhy', 'Šedostříbrná mourovatá', 'kremová', 'černá, bílý spodek', 'Pepř a sůl', 'bílá s mourováním', 'šedý, dlouhosrstý', 'Rezavá/hnědá', 'blue merle', 'Zlatočerná', 'Hnědá čokoládová', 'Bílá s rezavými flíčky', 'Cerna s hnedymi fleky', 'Rezavo-černá', 'Rezavá s bílými znaky', 'žíhaná a bílá', 'šedohnědá', 'Bílý/hnědé znaky', 'hnědobílá', 'Hnědá, černá', 'Pepř-sůl', 'Černá, hnědá, bílá', 'Bílo-krémová', 'Černá a hnědým pálením', 'merle (černá s bílou)', 'světle hneda', 'Světlý a černá', 'Béžovo-hnědá', 'Mourovata, bile bricho', 'rezavo-černo-bílá', 'Hnědá, světle hnědá', 'Sv. hnědá', 'Bílo Šedivý', 'bílý', 'Černo  - bílá', 'černá se zrzavými znaky', 'Mourovatý s bílými znaky', 'bílo zrzavý', 'Bilo-rezata', 'wit zwart', 'Tmava s rezavou', 'Žíhaná velké bílé znaky', 'Bílo šedě mourovatá', 'Černá (bílá náprsenka)', 'zrzavá, bílá', 'Hnědá/zrzavá', 'Stříbrnozlatá', 'Mourovatý, šedá, bílá', 'Černo - rezavá', 'Tmavě šedá, bílé znaky', 'Černá se světlou podsadou', 'Rezavo bílá', 'bílá káva', 'bílo šedý', 'černo-hnědo-zlatá', 'šedočernobílá', 'tmavý mourek \"tygr\"', 'Černá -Bílá', 'Kouřová, tmavá melír', 'Bílo/hnědý', 'Černý, žluté oči', 'Hnědostříbrná', 'Barva divočáka', 'Zlato hnědočerná', 'Bílo šedý', 'Strakata', 'Černá s bílou lysinou', 'Hnědá s bílým odznaky', 'Mouratá, bílá', 'Mourovatá,hnědé skvrny', 'Bílo- šedá', 'Béžovo-černý', 'Bílá s hnědými znaky', 'Béžovo-černá, vlkošedá', 'vlkošedá', 'Černá s rezavými fleky', 'šedo-hnědá dlouhosrstá', 'Černá s rezavým žíháním', 'Světlá smetanová', 'Stříbrná', 'Hnědá mramorovaná', 'Plavý', 'Hnědá se světlými flek', 'Šedo-černo-bílá', 'Černý s hnědým', 'Šedo hnědo černá', 'Světle hnědý', 'Bílorezavy', 'Lila', 'bílo-rezavo-šedá', 'černý s bílou náprsenkou', 'Smíšená', 'Bílo šedivý', 'Zrzavo bílí', 'černá, hnědá', 'bicolor', 'Zlatá', 'bílá, s fleky', 'Šedomodrá, bílé znaky', 'Mourovatý tygr', 'Hnědo-zrzavo-bílá', 'Černá, bílá, hnědá', 'mouratá, šedá', 'Černo hnědá bílá', 'Morovatá', 'černobílohnědý', 'žíhaná s bílou náprsenkou', 'fawn (hnědá)', 'Převážně bílá', 'Bílá, fleky', 'želvinka', 'černá, bílé ponožky', 'hnědo bežova', 'bíločerný', 'Strakoš', 'Rezavá', 'Bílá rezavá s šedou', 'šedohnědý', 'Kouřově hnědá', 'Bílo šedá mourovatá', 'Černo,šedo-bílá', 'Bílo hnědo černá', 'bílá, šedo-bílá', 'Světle hnědá', 'Bílozrzavá', 'Zerzava', 'tříslová stříbrná', 'Bílá mourovaná', 'šedočerný flekatý', 'Šedá žíhaná', 'Rezavohnědá', 'šedá, pod krkem bílá', 'Bílý a tricolora', 'šedivá', 'Zlatá/bílá', 'Hnědo bílý', 'Hnědá, černé znaky', 'světlé hnědý naháč', 'Žíhaná', 'černá+rezavá/bílá', 'Krémovobílá', 'mahagon', 'zrzavá s bílými fleky', 'Bělouš', 'Červená -žíhaná', 'Bílo-černo-zrzavá', 'šiml', 'Hnědý, bílá náprsenka', 'Bílo černo hnědá', 'mourovato rezatá', 'Světlá vlkošedá', 'Bílá se žíhanými fleky', 'Rezatá,bíla,černá', 'Černý, světlehnědé pálení, bílé znaky', 'Zrzavý,mourovatý', 'šedostříbrná', 'Hnědá, Zrzavá', 'béžová a šedočerná', 'Hnědá světle', 'Bílá, šedočerná', 'Černo-Šedo-Bílá', 'světle rezavá', 'hnědožlutá', 'Bílá, mourovatý ocas', 'černošedá s pálením', 'Tmavě hnědá , s bílou', 'Rezavá a bílá', 'Bílá, hnědá hlavička', 'Černá, bilá náprsenka', 'Bílá béžová', 'Mourovaná, bílé znaky', 'Hnědá, rezatá', 'Černošedá - bílá', 'Trojbarevný', 'Mourovatá s odznaky', 'tříbarevná', 'Šedo/černo/hnědý', 'bílorezavá', 'Černá- bila náprsenka', 'mourovatá bílá', 'Šedo černá', 'Černobílá a hnědá', 'Mourovatá, žíhaná', 'hnědá, bíla a černá', 'béžová, hnědá, černá', 'bílohnědošedá', 'Bílá s hnědé skvrny', 'Šedostříbrný', 'Rezavo bílý', 'Bílá, mourovatá', 'Zrzavo bílý', 'Krémová', 'Morouhaná', 'Mourovatá + zrz + bílá', 'Bíla hnědá  černá', 'šedá hnědá bílá', 'Plavá s bílými znaky', 'Černá s hnědým pálením', 'Šedivá, bílé prvky', 'černá s bílou', 'Hnědobílý, rezavý-bílé znaky', 'Černá nádech do hněda', 'Bílá se zrzavými znaky', 'bílo šedá', 'Mahagon', 'Rezavá-bílá', 'bílo - šedomourovatý', 'Bílý s flekama', 'Hnědá-Zrzavá', 'Černá se zlatým pálení', 'Stříbřitě šedá,mourova', 'albín', 'hnědé pruhy', 'mramorová šedopísková', 'Rezavá / hnědá', 'Rex', 'Středně hnědá až rezavá', 'Bílo-zrzavo-hnědá', 'Hnědožlutá', 'grizzli/hnědá', 'Černobílé barvy', 'bílo-hnědá', 'Zlato-béžová', 'Hnedo oranžová', 'zrzavá s černým žíháním', 'černo,šedo,hnedo,bily', 'Černá - dlouhá srst', 'Šedivý s mourováním', 'hnedo-bezovo-bila', 'Mourovatá šedobíla', 'hnědosědý mourovatý', 'Mourek-bílé ponožky', 'Bíla, mourovatá', 'Bezova', 'Hnědo bílá', 'Černá s bílými packami', 'Bílo-zlatě-šedá', 'Mourovatý s bílým', 'Světlé hnědý', 'černé pálení', 'Bíla', 'Tmava s pálením', 'Hneda cerna', 'Mourovarý', 'Černý zespod černhnědý', 'bílá, tmavé skvrny', 'Žihavá', 'mourek', 'černo-bílá', 'Mourovatá, světle šedá', 'Černobílý', 'Černo-bílo-zrzavá', 'Černo-šedá', 'Hnědák, Ryzák', 'Stříbrno-zlatá', 'tříbarvená', 'mourovaný', 'Bílo-rezatá', 'Bílý s fleky', 'Stříbrný', 'Více barevná', 'Bílá, trikolora', 'černá, šedá', 'Mourovatá, cappuccino', 'Žihaná/strakata', 'Šedobíla', 'Mourovato-bílá', 'tmavý bělouš', 'Černá, bíla náprsenka', 'Bílo-šedivý', 'Mourovatá, bílé tlapky', 'Černá a trochu bílá', 'Hnědo-černá-bílá', 'Žluto-zrzavá', 'Hnědý s černým palenim', 'hnědo stříbrná', 'Bílá, hnědá, černá', 'Bílá, šedé a hnědé znaky', 'Bílá s černými puntíky', 'Mourovatý s bilými zna', 'Mourovata-bílo-zrzavá', 'Bílá,zrzavá, černá', 'Cream sable', 'Černá s hnědým pálením, bílé znaky', 'Žlutá, Písková', 'hnědo černá', 'Černošedivá', 'Bílá, černé znaky', 'Černá (bříško hnědé)', 'světlá kremová', 'černá a bílá', 'Bílá s šedivý flekem', 'Černý a želvovinová', 'Hnědočerný', 'Žíhaná tmavá', 'Černo hnědý', 'Bílozlatý', 'mourovatá, bílé packy', 'Šedo bílý', 'Hnědá, černé pálení', 'Hnědá bílá', 'Hnědo- černá', 'světlá, béžová', 'Zlatá, zrzavá', 'hnědý šiml', 'Tmavě hnědou zlatá', 'Bílo hnědá', 'šedý s bílými znaky', 'Šedo- černá', 'Černá, místy hnědá', 'Béžovošedá,černé sedlo', 'Hnědo černá', 'Bílomorovatý', 'Whiskas', 'Želvovinová+bílé packy', 'Tříbařevná', 'Grizzly/hnědá', 'Černo-bílo-rezatá', 'Bicolor', 'Černá, bílé a hnědé znaky', 'hnědo-černo-bílá', 'Tmavá barva divočáka', 'bíla s plavou, žíhaná', 'černá, strakatý', 'bílá a mourovatá', 'Hnědozrzavá', 'Černo-bila', 'Černá/šedá/hnědá', 'Tmavošedá', 'tmavá žíhaná', 'Mourovatá/bílá', 'Hnědo-stříbrná', 'Bílo-Zrzavý', 'Zrzavocerna, zrzava', 'béžovočerná', 'Kaštanová', 'zihaný', 'Zrzavo -bila', 'Mourovatý, bílý', 'Mourovatý, dlouhosrstý', 'hnědobílá a hnědočerná', 'Hnědá s rezatými chlupy', 'Hnědá, bílé znaky', 'Béžovo - hnědá', 'Bílý, černý, modré oči', 'Vlko-šedá', 'Černá, bílé břicho', 'Bílá s černýmy fleky', 'bílo-mourovaná', 'zlato bílá', 'Šedo-hnědá', 'Bíla a hnědé fleky', 'Zrzavá a tříbarevná', 'černá - hnědá', 'Bílo/šedo mourovatá', 'Bílo- černý', 'šedá, černá', 'černobílý', 'černá, hnědá, krémová', 'Šedá/béžová', 'Pískově béžová', 'Bílá dlouhosrstá', 'Hnědo-černá', 'hnědo zlatá', 'zrzavá mourovaná', 'Mourek s bilou', 'šedo černá', 'Šedá, černá', 'Šedivo černý', 'světle zrzavá', 'bílý s rezavými fleky', 'Černošedobílá', 'Kouřová', 'Červená s bílou náprsenkou', 'Stříbrná, mourovatá', 'tygřík', 'rezavo bílý', 'Černobílé', 'tříbarevná a rezavý', 'Mourovatá, šedá', 'Písková/černá', 'Kouřově černá', 'Černá-bílá náprsenka', 'Mourek, bílé znaky', 'Hnědý s bílou náprsenkou', 'světlý zrzek', 'Bílo-hnědá', 'Hnědo rezavá', 'Černobílá mourovatá', 'Žíhaná z bílou náprsen', 'Šedo modrá', 'Cerna', 'Šedo-Černá', 'bilošedá', 'bílohnědá', 'Béžová mourovatá', 'bílo-šedočerno-hnědá', 'světlý s černým pruhem', 'bílo- rezavá', 'Zrzavo-bílý', 'Krémová s bílou náprsenkou', 'Oříškovo černá', 'Černá s hnědou', 'Černá se zlatým', 'Bílohnědá', 'Červená s příměsí', 'Viz foto', 'Zlato hneda', 'Zlatá s šedivou', 'Černá, bílá, zlatá', 'hnědo-bílý', 'Šedá mourovatá', 'oranžovo - bílý', 'Bílá a hnědá', 'bílá+zrzavá+mourovatá', 'Béžovohnědý mourek', 'Červená', 'Stříbrno hnědá', 'zrzavá', 'Černá s bílým znakem', 'Tmavě hnědá, čokoládová', 'šedá mourovatá', 'Šedohnědobíla', 'Bilo černá', 'mourovatá šedá', 'Zrzavo hnědá', 'Mourek dlouhosrstý', 'zlatobílá', 'Hnědá + bílé tlapky', 'světle hnědá - písková', 'trikolor a černo hnědá', 'Černá a Bílá', 'Šedá/stříbrná', 'Rezatá s mourovaním', 'Tmavá s pálením', 'bílá s hnědou hlavou', 'Černá s hnědým žíháním', 'Strakatá - bílo/hnědá', 'mourovato-bílý', 'Bíla/smetanová', 'Černá hnědé pálení', 'strakoš,fawn', 'Bílá s hnědýma flíčkama', 'šedě černě mourovaný', 'Bílý s rezavými znaky', 'Černá žíhaná', 'černá a zlatá', 'Bílá, do béžova', 'Bílá a mourovaté fleky', 'Černý s bílými znaky', 'ruská modrá', 'červená - bílá', 'světle hnědá s hnědými pruhy a tečkami', 'Černý s žíháním', 'Bíločerní, bílý', 'Zrzavá/červená', 'Rezavá,bílá náprsenka', 'Bílá až krémová', 'Mourovatý, černé pruhy', 'Hnědočervená, bílé znaky', 'Černo-šedý', 'Tmavý mourovatý', 'Hnědo, černý', 'Světla mourovatá', 'šedo béžová s mourováním', 'černozrzavá', 'Mourovatý s ponožkami', 'Hnědo - černá', 'bílo-mourovatý', 'Hnědá s bílou', 'Šedozrzavá', 'Vlkošedá - tmavá', 'Seda-okr', 'Černá s bílou lisinkou', 'černá, bílé skvrny', 'Tan and black', 'Bílá, béžovošedé znaky', 'Béžovo rezavá', 'Bílá se skvrnami', 'Krémovo zlatá', 'Bílá', 'Zlato-stříbrno-černá', 'Bílá,černé a rezavé znaky', 'Zlatá s bílými znaky', 'Bílo hnědý', 'Flekata', 'zlatá s bílou', 'Bílá se šedými fleky', 'Želvovinové zbarveni', 'Hnědá, tmavý hřbet', 'Šedá, stříbrná', 'Šedočerná, bílá náprsenka', 'černý', 'Bílo - rezavý', 'Tricolor (spíše černá)', 'Převaž.bílá až šedá', 'Mourovaty, šedý', 'bílá, černá, rezavá', 'Černá s bílou náprs.', 'Černá a Mourovaný', 'kouřová černá', 'Zrzava bílá strakata', 'Bílá (hn.+čern. fleky)', 'černo zlatá', 'hnědo-černý', 'rezavobílý', 'Celá černá, hnědé oči', 'Zlatá až hnědá', 'Bílá se zrzavými fleky', 'Zlatá/Bílá', 'zlatá a rex', 'Bílá, černo-bílá', 'Bílá a tmavá káva', 'Černá , bílý čumák', 'Bilohnědý', 'Red', 'tmavě hnědý', 'Bílá, hnědorezavé znaky', 'Světlá s tmavým žíhání', 'Černo/hnědý', 'hnědo-bílá', 'Žíhaný hnědo bílá', 'Černošedá, bílé tlapky', 'Bílá + černá', 'Bílá, plavé znaky', 'Smetanova', 'Hněda, cihlová', 'Šedý, bílé znaky', 'tmavý žíhaný s bílou bradou', 'Cernobila', 'žemlová', 'Želvovinová', 'tříslová, stříbrná', 'černo-šedý', 'Bílý s černou hlavou', 'Mourek, bílá brada', 'hnědý mourek', 'Bílý', 'bílo - černá', 'Zlato bílá', 'černá', 'mourovatá - žíhaná', 'Bilo, šedá', 'Šedá, mourovatá', 'bílo/šedá', 'Čokoládová a černá', 'černá a žíhaná', 'Černo-bílý', 'Hnědo-šedo-bílá', 'Zrzavohnědá mourovatá', 'Černo-bílá', 'Mourovatá, bílé znaky', 'Bílo černá', 'Bílošedý', 'Hnědočernozlatý', 'Mourovatá s bílými znaky', 'Černobílý, hnědé znaky', 'Bílá se žlutými znaky', 'tricolor', 'Černá, plavobílé znaky', 'Tmavá dlouhosrstá', 'Mourovatá s bílou náprsenkou', 'černá hnědá', 'Mourovatá dlouhosrstá', 'Tmavě hnědá, černá', 'modrobílý', 'Bílá, jedno ucho hnědé', 'hnědo bílá', 'Krémová bílá', '2x Bílá se žíhaním', 'Modro-šedá', 'Biloseda', 'krémovo-zrzavá', 'Černý s bílou hrudí', 'modrobílá', 'černé mourování', 'trikolora', 'Černo-žíhaná', 'Hnědooranžová', 'černá se šedinami', 'Zlatá, hnědá', 'Bílá, hlava hnědá', 'bílá, šedá mourovatá', 'Svetlý+pruh na hřbetě', 'bílo-rezavá-mourovatá', 'Hnědo-černý', 'šedo-světle hnědý', 'Šedobílá mourovatá', 'Bílorezavá', 'Bílá s černou hlavou', 'Hnědá -žíhaná', 'rezava', 'Zlata/hnědá', 'Šedá, bílé znaky', 'Třibarevna', 'Bílá a bílá s hnědými fleky', 'Bilo- zrzavý', 'bílá a šedobílý', 'bílo hnědá', 'Černá s bílým bříškem', 'Béžovo-zrzavá', 'Hnědá a černo hnědá', 'Černo-želvovinová', 'bílo hnědý', 'Žíhaná, bílá náprsenka', 'Trikolora-černá', 'zrzavo bílá', 'Černá s oranžovým pále', 'Černá, tlapky do hnědá', 'Stříbrná a zlatá', 'Černá hlava bílé telo', 'hnědá, nazrzlá', 'Bluetan', 'Černo-zrzavý', 'šedo-mourovatá', 'Bílá - hnědá - černá', 'Cerna, bila naprsenka', 'černobila', 'Bílá, mourovatá hnědá', 'Stříbrný, mourovatý', 'Bílá černé fleky', 'Typický BSP', 'Platinove blond', 'Černobilý', 'Trikolor', 'Tmavě a svétle hnědá', 'hnědá, mourovatá', 'bílo černý', 'Černá, bílé znaky', 'Béžovo-bílá', 'bílá,krémová', 'Bílá a černá', 'bilo cerna', 'Tmavá s pálenými znaky', 'bílošedočerná', 'mourek s bílým bříškem', 'béžovo šedo stříbrná', 'Černa s pálením', 'Bíla s černýma tečkama', 'Pink & Grey', 'Žemlová', 'Šedá mourovana', 'Bílá, hnědý obličej', 'Vlkošedý, černá s hnědými znaky', 'Černo-bílá s pálením', 'Černý s pálením', 'Bílo zrzavé fleky', 'Hnědo- černa', 'rezavo-bílá', 'Black with white marki', 'zrzavo-hnědá', 'Béžová, žlutá', 'Rezava s bilym', 'Mour, delší srst', 'černá, mírně do hněda', 'mourovatá, rezavá, žíhaná', 'Kouřova', 'Světlý mourek', 'Černá + bílá náprsenka', 'Černá bílá hnědá', 'Bílá s odznaky', 'Černá (zrzavá+bílá)', 'Mourovatá/Tygrovaná', 'Tříbarevná s mourování', 'černo hnědý', 'trikolor a hnědá', 'tmavý, s bílými znaky', 'Sedo-bilo-hneda', 'Blond/černé žíhání', 'Bílošedá mourovatá', 'bílá s černými znaky', 'Bílo černá flekatá', 'šedá, bílá, hnědá', 'Zlatá s bilou náprsenkou', 'Černá, bílá', 'Světle hnědá béžová', 'Čtyřbarevná', 'Sedí hnědá', 'Červenobílá', 'Bílá-černá', 'Šedivý mourek', 'Vlkošedá - černošedá', 'Černo -bílá', 'bílá / hnědé ucho', 'Hnědočerná a béžová', 'Černá s bílímy znaky', 'Černo šedivá', 'Hnědý, žíhaný', 'Bílo-žíhaná', 'Čokoládová', 'Černá, bilá', 'Blue Merle', 'Hnědo-šedá', 'Bíločerná s hnědou', 'bílá, hnědé skvrny', 'Hnědá s černými znaky', 'Tmavě šedá - stříbrná', 'Mahagon (rezavá)', 'Oranzovy', 'šedomodrá', 'Černo- bílé', 'Zlato černo bílá', 'hnědý žíhaný', 'černo-světle hnědou', 'šedá, zlatá', 'Capuccino', 'Hnědo-bílo-černá', 'Bílá s černými fleky', 'mourovstý', 'Jelení červeň', 'Mourovatobilozrzava', 'Černošedá žíhaná', 'bílo zrzavá', 'Hnědočervené', 'Světle hnědá s bílou', 'Bílo-mourovaná', 'světlá s tmavým žíháním', 'Mouratá', 'Pes krémový-fena tmavá', 'Zrzavě mourovatý', 'Bílo - hnědo - černá', 'Zrz', 'rezavo-béžová', 'Černo-bílo-hnědý', 'Šedomodrá mourovatá', 'hnědobílošedá', 'Mourovatá', 'stříbrně mourovatá', 'Černo - šedo - bílá', 'Černo-hnědo-bílý', 'fawn', 'Černá -slabě žíhaná', 'Mourovana hnedo černá', 'bielohnedá', 'Bila s mourovanim', 'zlatavorezavá', 'Krémová/zlatá', 'Bíla s hnědými fleky', 'šedá morouhatá', 'Hnědo-šedo-černé', 'grizzly', 'Šedopísková', 'Mourovatý, černé znaky', 'Modro-bílá', 'Zrzavý viz foto', 'Černošedá s pálením', 'Hneda, zrzava', 'Černý, bílé a hnědé znaky', 'Pruhovaný s náprsenkou', 'Modrá-bílá', 'čtyřbarevná', 'Tmavá tříbarevná', 'mourek s bílými znaky', 'Světle hnědá a šedá', 'Bila a mourovata', 'Modro/šedá', 'Strakatej', 'Žemlová hnědá', 'zrzavá - hnědočervená', 'bílo, hnědo, černý', 'hnědostříbrná', 'bílá, mourovaté fleky', 'Šedá,jnědá/béžová,bílá', 'černo/ bílé znaky', 'černo stříbrný-whiskas', 'bílo - hnědý', 'bílo oranžová', 'Hnědý, bílé znaky', 'Red-Tri', 'Bílý s hnědými fleky', 'Černá a bílá', 'Šedohnědá', 'plavomodrá', 'hnědý', 'bílí šedá', 'Černobílé i hnědý', 'bílá s hnědým', 'černý, hnědý', 'Černá, mourovatá', 'šedý mourovatý', 'bílo-modrá', 'rezavo - bílá', 'Bílo mourovaná', 'černá, hnědá a bílá', 'Bílo šedo černá', 'Bilo-šeda', 'bílý s hnědou hlavou', 'Černá s bílou náprsenk', 'Barevný mourek', 'Bicolor - bílorezava', 'Hnědý s černou maskou', 'Strakatá, béžová', 'rezavobílá', 'vlkohnědá', 'černá s pálením a hnědá', 'Béžovočerná', 'Šedivá, mourovatá', 'Bílá, černý flek', 'Želvovinová, bílé znaky', 'Zlata kratkosrsta', 'Mourovatý s bílou', 'Šedo hnědá', 'Stříbrno/šedo-hnědá', 'Zrzavá,delší srst', 'Rezatá, bílá', 'Bílo-stříbrná', 'Hnědočerná, černá', 'Šedá s hnědými skvrny', 'Černá s hnědý pálením', 'Bílý, mourovaté znaky', 'Hnědobílá až zrzavá', 'Světle hnědá až zrzavá', 'Černý, dlouhosrstý', 'Hnědá-bílá náprsenka', 'želvovinová .', 'Tmavý mourek', 'bílo-mourovatá', 'Bílo-černá', 'šedohnědý mourek', 'Šedá, světlé pruhy', 'Stříbrná s bílou', 'Černá, hnědá a bílá', 'šedá + blond', '4 barvy', 'černo bílý', 'černá, hnědozrzavá', 'Hnědo-bílý grosonany', 'Bílá, béžová', 'Plavá ( bílá káva )', 'Zrzavý s bílým čumáčke', 'černo šedo bílá', 'Bělouš s plotnami', 'Bila a černá', 'Černá s palenim', 'Bílý s flekem na oku', 'Šedo-bílá', 'Černá, pálená', 'Cernobila s palenim', 'Mourek, šedočerný', 'Kaštanově hnědá', 'Bílá, zrzavé fleky', 'Bíločernohnědá', 'krémovobílá', 'Bílá se žíhaním', 'Šedá a Černá', 'Mourovatý,hnědočerný', 'bílá, mourovatá, zrzavá', 'Čená', 'zlatá,hnědá', 'Tříbarevné', 'Červený/Zrzavý', 'Černá hnědė odznaky/zlatá', 'Mourovatá, šedobežová', 'třibarevná', 'černobílý se žíháním', 'Ruby - zrzavá', 'Red merle', 'šedo-bílá mourovatá', 'Světle hneda', 'bílo,zrzavo,hnědá', 'černo-hnědo-ílá', 'Černa třislova', 'Šedo černo zrz bílá', 'mourovatě-bílý', 'modro bílá', 'Světle hnědá, rezavá', 'Mourek, bílé pacinky', 'Bělá, hnědé plotny', 'Černohnědé pálení', 'Bíla, skvrny', 'Hnědo bílo černá', 'černý mourek', 'Hnědá a černá', 'Stříbro-zlatá', 'hnědočerný/bíločerná', 'Černo-rezavý', 'Černo-žlutá', 'hnědá hlava, černá záda', 'Šedo-bílo-černá', 'Zrzavá, bílá,mourovatá', 'bílá s fleky', 'Černo-bilý', 'White and ginger', 'Mourovatá a šedivá', 'Rezatá', 'Modrá merle', 'blue merle s pálením', 'Žlutá/béžová', 'Černá, zlatá, žíhaná', 'bílošedá', 'šedo-mourovatý', 'Hnědá a bílá', 'Krémová až zrzavá', 'bílý a hnědé skvrny', 'Bílá, hnědo-mourovatá', 'zlatá (hnědá)', 'želvovinová, bílé znaky', 'Mourovatá, bílé a rezavé znaky', 'mour. bílé nohy, čumák', 'Zlatá a Hnědá', 'žíhaná-bílá', 'Šedá, želvovinová', 'tmavě hnědá', 'Stříbrný mourovaný', 'stříbrno-zlatá', 'Světlá, stříbrná', 'Černozlaté znaky', 'šedo stříbrná', 'Hnědá žihaná', 'Černá , bílá hruď', 'zrzavo-bílý', 'bílo - černá mourovatá', 'Mourovaný s bílým', 'Šedá s černými znaky', 'bílá+mourovaná', 'Šedá fenka, černý pes', 'Černo-stříbrná', 'Béžová s černou maskou', 'Pšenicová', 'Černý, hnědé žíhaní, bílá náprsenka', 'Bílo rezavý', 'Bílá, zrzavá', 'Bílá,černý ocas a uši', 'Mourovato-bila', 'Hneda, dlouhosrsta', 'tmavě ocelově modrá', 'Šedo zlatý', 'Šedá-mramorovaná', 'Mourovatá-černá', 'Zrzka', 'Černá a černo bílá', 'Bílá,šedá (Blue point)', 'Černá a hnědá', 'Mourovatá,bílé ponožky', 'zlato-bílá', 'zlatá, bílé packy', 'hnědobílá sable', 'bílošedá a černý', 'šedavá, bílobéžočerná', 'Hnedo černa', 'Hnědě-černý s bílou', 'Bílá, černá, hnědá', 'Hnědý bělouš', 'Mourovatá - šedohnědá', 'Zrzeček', 'Bílá, mourovatá, zrzav', 'Bílo-modrá', 'Strakatý', 'Černá hnědým pálením', 'blue tan', 'drsnosrstý divočák', 'Černo - hnědý', 'Šedo Zlatý', 'Plavý, černá maska', 'Černý hnědé pálení', 'Bílá s hnědými flíčky', 'Merle', 'bílá, šedé znaky', 'Černo-bílá, černo-hnědá', 'Šedá', 'Černá/seda', 'Bílý s hnědou hlavou', 'béžovo-černo-hnědý', 'Černý s hnědým pálením, bílé znaky', 'Šedý/modrý mourovaný', 'Černo, hnědo, bílá', 'Bílá/krémová', 'Bílý a mourovatý', 'Rezavá a rezavo-bílá', 'černá prošedivělá', 'Vlčí', 'bílo-mourovato-hnědý', 'ee red', 'Oranžová', 'Černá, stříbrná', 'bílý s béžovými znaky', 'Černošedý, bílé znaky', 'černošedá', 'Modrý', 'Černohnědý s bílou náprsenkou', 'Světle šedý, mourovatý', 'Černá s odlesky hnědé', 'světlá barva Rex', 'Zlatý s bílými znaky', 'světlé hnědý s bílými znaky', 'stříbrný mourek', 'Žíhaná - hnědá, žlutá', 'Černý bílé fleky', 'Černá,', 'Mourovatý,bílé packy', 'bílá náprsenka', 'Hnědá, mourovatá', 'Hnědo-bílá', 'Černá, lehce žíhaný', 'Bílozrzaví', 'Svetle zlaty', 'Svetle hnědá', 'rezavá', 'černá se zlatým', 'Černobíly kocour', 'Blue merle s pálením', 'mourovatý, bílý čumák', 'Zlatá hnědá bílá', 'Cerna s hnedym palenim', 'černý s bílou podsadou', 'Černá s bílými tlapkami', 'Bílá, šedá, černá', 'hnědá, bílá, černá', 'mourovatá s rezatými fleky', 'Bílá, černá, rezavá', 'Černý, zrzavé znaky', 'zrzavobílá', 'Černo-hnědý, pálený', 'bílá s hnědými chloupky', 'hnědá, černé pruhy', 'Černá se znaky', 'tmavě hnědá/mourovatá', 'černá, bílé punčošky', 'Hnědá s bílou naprsenk', 'Hnědočerná', 'Moura', 'Černo-vlkošedá', 'Černá s bílými fleky', 'Bílá, krémové a mourovaté znaky', 'Černá s pálením, bílá', 'Bílo- šedý', 'Tříbarevná', 'černý s bílým pálením', 'Černá a tříslová', 'černo bílo šedá', 'Rezavá s černou', 'Černý, bílý na bříšku', 'Černá, šedá', 'Tmavě hnědá, žíhaná', 'Šedivá s bílými fleky', 'Černá a bílá náprsenka', 'bílá', 'Australská červená', 'rezavý, bílá náprsenka', 'Mourovatá, bílé břicho', 'Černo - bílý', 'Černošedohnědý', 'černobíá', 'Rezavá, bílé znaky', 'Sv hnědá/rezavá', 'Bílo-šedá', 'hnědá žíhaná', 'Černá, bílé packy', 'Černohnědá', 'Bílý, černé a hnědé znaky', 'hnědá mourovaná', 'Bílá, černá (fleky)', 'Žíhaný černo hnědý', 'Zrzavo bila', 'Zrzavá, bílá', 'Mourovatá do šediva', 'Zlatohnědobílá', 'černo hnědé pruhy', 'šedo bílá', 'bikolor - hnědo  bílá', 'Hnedy žíhany', 'Bílý s černými fleky', 'Bíla s černými fleky', 'Bílá, černé oko', 'Černobílý s pálením', 'Pálená s černou', 'mourek hnědočerný', 'Červená / zrzavá', 'Bílá, mouratá', 'Tygrovana bezovo-seda', 'Černá, zrzavá', 'Bílá/Krémová', 'Krémová / Bílá', 'Černá, šedivé chloupky', 'černo-bílo-žlutý', 'Rezavá až hnědá', 'Bílá s černými flicky', 'Hnědá, černá, béžová', 'Hnědá hlava, černé tělo', 'bílý, medová', 'Černý se znaky', 'sv.hnědá, černé proužky', 'Černo - bílá', 'bílá, šedé fleky', 'grizzle', 'Tmavě mourovatý, bílé znaky', 'černá se znaky', 'Stříbrná/šedá', 'mourovatobílý', 'jelení červeň', 'Tmavě šedá, bílá hlava', 'černá, hnědočerná', 'Bílo-šedý', 'Zrzavo bílá', 'Srnčí hněď', 'Černobílý  s pálením', 'Šedá - stříbrná', 'Hnědo-žíhaná', 'Šedo-stříbrná', 'Zlato-hnědá', 'mourovatá s odlesky zrzavé', 'Bílá, šedá', 'Bílá, medová, puntíky', 'Šeda', 'Šedivá-bílá', 'Plava', 'Bílo, černo, zrzavá', 'bílo-hnědý', 'černý s bílými znaky', 'Černá-žíhaná, bílé znaky', 'Žíhaná (černohnědá)', 'Bílá s  hnědými fleky', 'Béžová s bílými znaky', 'Mourovaná,žíhaná', 'Zlatej', 'zlatohnědá', 'černě tečkovaná bílá', 'Drsnosrstý standardní', 'Strakatá bílo hnědá', 'Vlkošedý, hnědé znaky', 'Bílá a zrzavá', 'Bílo-šedá dlouhosrstá', 'Černo-hnědo-bílá', 'vlkošedý', 'hnědozrzavá', 'Zlato-hnědo-šedá', 'Zlatá a bílé znaky', 'Zlata', 'Černá, zrz', 'Tmavě mourovatý', 'Tygrovaná', 'Bílo černé fleky', 'tmavý mourek', 'Béžová s tmavými znaky', 'Bílošedivá', 'Černobílá a hnědá srst', 'Červená se znaky', 'černá/hnědě žíhaná', 'hnědá mourovatá', 'Šedý, pruhovaný', 'Hnědý belouš', 'Hnědá se stříbrným hřbetem', 'Černý na sluníčku hnědý', 'šedá, ala britská', 'Černo-bílá,', 'Red tri - hnědo bílá', 'Bílá,hnědá, černá', 'Bílá kava', 'Zrzavobílá', 'Mourovatá, hnědá', 'Bílý s flíčky', 'Hnědá, Bílá', 'bílo-šedá', 'Černá', 'zrzavý žíhaný', 'černá s pálením - tygr', 'Moratá, bílé tlapky', 'bíločená', 'Bikolor', 'Hnědá/ zrzavá', 'Červeno-hnědá', 'Béžovoryšavá', 'Bílo-šedivá', 'Rezavohnědý, bílé znaky', 'Stříbrno-šedá', 'Bílý, šedé znaky', 'Zlatá, plavá', 'Černá se zlatým znaky', 'Stribrno-bezovy', 'žlutá, béžová', 'Černá s bílou náprsenkou', 'Šedá a černohnědá', 'bílá + mourovatá', 'Mourek s bílou lysinou', 'Hnědý', 'Bílo-rezavý', 'Šedá, bílá', 'Cerno-bila', 'zrzavý,bílé tlapky', 'Bílo - černo - hnědý', 'hnědá a šedá', 'Modrá, bílá', 'Černá se znaky typ Rex', 'Bílá, černé a rezavé znaky', 'Zrzavo, bílo, černá', 'Tmavě hnědý, žíhaný', 'Bílá, tmavé skvrny', 'Hnědá žíhaná, bílá', 'Želvinová', 'Bílo zrzavý', 'Šedobílá', 'mourovatá,bílá', 'Hnědočerná žíhaná', 'Bílosv.hnědá', 'Hnědo bila', 'bílá, šedá, černá', 'Šedo/mourovatá', 'Blue merle', 'Sezamová', 'Černá,bílá náprsenka', 'dlouhosrstá mramor', 'Hnědo-mourovatá', 'Černá s bílými znaky', 'Plavá, bílé znaky', 'zrzavá a mourovatá', 'Šedá, tmavé plotny', 'Béžová, zrzavá', 'Bílošedomodrý', 'Černá/bílá/hnědá', 'hnědo-černě mourovatý', 'Světle šedá, stříbrná', 'Tmavě šedá, bílá', 'Bílo Černá', 'Světle šedá', 'red trikolor, flek přes oko', 'Zlatohneda', 'Šedobílý', 'šedo-černo-bílá', 'Bílá, Černá', 'Bila, šeda', 'bílá s černým flekem', 'bělouš s plotnami', 'Bílá/šedá mourovatá', 'Šedo béžová žíhaná', 'Hnědošedá', 'Béžovo šedá', 'Hnědá, šedá a černá', 'hnědá, béžová', 'Černý s bílými tlapky', 'tmavý divočák', 'Černo - hnědo - medová', 'černá s bílými znaky', 'Černa', 'Mourovatý, žíhaný', 'hnědá - mahagon', 'sv. šedý, tm. šedý', 'Mourovatá/ dlouhosrstá', 'bílo-mourovato-zrzavá', 'Bílá, šedá, béžová', 'černý/bílý', 'Černý, hnědé pálení', 'Rezavo-bile', 'Tmavě rezavá', 'hnedo-cerna', 'Mourovatý/bílý', 'Bílá, černé skvrny', 'Černé', 'Bílá, hnědá hlava', 'grizzly - černo hnědá', 'Zrzavočerný', 'Bílo rezavá', 'Bílo-světle hnědá', 'Černý, bílá náprsenka', 'Černá s bílou jen na krku', 'Šedivá, bílá, oranžová', 'Černý s hnědými znaky', 'Mourek s bílými fleky', 'čokoládový merle', 'béžovohnědozrzavá', 'Šedo-hnědý mourek tygr', 'Zrzavá/šedá', 'Bila s hnedou hlavou', 'Šedivá se znaky', 'Bílá - dlouhá srst', 'světle zrzavý, žíhaný', 'Světle a tmavě hnědá', 'černý s pálením', 'Černo-tříslová', 'černo,bílo,hnědá', 'šedá - mouratá', 'hnědá', 'černá krémové fleky', 'Bluemerle', 'Šedá, bílý krk', 'Černohnědobílá', 'Smetanova a tricolor', 'Blue merle skrytá', 'Tmavě šedá s bílými znaky', 'Hnědá žíhaná', 'Tmavě žíhaný, bílé znaky', 'Bílá, hnědočerné uši', 'bílošedokrémový', 'Bílo oříšková', 'Černo bílé', 'tygrovaná', 'Tmavě šedá s béžovou', 'Béžově-krémová', 'Světle hněda', 'Šedá, černá, bílá', 'Hnědobílá a černá', 'černohnědý', 'hnědá a bílohnědá', 'Jelení červeň, černá maska', 'hnědá (grizzly)', 'Zrzavá/Žíhaná', 'Zrzek', 'Černo-bílá s fleky', 'Černá a pálená', 'Trikolorní', 'černá a hnědočerná', 'Šedý-bílý strakatý', 'Hnědá, žíhaná, bílé znaky', 'Černá s hnědým palením', 'černo-šedá', 'Šeda,černé pruhy', 'Bílá s hnědými fleky', 'Černá, hnědá náprsenka', 'Černá, krémová, bílá', 'Zrzavá s pálením', 'černo bílá', 'Béžovo-šedá', 'Černá/ hnědá', 'černý, bílá náprsenka', 'Sedivo bílá', 'Flekatá', 'Stříbrošedivá', 'Černá, hnědé packy', 'zlatá až světle hnědá', 'šedo - bílá', 'černohnědobílá', 'Zrzavý s tmavými znaky', 'Bílá s tmavým ocasem', 'Světle zrzavý', 'šedo-hnědo-černá', 'Mourovatá s bílým bříškem', 'bílá s černými tečkami', 'zlatý', 'Bílí s hnědými fleky', 'biloseda', 'Světlá, krémová', 'Černý, bílé znaky', 'Bílo-strakatý', 'Zlato-černá', 'zrzavá, mourovatá', 'Bi color', 'Zrzavy', 'Černá, hnědá a zrzavá', 'ee-red', 'Černá, hnědá, žíhaná', 'Sv.šedá/tm.šedá-obláčk', 'mourovatá šedohnědá', 'Šedostříbrná', 'Hnědočerná, bílé znaky', 'Rezavá s bílým bříškem', 'rezavo bílá', 'Žluto - zrzavá', 'Hnědo šedá', 'Trikolora', 'Tmavě hnědá s krémovou', 'Černo bile mourovaty', 'Hnědo-bílá, flekatý', 'Černo bilá', 'Bílý, hnědé znaky', 'Bíla šedá', 'Gryzzly', 'Mourek s bílou náprsenkou', 'Šedou černá', 'Bílý s hnědými znaky', 'Trojbarevná', 'béžová', 'hnědá , černá', 'Šedo hnědý mourovatý', 'Sedá, hnědá', 'bílo černá', 'Černá s jemnými pruhy', 'Bílá s rezavými fleky', 'zlato stříbrná', 'krémová', 'modrý (šedobílý)', 'zrzavý s bílýmy fleky', 'Strakatá,bílý čumáček', 'Oranžovo-bílá', 'šedá,bílá,hnědá,žlutá', 'Zlatá, žlutá', 'Šedivobílá', 'bílý s černými fleky', 'mourovatý a rezatá', 'Tmavá mourovatá', 'Světle zlatá', 'Bílá, hnědá', 'Světla sem tam flíčky', 'černá, bílá náprsenka', 'Modrá s černými fleky', 'bílo-mourovaný', 'Bílo, černá, hnědá', 'šedo-bílo-hnědo-černá', 'Mourovatá - světlá', 'Vlkošedá, černá', 'Modrá žíhaná', 'Čená a hnědý', 'Strakatý bílošedý', 'Černá s pálením', 'bílo mourovatý', 'Bílohnědý a trikolorní', 'Bílá + černorezavý ocas', 'zrzavohnědá', 'Bílo černo rezavá', 'hnědý s černými znaky', 'Bílomourovatozrzavá', 'Mourovate a bilozrzava', 'Zrzavá, hnědé oči', 'Tribarevná', 'Mourovano bílý', 'Bílá s černozrzavé', 'Šedá s černými puntíky', 'blue tan (černá, sivá)', 'Bílo - rezavá', 'hnědá s bílou náprsenkou', 'tříbarevná kočka', 'hnědá a černá', 'Mourovaná', 'černá, hnědé pálení', 'hnědá zrzavá', 'hnědo černý', 'Plavý, bílé znaky', 'Černobílá, má pruhy', 'Vlčí šedá do zrzava', 'Strakatý, hnědý, černý', 'Mourovatý/Šedý', 'Hnědo-bílý žíhaný', 'Želvovinová - hnědo bé', 'Grizlli', 'Šedá, černá, bílá, ědá', 'Zrzavý-bílý', 'hnědo/černá', 'černá s bílým', 'Bílá, s fleky', 'Celočerná', 'barboramatouskova53@gm', 'Černý s hnědými a bílými znaky', 'vlkošedá, dlouhosrstá', 'Béžová, mourovatá', 'Šedý mourek', 'Černo- bílá, šedivá', 'hnedá', 'Mour, bílá náprsenka', 'šedobéžová', 'Mouratý', 'Šedá, béžová', 'Bílo hnědá flekatá', 'Šedobilá', 'Kouřově šedá', 'trikolorní', 'Mourovatej', 'černý s šedivou bradou', 'Černý s bilymi znaky', 'Šedostříbrný mourek', 'Červenohnědá', 'red trikolor', 'Tm. šedivá - mourovatá', 'Šedo-bílo-béžová', 'Bílá se šedou', 'bílo mourovatá', 'černo-hnědo-bílý', 'Žíhaná s bílými znaky', 'bílý s hnědými fleky', 'Bílá s hnedymi fleky', 'Černo zlatá', 'Zrzavý, bílá náprsenka', 'Šedý s černými pruhy', 'Mourovatá, delší srst,', 'Bílá,černá,hnědá', 'Blue Berry', 'Bílý s šedými fleky', 'Zrzavý-krémový', 'Modrá tříslová', 'bílo - krémová', 'Světlá - skoro bílá', 'Bílo- mourovatá', 'Černobílá s pálením', 'Merle s bilou', 'Černobílá', 'Bílo mourovatá', 'Zrzavý, bílé tlapky', 'Bílá-hnědý', 'Rezato-bílá', 'bílomourovaný', 'rex', 'Hnědobéžový, bílé znaky', 'Šedý,bílá špička ocasu', 'černá a trikolor', 'černá, žíhané nohy', 'Plavá a černá', 'Šedá s žíháním', 'Zrzavo,bilo,cerna', 'černá, bílé znaky', 'šedobílá, černé pálení', 'Hnědá,černá, bílá', 'Bílá s hnědou', 'Latte', 'Bílá bez znaků', 'Zlatý', 'Černá, šedivý čumák', 'Smetanový', 'Bílá, žlutohnědá, šedá', 'rezavá plášťová', 'mourovaná', 'Bílá s rezavými znaky', 'Vlkošedá', 'Převážně zrzavá', 'Bílá, černý flek u oka', 'šedozlatá', 'béžovo-černá', 'Bílo -hnědá', 'Černo bílo šedá', 'Hnědý s pálením', 'Světle béžová', 'červená', 'bílo hnědý,  bicolor', 'Bílý/rezavé znaky', 'Tmavě mourovato bílý', 'Sable merle', 'Šedohnědý mourek', 'Zrzavá s bílými znaky', 'Černá se světlými flek', 'červená s přím. černé', 'Bílo-mourovaný', 'černá  s pálením', 'Mourovatá s bílou', 'Mourek krémový', 'bílá a světle hnědá', 'šedá a bílé ťapky', 'Béžová', 'Maourato bílý', 'bikolor', 'hnědočerný', 'Černá mourovatá', 'Tmavě ocelově modrá', 'Žihaná s bílou', 'Stříbrno béžový', 'bílá-oranžová', 'černo-šedá-bílá', 'Mourovatý s náprsenkou', 'Bílá, světle hnědá', 'Černá a Zlatá', 'šedá, bílá, mourek', 'šedá, mourovatá', 'Černá a krémová', 'Bílá/hnědé skvrny', 'Modrá, šedá', 'Bílý s hnědými flíčky', 'Mourovaný', 'Bila,hnede flicky', 'Bílá se zrzavou', 'Černá dlouhosrstá', 'Černá-žíhaná', 'Stříbrný, hnědé znaky', 'medovošedivá', 'Hnědá/ rezavá', 'Žíhané', 'Černá,hnědá', 'Bílá, smetanová', 'hnědá/černá', 'tmavě vlkošedá', 'Černá a rezava', 'černá s tygrováním', 'Bílo, černo hnědá.', 'světle mourovatá', 'Černý, světlé packy', 'Černa a hnědá', 'Černá, bílá packa', 'Bílá + černé skvrny', 'Tmavý', 'Bílozlatá', 'žíhavá', 'Bílá s černým ocáskem', 'Černá, s mourováním', 'zlatavě hnědá', 'Černá a flíček na levo', 'Hrubosrstý/hnědá/černá', 'Žluto-bílo-rezavá', 'Stříbrný mourek', 'písková', 'žíhaná s bílými znaky a hnědočerný', 'Mourek, bílá', 'hnědá s uhlováním', 'Bílá, černá, zrzavá', 'Bílo krémová', 'Bílé černý', 'Hnědá s bílými znaky', 'Tmavě šedá', 'Oranžová, krémová', 'Rezavo - bílá', 'Mourovatá do stříbrna', 'Hnědá, bílá', 'černohnědá', 'Májová', 'Blond - zlatá', 'Černá hnědé znaky', 'Bilo šedá', 'Bilý s šedými znaky', 'Černo- bílá', 'mourovatá, do hněda', 'zrzavo-bílá', 'Bílý, černé znaky', 'Černohnědý mourek', 'šedobílá mourovatá', 'Bílý,mourovaté znaky', 'bílá, zrzavá, černá', 'Bílá se znakem', 'mourovatý s bílými znaky', 'ořechově hnědá', 'černá,bílo-šedý spodek', 'Šedo-béžový', 'světle hnědá-krémová', 'játrová (hnědá)', 'Hnědá béžová', 'Smetanová, hnědá', 'Bílá/světlé skrvrny', 'Bila', 'Šedo bílá', 'strakatý černo béžový', 'Plavá, rezavá', 'Béžová s rezatou', 'Zlatá, bílé znaky', 'Modrošedá, bílé znaky', 'Šedá, bílé ponožky', 'Bíla s černými puntíky', 'šedo - černá', 'Rezavo-béžová', 'zrzavá a bílá', 'Bilo zrzava', 'bílá + fleky (maska)', 'tmavě rezavo-hnědá', 'Červená s bílou', 'Čokoláda', 'Černo bílá s hnědým', 'Černá se s bílými znaky', 'Bílo-mourovatá', 'Hnědá (divočák)', 'modro-bílá(šedo bílá)', 'hnědá s bílou lysinkou', 'černo bílá, mourovatá', 'Šedočerná s hnědou', '\\x08černá', 'bílá, zrzavý ocas', 'černá/bílá náprsenka', 'Bílý, s hnědými fleky', 'Blacku burn', 'Černá-šedivá', 'Bílá+černý flek (ucho)', 'Mourovatá a bílá', 'Černobílá + mouratá', 'Šedá, černohnědá', 'Černá, světlé pálení', 'Bílá-mourovatá', 'Krémově hnědý', 'Cerno- seda', 'bíločerná', 'Bílá, černé a zrzavé znaky', 'Rezavo-cerno-bílá', 'Bílá / Hnědá', 'Mourovatá až stribrna', 'Bílá s fleky', 'Zrzavo-bílý žíhaný', 'zrzavá s žíháním', 'Tříbarevná (májová)', 'Hnědočerný, bílé znaky', 'svělá krémová', 'Bilo-zrzavá', 'světlá mourovatá', 'černá s hnědou', 'Hnědo-béžová', 'mourovato bílá', 'Tygři', 'red merle', 'Černá na hrudi bílé', 'Hnědá s bílou náprsenkou', 'Šedo-černá s bílou', 'Tricolor', 'mourovatá s bílou', 'Černo-bílá+vločkování', 'Hnědá jako staford', 'Bílá černá hnědá', 'Bílá, šedá, zrzavá', 'Cream brindle', 'Hnedo-bila', 'černá, bílá kravata', 'černožlutobílá', 'Hnědý bělouš, plotny', 'Rezatý', 'Hnědý mourek', 'Hnědorezavý', 'Zrzava', '\"obrácené\" mourování', 'Hnědo-zrzavá', 'apricot', 'Tm. Šedá, bílé znaky', 'hnědá, šedá', 'Bily se skvrnami', 'Hnědá a bílými znaky', 'bílo-zrzavý', 'Zrzavá, bílé znaky', 'šedo-bílá, zrzavá', 'Šedo,černo bílá', 'bílá s hnědými znaky', 'hnědo-černo mourovatý', 'Bílo- světle hnědá', 'Tmavá želvovinová', 'Rezavobílý', 'Bilocerna', 'Bílá hnědá', 'Hnědý s bílými znaky', 'bílá a hnědé skvrny', 'bílo-černo-zrzavá', 'Bílá, žíhaná na boku', 'Mourovatá, místy zrz', 'Pískově hnědo - bílá', 'Bílá, mourovaté fleky', 'bílý, hnědý kolem očí', 'hnědá, bílá náprsenka', 'Béžová, hnědá, černá', 'zelená', 'Šedohnědočerná', 'černo-bílý']\n"
          ]
        }
      ]
    }
  ]
}