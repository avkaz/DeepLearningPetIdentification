{
  "nbformat": 4,
  "nbformat_minor": 0,
  "metadata": {
    "colab": {
      "provenance": [],
      "include_colab_link": true
    },
    "kernelspec": {
      "name": "python3",
      "display_name": "Python 3"
    },
    "language_info": {
      "name": "python"
    }
  },
  "cells": [
    {
      "cell_type": "markdown",
      "metadata": {
        "id": "view-in-github",
        "colab_type": "text"
      },
      "source": [
        "<a href=\"https://colab.research.google.com/github/avkaz/DeepLearningPetIdentification/blob/preprocess_pipeline/preprop_pipeline.ipynb\" target=\"_parent\"><img src=\"https://colab.research.google.com/assets/colab-badge.svg\" alt=\"Open In Colab\"/></a>"
      ]
    },
    {
      "cell_type": "code",
      "execution_count": 1,
      "metadata": {
        "id": "J5yEKEaHmNW3"
      },
      "outputs": [],
      "source": [
        "import json\n",
        "from PIL import Image, ExifTags, ImageDraw\n",
        "import requests\n",
        "import io\n",
        "import tensorflow as tf\n",
        "import numpy as np\n",
        "import tensorflow_hub as hub\n",
        "import matplotlib.pyplot as plt\n",
        "import itertools\n",
        "from itertools import islice\n",
        "\n",
        "# Metadata Fetching\n",
        "def get_data():\n",
        "    \"\"\"\n",
        "    Fetches and parses JSON data from the given URL.\n",
        "\n",
        "    Returns:\n",
        "        dict: The parsed JSON data as a Python dictionary.\n",
        "    \"\"\"\n",
        "    url = \"https://raw.githubusercontent.com/avkaz/DeepLearningPetIdentification/main/pets_db.json\"\n",
        "\n",
        "    try:\n",
        "        response = requests.get(url)\n",
        "        response.raise_for_status()\n",
        "        data = response.json()\n",
        "        return data\n",
        "    except requests.RequestException as e:\n",
        "        print(f\"An error occurred while fetching data: {e}\")\n",
        "        raise\n",
        "    except json.JSONDecodeError as e:\n",
        "        print(f\"An error occurred while parsing JSON: {e}\")\n",
        "        raise\n",
        "\n",
        "# Model Loading\n",
        "detector = None\n",
        "MODEL_URL = \"https://tfhub.dev/tensorflow/ssd_mobilenet_v2/fpnlite_320x320/1\"\n",
        "\n",
        "\n",
        "\n"
      ]
    },
    {
      "cell_type": "markdown",
      "source": [
        "Total number of \"pets\", where metadata: \"images\" is empty."
      ],
      "metadata": {
        "id": "3D66ZMUl1GD6"
      }
    },
    {
      "cell_type": "code",
      "source": [
        "def load_detector_model():\n",
        "    global detector\n",
        "    if detector is None:\n",
        "        print(\"Uploading model...\")\n",
        "        detector = hub.load(MODEL_URL).signatures['serving_default']\n",
        "        print(\"Model loaded successfully.\")\n",
        "    else:\n",
        "        pass"
      ],
      "metadata": {
        "id": "3dKhT-_8nUIK"
      },
      "execution_count": 2,
      "outputs": []
    },
    {
      "cell_type": "code",
      "source": [
        "def filter_metadata_with_images(metadata):\n",
        "    \"\"\"\n",
        "    Filters metadata to include only entries with non-empty 'images' lists.\n",
        "\n",
        "    Args:\n",
        "        metadata (dict): The original metadata dictionary.\n",
        "\n",
        "    Returns:\n",
        "        dict: A filtered metadata dictionary with entries that have images.\n",
        "    \"\"\"\n",
        "    return {key: value for key, value in metadata.items() if value.get(\"images\")}"
      ],
      "metadata": {
        "id": "LU5h3hAcaiIE"
      },
      "execution_count": 3,
      "outputs": []
    },
    {
      "cell_type": "code",
      "source": [
        "# Metadata Verification\n",
        "def verify_metadata(metadata):\n",
        "    \"\"\"\n",
        "    Verifies metadata integrity by checking for missing or inconsistent entries.\n",
        "\n",
        "    Args:\n",
        "        metadata (dict): The metadata dictionary to verify.\n",
        "    \"\"\"\n",
        "    for key, value in metadata.items():\n",
        "        if not isinstance(value, dict) or \"Plemeno\" not in value or \"Barva\" not in value or \"Věk\" not in value or \"Velikost\" not in value or \"images\" not in value:\n",
        "            print(f\"Warning: Incomplete metadata for key {key}: {value}\")\n",
        "\n",
        "# Function to fix orientation using EXIF\n",
        "def fix_orientation(image):\n",
        "    \"\"\"\n",
        "    Adjust the image orientation based on its EXIF metadata to account for camera rotation.\n",
        "    The function looks for the 'Orientation' tag in the EXIF data and rotates the image accordingly.\n",
        "\n",
        "    Arguments:\n",
        "    image -- The image to fix the orientation for (PIL Image object).\n",
        "\n",
        "    Returns:\n",
        "    PIL Image with corrected orientation.\n",
        "    \"\"\"\n",
        "    try:\n",
        "        for orientation in ExifTags.TAGS.keys():\n",
        "            if ExifTags.TAGS[orientation] == 'Orientation':\n",
        "                break\n",
        "        exif = image._getexif()\n",
        "        if exif is not None:\n",
        "            orientation = exif.get(orientation)\n",
        "            if orientation == 3:\n",
        "                image = image.rotate(180, expand=True)\n",
        "            elif orientation == 6:\n",
        "                image = image.rotate(270, expand=True)\n",
        "            elif orientation == 8:\n",
        "                image = image.rotate(90, expand=True)\n",
        "    except (AttributeError, KeyError, IndexError):\n",
        "        pass\n",
        "    return image\n",
        "\n",
        "# Function to crop and resize the image based on a bounding box\n",
        "\n",
        "    \"\"\"\n",
        "    Crops the image using a given bounding box and then resizes it to the target size.\n",
        "\n",
        "    Arguments:\n",
        "    image -- The image to crop and resize (TensorFlow Tensor).\n",
        "    bounding_box -- A tuple (x1, y1, x2, y2) specifying the coordinates of the bounding box.\n",
        "    target_size -- The target size (height, width) to resize the image to.\n",
        "\n",
        "    Returns:\n",
        "    The cropped and resized image (TensorFlow Tensor).\n",
        "    \"\"\"\n",
        "\n",
        "def crop_and_resize(image, bounding_box, target_size):\n",
        "    image = tf.convert_to_tensor(image, dtype=tf.float32)\n",
        "    x1, y1, x2, y2 = bounding_box\n",
        "    image = tf.strided_slice(image, [int(y1), int(x1), 0], [int(y2), int(x2), 3])\n",
        "    image = tf.image.resize(image, target_size)\n",
        "    return image\n",
        "\n",
        "# Function to detect pets in the image (Placeholder function, adjust as needed)\n",
        "def detect_pet(image):\n",
        "    load_detector_model()\n",
        "    input_tensor = tf.image.resize(image, [640, 640]) / 255.0\n",
        "    input_tensor = tf.expand_dims(input_tensor, axis=0)\n",
        "    input_tensor_uint8 = tf.cast(input_tensor * 255.0, tf.uint8)\n",
        "\n",
        "    result = detector(tf.convert_to_tensor(input_tensor_uint8))\n",
        "    result = {key: value.numpy() for key, value in result.items()}\n",
        "\n",
        "    if 'detection_classes' in result and 'detection_scores' in result:\n",
        "        detected_classes = result['detection_classes']\n",
        "        detected_boxes = result['detection_boxes']\n",
        "        detected_scores = result['detection_scores']\n",
        "        pet_classes = [b\"Cat\", b\"Dog\", b\"Animal\"]\n",
        "\n",
        "        for idx in range(len(detected_classes[0])):\n",
        "            detected_class = detected_classes[0][idx]\n",
        "            detected_score = detected_scores[0][idx]\n",
        "            detected_box = detected_boxes[0][idx]\n",
        "\n",
        "            if detected_class in pet_classes and detected_score > 0.5:\n",
        "                return detected_box\n",
        "    return None\n",
        "\n",
        "# Function to visualize the image\n",
        "def visualize_image(image, title=\"Processed Image\", visualize=False):\n",
        "    \"\"\"\n",
        "    Visualizes the processed image using Matplotlib.\n",
        "\n",
        "    Arguments:\n",
        "    image -- The image to visualize, can be a TensorFlow tensor or a NumPy array.\n",
        "    title -- The title to display on top of the image.\n",
        "    visualize -- A flag to control whether to visualize the image. Default is True.\n",
        "    \"\"\"\n",
        "    if visualize:\n",
        "        # Convert TensorFlow tensor to NumPy array if necessary\n",
        "        if isinstance(image, tf.Tensor):\n",
        "            image = image.numpy()\n",
        "\n",
        "        # If it's an RGB image, clip pixel values to the range [0, 1]\n",
        "        if image.ndim == 3 and image.shape[-1] == 3:\n",
        "            image = np.clip(image, 0, 1)\n",
        "        elif image.ndim == 2:  # If grayscale, clip to [0, 255]\n",
        "            image = np.clip(image, 0, 255).astype(np.uint8)\n",
        "\n",
        "        # Show the image using Matplotlib\n",
        "        plt.imshow(image)\n",
        "        plt.title(title)\n",
        "        plt.axis(\"off\")\n",
        "        plt.show()\n",
        "\n",
        "# Download and Preprocess Image\n",
        "def download_and_preprocess_image(url, target_size=(224, 224), visualize=False):\n",
        "    response = requests.get(url)\n",
        "    image_bytes = response.content\n",
        "    pil_image = Image.open(io.BytesIO(image_bytes))\n",
        "    pil_image = fix_orientation(pil_image)\n",
        "\n",
        "    image = tf.convert_to_tensor(np.array(pil_image), dtype=tf.float32) / 255.0\n",
        "    bounding_box = detect_pet(image)\n",
        "\n",
        "    if bounding_box is not None:\n",
        "        image = crop_and_resize(image, bounding_box, target_size)\n",
        "    else:\n",
        "        # If no pet detected, resize with padding\n",
        "        image = tf.image.resize_with_crop_or_pad(image, target_size[0], target_size[1])\n",
        "\n",
        "    # Visualize the image if needed\n",
        "    visualize_image(image, title=\"Processed Image\", visualize=visualize)\n",
        "\n",
        "    return image"
      ],
      "metadata": {
        "id": "PKEM6JzRnODf"
      },
      "execution_count": 4,
      "outputs": []
    },
    {
      "cell_type": "markdown",
      "source": [
        "This function processes image data from a metadata dictionary and prepares it for training in a machine learning model using TensorFlow."
      ],
      "metadata": {
        "id": "XJ1TWxIa2dh-"
      }
    },
    {
      "cell_type": "code",
      "source": [
        "#def preprocess_pipeline(metadata, target_size=(224, 224), visualize=False):\n",
        " #   images = []\n",
        "  #  labels = []\n",
        "   # for key, entry in metadata.items():\n",
        "    #    image_urls = entry[\"images\"]\n",
        "\n",
        "        # Create a label (list of characteristics)\n",
        "     #   label = [\n",
        "      #      entry.get(\"Plemeno\", \"Unknown\"),\n",
        "       #     entry.get(\"Věk\", \"Unknown\"),\n",
        "        #    entry.get(\"Barva\", \"Unknown\"),\n",
        "         #   entry.get(\"Velikost\", \"Unknown\")\n",
        "\n",
        "        # Process all the images in the 'images' list\n",
        "      #  for image_url in image_urls:\n",
        "       #     image = download_and_preprocess_image(image_url, target_size, visualize)\n",
        "        #    images.append(image)\n",
        "         #   labels.append(label)  # Append the same label for each image\n",
        "\n",
        "  #  return tf.data.Dataset.from_tensor_slices((images, labels))\n",
        "\n",
        "def preprocess_dataset(metadata, target_size=(224, 224)):\n",
        "    \"\"\"\n",
        "    Preprocesses the dataset to create pairs of images for the same pet and different pets.\n",
        "    The output dataset contains the attributes and image pairs.\n",
        "    \"\"\"\n",
        "    data_pairs = []\n",
        "    print(\"Starting dataset preprocessing...\")\n",
        "\n",
        "    # First, create image pairs from the same pet (label = 1)\n",
        "    print(\"Processing same-pet pairs...\")\n",
        "    for key, entry in metadata.items():\n",
        "        print(f\"Processing pet: {key}\")\n",
        "        # Get the pet attributes\n",
        "        plemeno = entry.get(\"Plemeno\", \"Unknown\")\n",
        "        vek = entry.get(\"Věk\", \"Unknown\")\n",
        "        barva = entry.get(\"Barva\", \"Unknown\")\n",
        "        velikost = entry.get(\"Velikost\", \"Unknown\")\n",
        "        print(f\"Attributes - Plemeno: {plemeno}, Věk: {vek}, Barva: {barva}, Velikost: {velikost}\")\n",
        "\n",
        "        # Get all the images for this pet\n",
        "        images = entry.get(\"images\", [])\n",
        "        print(f\"Found {len(images)} images for pet: {key}\")\n",
        "\n",
        "        if len(images) < 2:\n",
        "            print(f\"Skipping pet {key} - not enough images to form pairs.\")\n",
        "            continue  # Skip pets with fewer than 2 images\n",
        "\n",
        "        # Pair each image with every other image for the same pet\n",
        "        for i in range(len(images)):\n",
        "            for j in range(i + 1, len(images)):\n",
        "                print(f\"Creating pair for pet {key}: image {i} and image {j}\")\n",
        "                try:\n",
        "                    # Download and preprocess both images\n",
        "                    image1 = download_and_preprocess_image(images[i], target_size)\n",
        "                    image2 = download_and_preprocess_image(images[j], target_size)\n",
        "                    print(f\"Images processed successfully for pair ({i}, {j}) of pet {key}\")\n",
        "                    # Add to data pairs with label = 1 (same pet)\n",
        "                    data_pairs.append(((plemeno, vek, barva, velikost, image1, image2), 1))\n",
        "                except Exception as e:\n",
        "                    print(f\"Error processing images for pair ({i}, {j}) of pet {key}: {e}\")\n",
        "\n",
        "    print(\"Finished processing same-pet pairs.\")\n",
        "\n",
        "    # Now create image pairs from different pets (label = 0)\n",
        "    print(\"Processing different-pet pairs...\")\n",
        "    all_keys = list(metadata.keys())\n",
        "    for key1, key2 in itertools.combinations(all_keys, 2):\n",
        "        print(f\"Creating pair from different pets: {key1} and {key2}\")\n",
        "        entry1 = metadata[key1]\n",
        "        entry2 = metadata[key2]\n",
        "\n",
        "        # Get the attributes and images for both pets\n",
        "        plemeno1 = entry1.get(\"Plemeno\", \"Unknown\")\n",
        "        vek1 = entry1.get(\"Věk\", \"Unknown\")\n",
        "        barva1 = entry1.get(\"Barva\", \"Unknown\")\n",
        "        velikost1 = entry1.get(\"Velikost\", \"Unknown\")\n",
        "        images1 = entry1.get(\"images\", [])\n",
        "\n",
        "        plemeno2 = entry2.get(\"Plemeno\", \"Unknown\")\n",
        "        vek2 = entry2.get(\"Věk\", \"Unknown\")\n",
        "        barva2 = entry2.get(\"Barva\", \"Unknown\")\n",
        "        velikost2 = entry2.get(\"Velikost\", \"Unknown\")\n",
        "        images2 = entry2.get(\"images\", [])\n",
        "\n",
        "        if not images1 or not images2:\n",
        "            print(f\"Skipping pair ({key1}, {key2}) - one or both pets have no images.\")\n",
        "            continue  # Skip if either pet doesn't have images\n",
        "\n",
        "        print(f\"Processing images for different-pet pair ({key1}, {key2})\")\n",
        "        try:\n",
        "            # Pair the first image of pet 1 with the first image of pet 2\n",
        "            image1 = download_and_preprocess_image(images1[0], target_size)\n",
        "            image2 = download_and_preprocess_image(images2[0], target_size)\n",
        "            print(f\"Images processed successfully for pair ({key1}, {key2})\")\n",
        "            # Add to data pairs with label = 0 (different pets)\n",
        "            data_pairs.append(((plemeno1, vek1, barva1, velikost1, image1, image2), 0))\n",
        "        except Exception as e:\n",
        "            print(f\"Error processing images for different-pet pair ({key1}, {key2}): {e}\")\n",
        "\n",
        "    print(\"Finished processing different-pet pairs.\")\n",
        "    print(f\"Total pairs created: {len(data_pairs)}\")\n",
        "\n",
        "    # Convert to a TensorFlow dataset\n",
        "    print(\"Converting data pairs to TensorFlow dataset...\")\n",
        "    dataset = tf.data.Dataset.from_tensor_slices(data_pairs)\n",
        "    print(\"Dataset conversion complete.\")\n",
        "    return dataset\n"
      ],
      "metadata": {
        "id": "Zsz7r57y1xUh"
      },
      "execution_count": 12,
      "outputs": []
    },
    {
      "cell_type": "markdown",
      "source": [
        "This function will display a specified number of sample images from the dataset, with the corresponding labels shown as the image title."
      ],
      "metadata": {
        "id": "AW3mtPkN2uE7"
      }
    },
    {
      "cell_type": "code",
      "source": [
        "# Dataset Sample Visualization\n",
        "def visualize_dataset_sample(dataset, num_samples=5):\n",
        "    for image, label in dataset.take(num_samples):\n",
        "        plt.imshow(image.numpy())\n",
        "        plt.title(f\"Label: {label.numpy().decode()}\")\n",
        "        plt.axis(\"off\")\n",
        "        plt.show()"
      ],
      "metadata": {
        "id": "IzbG8Y3_1387"
      },
      "execution_count": 6,
      "outputs": []
    },
    {
      "cell_type": "markdown",
      "source": [
        "Split data into parts: training, validation and test data.\n",
        "\n",
        "---\n",
        "\n"
      ],
      "metadata": {
        "id": "QRZliIqo9aYP"
      }
    },
    {
      "cell_type": "code",
      "source": [
        "def split_data(dataset, val_split=0.1, test_split=0.1):\n",
        "    total_size = len(dataset)\n",
        "    val_size = int(val_split * total_size)\n",
        "    test_size = int(test_split * total_size)\n",
        "\n",
        "    val_dataset = dataset.take(val_size)\n",
        "    test_dataset = dataset.skip(val_size).take(test_size)\n",
        "    train_dataset = dataset.skip(val_size + test_size)\n",
        "\n",
        "    return train_dataset, val_dataset, test_dataset\n"
      ],
      "metadata": {
        "id": "pnapjKEv9K7M"
      },
      "execution_count": 7,
      "outputs": []
    },
    {
      "cell_type": "markdown",
      "source": [
        "This function prepares the dataset by batching it into groups of a specified size. It can also shuffle the dataset before batching and prefetch it to optimize performance."
      ],
      "metadata": {
        "id": "Citsl0HQ3hMO"
      }
    },
    {
      "cell_type": "code",
      "source": [
        "# Dataset Batching\n",
        "def batch_dataset(dataset, batch_size=32, shuffle=True):\n",
        "    if shuffle:\n",
        "        dataset = dataset.shuffle(buffer_size=1000)\n",
        "    dataset = dataset.batch(batch_size).prefetch(tf.data.AUTOTUNE)\n",
        "    return dataset"
      ],
      "metadata": {
        "id": "hoevYCrQ2AIw"
      },
      "execution_count": 8,
      "outputs": []
    },
    {
      "cell_type": "code",
      "source": [
        "if __name__ == \"__main__\":\n",
        "    print(\"Fetching metadata...\")\n",
        "    metadata = get_data()\n",
        "    verify_metadata(metadata)\n",
        "\n",
        "    #print(\"Filtering metadata to remove entries without images...\")\n",
        "    filtered_metadata = filter_metadata_with_images(metadata)\n",
        "    print(f\"Filtered metadata contains {len(filtered_metadata)} entries (original: {len(metadata)})\")\n",
        "\n",
        "    # Limit to the specified entries for testing\n",
        "    filtered_metadata = dict(islice(filtered_metadata.items(), 1000))\n",
        "    print(f\"Using the first {len(filtered_metadata)} entries for testing.\")\n",
        "\n",
        "    verify_metadata(filtered_metadata)\n",
        "\n",
        "    print(\"Creating dataset...\")\n",
        "    dataset = preprocess_dataset(filtered_metadata)\n",
        "\n",
        "    # Print out some example data from the dataset\n",
        "#for data, label in dataset.take(3):  # Show first 3 samples\n",
        " #   print(f\"Attributes: {data[:4]}\")  # First 4 elements are the pet's attributes\n",
        "  #  print(f\"Image1: {data[4]}\")  # Image 1\n",
        "   # print(f\"Image2: {data[5]}\")  # Image 2\n",
        "    #print(f\"Label: {label}\")  # Label: 1 or 0\n",
        "\n",
        "    #print(\"Visualizing dataset samples...\")\n",
        "    #visualize_dataset_sample(dataset, num_samples=3)"
      ],
      "metadata": {
        "id": "KwL9xoSM19eb",
        "outputId": "7ab11ce2-72e4-4670-e746-88a6518e4e21",
        "colab": {
          "base_uri": "https://localhost:8080/",
          "height": 1000
        }
      },
      "execution_count": 18,
      "outputs": [
        {
          "output_type": "stream",
          "name": "stdout",
          "text": [
            "Fetching metadata...\n",
            "Filtered metadata contains 10328 entries (original: 12050)\n",
            "Using the first 1 entries for testing.\n",
            "Creating dataset...\n",
            "Starting dataset preprocessing...\n",
            "Processing same-pet pairs...\n",
            "Processing pet: tanyny-chomutov-2024-12-21\n",
            "Attributes - Plemeno: Kříženec, Věk: 5 let, Barva: Černá, Velikost: Střední - 10-17kg\n",
            "Found 5 images for pet: tanyny-chomutov-2024-12-21\n",
            "Creating pair for pet tanyny-chomutov-2024-12-21: image 0 and image 1\n",
            "Images processed successfully for pair (0, 1) of pet tanyny-chomutov-2024-12-21\n",
            "Creating pair for pet tanyny-chomutov-2024-12-21: image 0 and image 2\n",
            "Images processed successfully for pair (0, 2) of pet tanyny-chomutov-2024-12-21\n",
            "Creating pair for pet tanyny-chomutov-2024-12-21: image 0 and image 3\n",
            "Images processed successfully for pair (0, 3) of pet tanyny-chomutov-2024-12-21\n",
            "Creating pair for pet tanyny-chomutov-2024-12-21: image 0 and image 4\n",
            "Images processed successfully for pair (0, 4) of pet tanyny-chomutov-2024-12-21\n",
            "Creating pair for pet tanyny-chomutov-2024-12-21: image 1 and image 2\n",
            "Images processed successfully for pair (1, 2) of pet tanyny-chomutov-2024-12-21\n",
            "Creating pair for pet tanyny-chomutov-2024-12-21: image 1 and image 3\n",
            "Images processed successfully for pair (1, 3) of pet tanyny-chomutov-2024-12-21\n",
            "Creating pair for pet tanyny-chomutov-2024-12-21: image 1 and image 4\n",
            "Images processed successfully for pair (1, 4) of pet tanyny-chomutov-2024-12-21\n",
            "Creating pair for pet tanyny-chomutov-2024-12-21: image 2 and image 3\n",
            "Images processed successfully for pair (2, 3) of pet tanyny-chomutov-2024-12-21\n",
            "Creating pair for pet tanyny-chomutov-2024-12-21: image 2 and image 4\n",
            "Images processed successfully for pair (2, 4) of pet tanyny-chomutov-2024-12-21\n",
            "Creating pair for pet tanyny-chomutov-2024-12-21: image 3 and image 4\n",
            "Images processed successfully for pair (3, 4) of pet tanyny-chomutov-2024-12-21\n",
            "Finished processing same-pet pairs.\n",
            "Processing different-pet pairs...\n",
            "Finished processing different-pet pairs.\n",
            "Total pairs created: 10\n",
            "Converting data pairs to TensorFlow dataset...\n"
          ]
        },
        {
          "output_type": "error",
          "ename": "TypeError",
          "evalue": "Cannot convert 'Kříženec' to EagerTensor of dtype float",
          "traceback": [
            "\u001b[0;31m---------------------------------------------------------------------------\u001b[0m",
            "\u001b[0;31mTypeError\u001b[0m                                 Traceback (most recent call last)",
            "\u001b[0;32m/usr/local/lib/python3.10/dist-packages/tensorflow/python/data/util/structure.py\u001b[0m in \u001b[0;36mnormalize_element\u001b[0;34m(element, element_signature)\u001b[0m\n\u001b[1;32m    104\u001b[0m         \u001b[0;32mif\u001b[0m \u001b[0mspec\u001b[0m \u001b[0;32mis\u001b[0m \u001b[0;32mNone\u001b[0m\u001b[0;34m:\u001b[0m\u001b[0;34m\u001b[0m\u001b[0;34m\u001b[0m\u001b[0m\n\u001b[0;32m--> 105\u001b[0;31m           \u001b[0mspec\u001b[0m \u001b[0;34m=\u001b[0m \u001b[0mtype_spec_from_value\u001b[0m\u001b[0;34m(\u001b[0m\u001b[0mt\u001b[0m\u001b[0;34m,\u001b[0m \u001b[0muse_fallback\u001b[0m\u001b[0;34m=\u001b[0m\u001b[0;32mFalse\u001b[0m\u001b[0;34m)\u001b[0m\u001b[0;34m\u001b[0m\u001b[0;34m\u001b[0m\u001b[0m\n\u001b[0m\u001b[1;32m    106\u001b[0m       \u001b[0;32mexcept\u001b[0m \u001b[0mTypeError\u001b[0m\u001b[0;34m:\u001b[0m\u001b[0;34m\u001b[0m\u001b[0;34m\u001b[0m\u001b[0m\n",
            "\u001b[0;32m/usr/local/lib/python3.10/dist-packages/tensorflow/python/data/util/structure.py\u001b[0m in \u001b[0;36mtype_spec_from_value\u001b[0;34m(element, use_fallback)\u001b[0m\n\u001b[1;32m    513\u001b[0m \u001b[0;34m\u001b[0m\u001b[0m\n\u001b[0;32m--> 514\u001b[0;31m   raise TypeError(\"Could not build a `TypeSpec` for {} with type {}\".format(\n\u001b[0m\u001b[1;32m    515\u001b[0m       \u001b[0melement\u001b[0m\u001b[0;34m,\u001b[0m\u001b[0;34m\u001b[0m\u001b[0;34m\u001b[0m\u001b[0m\n",
            "\u001b[0;31mTypeError\u001b[0m: Could not build a `TypeSpec` for [(('Kříženec', '5 let', 'Černá', 'Střední - 10-17kg', <tf.Tensor: shape=(224, 224, 3), dtype=float32, numpy=\narray([[[0.53333336, 0.4117647 , 0.3019608 ],\n        [0.5294118 , 0.40784314, 0.29411766],\n        [0.54901963, 0.42745098, 0.3137255 ],\n        ...,\n        [0.28235295, 0.22352941, 0.14901961],\n        [0.2784314 , 0.21960784, 0.14509805],\n        [0.27450982, 0.21568628, 0.13333334]],\n\n       [[0.5411765 , 0.41960785, 0.30980393],\n        [0.56078434, 0.4392157 , 0.3254902 ],\n        [0.5568628 , 0.43529412, 0.3137255 ],\n        ...,\n        [0.30588236, 0.25490198, 0.18039216],\n        [0.29803923, 0.24705882, 0.17254902],\n        [0.29803923, 0.24705882, 0.17254902]],\n\n       [[0.5176471 , 0.40392157, 0.2784314 ],\n        [0.5411765 , 0.42745098, 0.29411766],\n        [0.5647059 , 0.45490196, 0.30980393],\n        ...,\n        [0.33333334, 0.27450982, 0.2       ],\n        [0.32941177, 0.27058825, 0.19607843],\n        [0.33333334, 0.27450982, 0.2       ]],\n\n       ...,\n\n       [[0.10196079, 0.07450981, 0.05098039],\n        [0.10196079, 0.07450981, 0.05098039],\n        [0.10196079, 0.07450981, 0.05098039],\n        ...,\n        [0.61960787, 0.4862745 , 0.3372549 ],\n        [0.62352943, 0.49019608, 0.34117648],\n        [0.6313726 , 0.49803922, 0.34901962]],\n\n       [[0.10196079, 0.07450981, 0.05098039],\n        [0.10196079, 0.07450981, 0.05098039],\n        [0.10196079, 0.07450981, 0.05098039],\n        ...,\n        [0.62352943, 0.49411765, 0.33333334],\n        [0.6313726 , 0.5019608 , 0.34117648],\n        [0.64705884, 0.5176471 , 0.35686275]],\n\n       [[0.10196079, 0.07450981, 0.05098039],\n        [0.10196079, 0.07450981, 0.05098039],\n        [0.10196079, 0.07450981, 0.05098039],\n        ...,\n        [0.62352943, 0.49411765, 0.33333334],\n        [0.6392157 , 0.5019608 , 0.34509805],\n        [0.6666667 , 0.5294118 , 0.37254903]]], dtype=float32)>, <tf.Tensor: shape=(224, 224, 3), dtype=float32, numpy=\narray([[[0.09803922, 0.11372549, 0.14901961],\n        [0.13725491, 0.16470589, 0.19607843],\n        [0.15686275, 0.18431373, 0.22352941],\n        ...,\n        [0.52156866, 0.42745098, 0.38039216],\n        [0.5294118 , 0.42745098, 0.3764706 ],\n        [0.5137255 , 0.4117647 , 0.36078432]],\n\n       [[0.14509805, 0.16078432, 0.19607843],\n        [0.15686275, 0.17254902, 0.20784314],\n        [0.1764706 , 0.19215687, 0.23529412],\n        ...,\n        [0.53333336, 0.4392157 , 0.39215687],\n        [0.53333336, 0.43137255, 0.38039216],\n        [0.5137255 , 0.4117647 , 0.36078432]],\n\n       [[0.10980392, 0.1254902 , 0.16078432],\n        [0.15686275, 0.17254902, 0.20784314],\n        [0.18039216, 0.19607843, 0.23921569],\n        ...,\n        [0.5372549 , 0.44313726, 0.39607844],\n        [0.5372549 , 0.43529412, 0.38431373],\n        [0.52156866, 0.41960785, 0.36862746]],\n\n       ...,\n\n       [[0.38431373, 0.28627452, 0.25882354],\n        [0.4       , 0.3019608 , 0.27450982],\n        [0.39215687, 0.3019608 , 0.27058825],\n        ...,\n        [0.45882353, 0.36078432, 0.33333334],\n        [0.43529412, 0.3372549 , 0.30980393],\n        [0.42352942, 0.3254902 , 0.29803923]],\n\n       [[0.39607844, 0.29803923, 0.27058825],\n        [0.39607844, 0.29803923, 0.27058825],\n        [0.3882353 , 0.29803923, 0.26666668],\n        ...,\n        [0.45882353, 0.36078432, 0.33333334],\n        [0.43529412, 0.3372549 , 0.30980393],\n        [0.42352942, 0.3254902 , 0.29803923]],\n\n       [[0.4       , 0.3019608 , 0.27450982],\n        [0.38431373, 0.28627452, 0.25882354],\n        [0.38431373, 0.29411766, 0.2627451 ],\n        ...,\n        [0.45882353, 0.36078432, 0.33333334],\n        [0.43137255, 0.33333334, 0.30588236],\n        [0.42352942, 0.3254902 , 0.29803923]]], dtype=float32)>), 1), (('Kříženec', '5 let', 'Černá', 'Střední - 10-17kg', <tf.Tensor: shape=(224, 224, 3), dtype=float32, numpy=\narray([[[0.53333336, 0.4117647 , 0.3019608 ],\n        [0.5294118 , 0.40784314, 0.29411766],\n        [0.54901963, 0.42745098, 0.3137255 ],\n        ...,\n        [0.28235295, 0.22352941, 0.14901961],\n        [0.2784314 , 0.21960784, 0.14509805],\n        [0.27450982, 0.21568628, 0.13333334]],\n\n       [[0.5411765 , 0.41960785, 0.30980393],\n        [0.56078434, 0.4392157 , 0.3254902 ],\n        [0.5568628 , 0.43529412, 0.3137255 ],\n        ...,\n        [0.30588236, 0.25490198, 0.18039216],\n        [0.29803923, 0.24705882, 0.17254902],\n        [0.29803923, 0.24705882, 0.17254902]],\n\n       [[0.5176471 , 0.40392157, 0.2784314 ],\n        [0.5411765 , 0.42745098, 0.29411766],\n        [0.5647059 , 0.45490196, 0.30980393],\n        ...,\n        [0.33333334, 0.27450982, 0.2       ],\n        [0.32941177, 0.27058825, 0.19607843],\n        [0.33333334, 0.27450982, 0.2       ]],\n\n       ...,\n\n       [[0.10196079, 0.07450981, 0.05098039],\n        [0.10196079, 0.07450981, 0.05098039],\n        [0.10196079, 0.07450981, 0.05098039],\n        ...,\n        [0.61960787, 0.4862745 , 0.3372549 ],\n        [0.62352943, 0.49019608, 0.34117648],\n        [0.6313726 , 0.49803922, 0.34901962]],\n\n       [[0.10196079, 0.07450981, 0.05098039],\n        [0.10196079, 0.07450981, 0.05098039],\n        [0.10196079, 0.07450981, 0.05098039],\n        ...,\n        [0.62352943, 0.49411765, 0.33333334],\n        [0.6313726 , 0.5019608 , 0.34117648],\n        [0.64705884, 0.5176471 , 0.35686275]],\n\n       [[0.10196079, 0.07450981, 0.05098039],\n        [0.10196079, 0.07450981, 0.05098039],\n        [0.10196079, 0.07450981, 0.05098039],\n        ...,\n        [0.62352943, 0.49411765, 0.33333334],\n        [0.6392157 , 0.5019608 , 0.34509805],\n        [0.6666667 , 0.5294118 , 0.37254903]]], dtype=float32)>, <tf.Tensor: shape=(224, 224, 3), dtype=float32, numpy=\narray([[[0.85490197, 0.69803923, 0.7019608 ],\n        [0.8509804 , 0.69411767, 0.69803923],\n        [0.84705883, 0.6901961 , 0.69411767],\n        ...,\n        [0.85490197, 0.6901961 , 0.7058824 ],\n        [0.85882354, 0.69411767, 0.70980394],\n        [0.85882354, 0.69411767, 0.70980394]],\n\n       [[0.8392157 , 0.68235296, 0.6862745 ],\n        [0.84313726, 0.6862745 , 0.6901961 ],\n        [0.8509804 , 0.69411767, 0.69803923],\n        ...,\n        [0.85490197, 0.6901961 , 0.7058824 ],\n        [0.85490197, 0.6901961 , 0.7058824 ],\n        [0.85490197, 0.6901961 , 0.7058824 ]],\n\n       [[0.84313726, 0.6862745 , 0.6901961 ],\n        [0.84705883, 0.6901961 , 0.69411767],\n        [0.8509804 , 0.69411767, 0.69803923],\n        ...,\n        [0.8509804 , 0.6862745 , 0.7019608 ],\n        [0.85490197, 0.6901961 , 0.7058824 ],\n        [0.85490197, 0.6901961 , 0.7058824 ]],\n\n       ...,\n\n       [[0.68235296, 0.1254902 , 0.28235295],\n        [0.6862745 , 0.12941177, 0.28627452],\n        [0.6862745 , 0.12941177, 0.28627452],\n        ...,\n        [0.70980394, 0.14901961, 0.31764707],\n        [0.7058824 , 0.14509805, 0.3137255 ],\n        [0.7058824 , 0.14509805, 0.3137255 ]],\n\n       [[0.6862745 , 0.12941177, 0.28627452],\n        [0.6862745 , 0.12941177, 0.28627452],\n        [0.6901961 , 0.13333334, 0.2901961 ],\n        ...,\n        [0.7058824 , 0.14509805, 0.3137255 ],\n        [0.7058824 , 0.14509805, 0.3137255 ],\n        [0.7058824 , 0.14509805, 0.3137255 ]],\n\n       [[0.6862745 , 0.12941177, 0.28627452],\n        [0.6862745 , 0.12941177, 0.28627452],\n        [0.6901961 , 0.13333334, 0.2901961 ],\n        ...,\n        [0.70980394, 0.14901961, 0.31764707],\n        [0.70980394, 0.14901961, 0.31764707],\n        [0.70980394, 0.14901961, 0.31764707]]], dtype=float32)>), 1), (('Kříženec', '5 let', 'Černá', 'Střední - 10-17kg', <tf.Tensor: shape=(224, 224, 3), dtype=float32, numpy=\narray([[[0.53333336, 0.4117647 , 0.3019608 ],\n        [0.5294118 , 0.40784314, 0.29411766],\n        [0.54901963, 0.42745098, 0.3137255 ],\n        ...,\n        [0.28235295, 0.22352941, 0.14901961],\n        [0.2784314 , 0.21960784, 0.14509805],\n        [0.27450982, 0.21568628, 0.13333334]],\n\n       [[0.5411765 , 0.41960785, 0.30980393],\n        [0.56078434, 0.4392157 , 0.3254902 ],\n        [0.5568628 , 0.43529412, 0.3137255 ],\n        ...,\n        [0.30588236, 0.25490198, 0.18039216],\n        [0.29803923, 0.24705882, 0.17254902],\n        [0.29803923, 0.24705882, 0.17254902]],\n\n       [[0.5176471 , 0.40392157, 0.2784314 ],\n        [0.5411765 , 0.42745098, 0.29411766],\n        [0.5647059 , 0.45490196, 0.30980393],\n        ...,\n        [0.33333334, 0.27450982, 0.2       ],\n        [0.32941177, 0.27058825, 0.19607843],\n        [0.33333334, 0.27450982, 0.2       ]],\n\n       ...,\n\n       [[0.10196079, 0.07450981, 0.05098039],\n        [0.10196079, 0.07450981, 0.05098039],\n        [0.10196079, 0.07450981, 0.05098039],\n        ...,\n        [0.61960787, 0.4862745 , 0.3372549 ],\n        [0.62352943, 0.49019608, 0.34117648],\n        [0.6313726 , 0.49803922, 0.34901962]],\n\n       [[0.10196079, 0.07450981, 0.05098039],\n        [0.10196079, 0.07450981, 0.05098039],\n        [0.10196079, 0.07450981, 0.05098039],\n        ...,\n        [0.62352943, 0.49411765, 0.33333334],\n        [0.6313726 , 0.5019608 , 0.34117648],\n        [0.64705884, 0.5176471 , 0.35686275]],\n\n       [[0.10196079, 0.07450981, 0.05098039],\n        [0.10196079, 0.07450981, 0.05098039],\n        [0.10196079, 0.07450981, 0.05098039],\n        ...,\n        [0.62352943, 0.49411765, 0.33333334],\n        [0.6392157 , 0.5019608 , 0.34509805],\n        [0.6666667 , 0.5294118 , 0.37254903]]], dtype=float32)>, <tf.Tensor: shape=(224, 224, 3), dtype=float32, numpy=\narray([[[0.74509805, 0.6784314 , 0.6392157 ],\n        [0.69803923, 0.6313726 , 0.5921569 ],\n        [0.7058824 , 0.6392157 , 0.6       ],\n        ...,\n        [0.78039217, 0.7764706 , 0.76862746],\n        [0.76862746, 0.7647059 , 0.75686276],\n        [0.78039217, 0.7764706 , 0.76862746]],\n\n       [[0.77254903, 0.7058824 , 0.6666667 ],\n        [0.74509805, 0.6784314 , 0.6392157 ],\n        [0.7411765 , 0.6745098 , 0.63529414],\n        ...,\n        [0.80784315, 0.80784315, 0.8       ],\n        [0.79607844, 0.79607844, 0.7882353 ],\n        [0.7882353 , 0.7882353 , 0.78039217]],\n\n       [[0.7921569 , 0.7372549 , 0.69411767],\n        [0.7882353 , 0.73333335, 0.6901961 ],\n        [0.77254903, 0.7176471 , 0.68235296],\n        ...,\n        [0.827451  , 0.8235294 , 0.8156863 ],\n        [0.8156863 , 0.8117647 , 0.8039216 ],\n        [0.8       , 0.79607844, 0.7882353 ]],\n\n       ...,\n\n       [[0.70980394, 0.6745098 , 0.64705884],\n        [0.7019608 , 0.6666667 , 0.6392157 ],\n        [0.74509805, 0.70980394, 0.68235296],\n        ...,\n        [0.70980394, 0.69803923, 0.67058825],\n        [0.7019608 , 0.68235296, 0.65882355],\n        [0.6901961 , 0.67058825, 0.64705884]],\n\n       [[0.7019608 , 0.6627451 , 0.627451  ],\n        [0.7019608 , 0.6666667 , 0.6313726 ],\n        [0.6862745 , 0.6509804 , 0.6156863 ],\n        ...,\n        [0.7058824 , 0.69411767, 0.6666667 ],\n        [0.7019608 , 0.68235296, 0.65882355],\n        [0.7058824 , 0.6862745 , 0.6627451 ]],\n\n       [[0.69411767, 0.654902  , 0.61960787],\n        [0.69411767, 0.654902  , 0.61960787],\n        [0.68235296, 0.6431373 , 0.60784316],\n        ...,\n        [0.7294118 , 0.7019608 , 0.67058825],\n        [0.72156864, 0.69411767, 0.67058825],\n        [0.7254902 , 0.69803923, 0.6666667 ]]], dtype=float32)>), 1), (('Kříženec', '5 let', 'Černá', 'Střední - 10-17kg', <tf.Tensor: shape=(224, 224, 3), dtype=float32, numpy=\narray([[[0.53333336, 0.4117647 , 0.3019608 ],\n        [0.5294118 , 0.40784314, 0.29411766],\n        [0.54901963, 0.42745098, 0.3137255 ],\n        ...,\n        [0.28235295, 0.22352941, 0.14901961],\n        [0.2784314 , 0.21960784, 0.14509805],\n        [0.27450982, 0.21568628, 0.13333334]],\n\n       [[0.5411765 , 0.41960785, 0.30980393],\n        [0.56078434, 0.4392157 , 0.3254902 ],\n        [0.5568628 , 0.43529412, 0.3137255 ],\n        ...,\n        [0.30588236, 0.25490198, 0.18039216],\n        [0.29803923, 0.24705882, 0.17254902],\n        [0.29803923, 0.24705882, 0.17254902]],\n\n       [[0.5176471 , 0.40392157, 0.2784314 ],\n        [0.5411765 , 0.42745098, 0.29411766],\n        [0.5647059 , 0.45490196, 0.30980393],\n        ...,\n        [0.33333334, 0.27450982, 0.2       ],\n        [0.32941177, 0.27058825, 0.19607843],\n        [0.33333334, 0.27450982, 0.2       ]],\n\n       ...,\n\n       [[0.10196079, 0.07450981, 0.05098039],\n        [0.10196079, 0.07450981, 0.05098039],\n        [0.10196079, 0.07450981, 0.05098039],\n        ...,\n        [0.61960787, 0.4862745 , 0.3372549 ],\n        [0.62352943, 0.49019608, 0.34117648],\n        [0.6313726 , 0.49803922, 0.34901962]],\n\n       [[0.10196079, 0.07450981, 0.05098039],\n        [0.10196079, 0.07450981, 0.05098039],\n        [0.10196079, 0.07450981, 0.05098039],\n        ...,\n        [0.62352943, 0.49411765, 0.33333334],\n        [0.6313726 , 0.5019608 , 0.34117648],\n        [0.64705884, 0.5176471 , 0.35686275]],\n\n       [[0.10196079, 0.07450981, 0.05098039],\n        [0.10196079, 0.07450981, 0.05098039],\n        [0.10196079, 0.07450981, 0.05098039],\n        ...,\n        [0.62352943, 0.49411765, 0.33333334],\n        [0.6392157 , 0.5019608 , 0.34509805],\n        [0.6666667 , 0.5294118 , 0.37254903]]], dtype=float32)>, <tf.Tensor: shape=(224, 224, 3), dtype=float32, numpy=\narray([[[0.7764706 , 0.7372549 , 0.6901961 ],\n        [0.7882353 , 0.7490196 , 0.7019608 ],\n        [0.7882353 , 0.7411765 , 0.69411767],\n        ...,\n        [0.7764706 , 0.81960785, 0.827451  ],\n        [0.78039217, 0.8235294 , 0.83137256],\n        [0.78039217, 0.8235294 , 0.83137256]],\n\n       [[0.7764706 , 0.7372549 , 0.6901961 ],\n        [0.7882353 , 0.7490196 , 0.7019608 ],\n        [0.7882353 , 0.7411765 , 0.69411767],\n        ...,\n        [0.7764706 , 0.81960785, 0.827451  ],\n        [0.78039217, 0.8235294 , 0.83137256],\n        [0.78039217, 0.8235294 , 0.83137256]],\n\n       [[0.7764706 , 0.7372549 , 0.6901961 ],\n        [0.7882353 , 0.7490196 , 0.7019608 ],\n        [0.7921569 , 0.74509805, 0.69803923],\n        ...,\n        [0.7764706 , 0.81960785, 0.827451  ],\n        [0.7764706 , 0.81960785, 0.827451  ],\n        [0.78039217, 0.8235294 , 0.83137256]],\n\n       ...,\n\n       [[0.7372549 , 0.70980394, 0.6862745 ],\n        [0.73333335, 0.7058824 , 0.68235296],\n        [0.73333335, 0.69803923, 0.6784314 ],\n        ...,\n        [0.6117647 , 0.6392157 , 0.67058825],\n        [0.6117647 , 0.6392157 , 0.67058825],\n        [0.6117647 , 0.6392157 , 0.67058825]],\n\n       [[0.7411765 , 0.7137255 , 0.6901961 ],\n        [0.73333335, 0.7058824 , 0.68235296],\n        [0.7294118 , 0.69411767, 0.6745098 ],\n        ...,\n        [0.60784316, 0.63529414, 0.6666667 ],\n        [0.60784316, 0.63529414, 0.6666667 ],\n        [0.6117647 , 0.6392157 , 0.67058825]],\n\n       [[0.7411765 , 0.7137255 , 0.6901961 ],\n        [0.73333335, 0.7058824 , 0.68235296],\n        [0.7294118 , 0.69411767, 0.6745098 ],\n        ...,\n        [0.60784316, 0.63529414, 0.6666667 ],\n        [0.60784316, 0.63529414, 0.6666667 ],\n        [0.60784316, 0.63529414, 0.6666667 ]]], dtype=float32)>), 1), (('Kříženec', '5 let', 'Černá', 'Střední - 10-17kg', <tf.Tensor: shape=(224, 224, 3), dtype=float32, numpy=\narray([[[0.09803922, 0.11372549, 0.14901961],\n        [0.13725491, 0.16470589, 0.19607843],\n        [0.15686275, 0.18431373, 0.22352941],\n        ...,\n        [0.52156866, 0.42745098, 0.38039216],\n        [0.5294118 , 0.42745098, 0.3764706 ],\n        [0.5137255 , 0.4117647 , 0.36078432]],\n\n       [[0.14509805, 0.16078432, 0.19607843],\n        [0.15686275, 0.17254902, 0.20784314],\n        [0.1764706 , 0.19215687, 0.23529412],\n        ...,\n        [0.53333336, 0.4392157 , 0.39215687],\n        [0.53333336, 0.43137255, 0.38039216],\n        [0.5137255 , 0.4117647 , 0.36078432]],\n\n       [[0.10980392, 0.1254902 , 0.16078432],\n        [0.15686275, 0.17254902, 0.20784314],\n        [0.18039216, 0.19607843, 0.23921569],\n        ...,\n        [0.5372549 , 0.44313726, 0.39607844],\n        [0.5372549 , 0.43529412, 0.38431373],\n        [0.52156866, 0.41960785, 0.36862746]],\n\n       ...,\n\n       [[0.38431373, 0.28627452, 0.25882354],\n        [0.4       , 0.3019608 , 0.27450982],\n        [0.39215687, 0.3019608 , 0.27058825],\n        ...,\n        [0.45882353, 0.36078432, 0.33333334],\n        [0.43529412, 0.3372549 , 0.30980393],\n        [0.42352942, 0.3254902 , 0.29803923]],\n\n       [[0.39607844, 0.29803923, 0.27058825],\n        [0.39607844, 0.29803923, 0.27058825],\n        [0.3882353 , 0.29803923, 0.26666668],\n        ...,\n        [0.45882353, 0.36078432, 0.33333334],\n        [0.43529412, 0.3372549 , 0.30980393],\n        [0.42352942, 0.3254902 , 0.29803923]],\n\n       [[0.4       , 0.3019608 , 0.27450982],\n        [0.38431373, 0.28627452, 0.25882354],\n        [0.38431373, 0.29411766, 0.2627451 ],\n        ...,\n        [0.45882353, 0.36078432, 0.33333334],\n        [0.43137255, 0.33333334, 0.30588236],\n        [0.42352942, 0.3254902 , 0.29803923]]], dtype=float32)>, <tf.Tensor: shape=(224, 224, 3), dtype=float32, numpy=\narray([[[0.85490197, 0.69803923, 0.7019608 ],\n        [0.8509804 , 0.69411767, 0.69803923],\n        [0.84705883, 0.6901961 , 0.69411767],\n        ...,\n        [0.85490197, 0.6901961 , 0.7058824 ],\n        [0.85882354, 0.69411767, 0.70980394],\n        [0.85882354, 0.69411767, 0.70980394]],\n\n       [[0.8392157 , 0.68235296, 0.6862745 ],\n        [0.84313726, 0.6862745 , 0.6901961 ],\n        [0.8509804 , 0.69411767, 0.69803923],\n        ...,\n        [0.85490197, 0.6901961 , 0.7058824 ],\n        [0.85490197, 0.6901961 , 0.7058824 ],\n        [0.85490197, 0.6901961 , 0.7058824 ]],\n\n       [[0.84313726, 0.6862745 , 0.6901961 ],\n        [0.84705883, 0.6901961 , 0.69411767],\n        [0.8509804 , 0.69411767, 0.69803923],\n        ...,\n        [0.8509804 , 0.6862745 , 0.7019608 ],\n        [0.85490197, 0.6901961 , 0.7058824 ],\n        [0.85490197, 0.6901961 , 0.7058824 ]],\n\n       ...,\n\n       [[0.68235296, 0.1254902 , 0.28235295],\n        [0.6862745 , 0.12941177, 0.28627452],\n        [0.6862745 , 0.12941177, 0.28627452],\n        ...,\n        [0.70980394, 0.14901961, 0.31764707],\n        [0.7058824 , 0.14509805, 0.3137255 ],\n        [0.7058824 , 0.14509805, 0.3137255 ]],\n\n       [[0.6862745 , 0.12941177, 0.28627452],\n        [0.6862745 , 0.12941177, 0.28627452],\n        [0.6901961 , 0.13333334, 0.2901961 ],\n        ...,\n        [0.7058824 , 0.14509805, 0.3137255 ],\n        [0.7058824 , 0.14509805, 0.3137255 ],\n        [0.7058824 , 0.14509805, 0.3137255 ]],\n\n       [[0.6862745 , 0.12941177, 0.28627452],\n        [0.6862745 , 0.12941177, 0.28627452],\n        [0.6901961 , 0.13333334, 0.2901961 ],\n        ...,\n        [0.70980394, 0.14901961, 0.31764707],\n        [0.70980394, 0.14901961, 0.31764707],\n        [0.70980394, 0.14901961, 0.31764707]]], dtype=float32)>), 1), (('Kříženec', '5 let', 'Černá', 'Střední - 10-17kg', <tf.Tensor: shape=(224, 224, 3), dtype=float32, numpy=\narray([[[0.09803922, 0.11372549, 0.14901961],\n        [0.13725491, 0.16470589, 0.19607843],\n        [0.15686275, 0.18431373, 0.22352941],\n        ...,\n        [0.52156866, 0.42745098, 0.38039216],\n        [0.5294118 , 0.42745098, 0.3764706 ],\n        [0.5137255 , 0.4117647 , 0.36078432]],\n\n       [[0.14509805, 0.16078432, 0.19607843],\n        [0.15686275, 0.17254902, 0.20784314],\n        [0.1764706 , 0.19215687, 0.23529412],\n        ...,\n        [0.53333336, 0.4392157 , 0.39215687],\n        [0.53333336, 0.43137255, 0.38039216],\n        [0.5137255 , 0.4117647 , 0.36078432]],\n\n       [[0.10980392, 0.1254902 , 0.16078432],\n        [0.15686275, 0.17254902, 0.20784314],\n        [0.18039216, 0.19607843, 0.23921569],\n        ...,\n        [0.5372549 , 0.44313726, 0.39607844],\n        [0.5372549 , 0.43529412, 0.38431373],\n        [0.52156866, 0.41960785, 0.36862746]],\n\n       ...,\n\n       [[0.38431373, 0.28627452, 0.25882354],\n        [0.4       , 0.3019608 , 0.27450982],\n        [0.39215687, 0.3019608 , 0.27058825],\n        ...,\n        [0.45882353, 0.36078432, 0.33333334],\n        [0.43529412, 0.3372549 , 0.30980393],\n        [0.42352942, 0.3254902 , 0.29803923]],\n\n       [[0.39607844, 0.29803923, 0.27058825],\n        [0.39607844, 0.29803923, 0.27058825],\n        [0.3882353 , 0.29803923, 0.26666668],\n        ...,\n        [0.45882353, 0.36078432, 0.33333334],\n        [0.43529412, 0.3372549 , 0.30980393],\n        [0.42352942, 0.3254902 , 0.29803923]],\n\n       [[0.4       , 0.3019608 , 0.27450982],\n        [0.38431373, 0.28627452, 0.25882354],\n        [0.38431373, 0.29411766, 0.2627451 ],\n        ...,\n        [0.45882353, 0.36078432, 0.33333334],\n        [0.43137255, 0.33333334, 0.30588236],\n        [0.42352942, 0.3254902 , 0.29803923]]], dtype=float32)>, <tf.Tensor: shape=(224, 224, 3), dtype=float32, numpy=\narray([[[0.74509805, 0.6784314 , 0.6392157 ],\n        [0.69803923, 0.6313726 , 0.5921569 ],\n        [0.7058824 , 0.6392157 , 0.6       ],\n        ...,\n        [0.78039217, 0.7764706 , 0.76862746],\n        [0.76862746, 0.7647059 , 0.75686276],\n        [0.78039217, 0.7764706 , 0.76862746]],\n\n       [[0.77254903, 0.7058824 , 0.6666667 ],\n        [0.74509805, 0.6784314 , 0.6392157 ],\n        [0.7411765 , 0.6745098 , 0.63529414],\n        ...,\n        [0.80784315, 0.80784315, 0.8       ],\n        [0.79607844, 0.79607844, 0.7882353 ],\n        [0.7882353 , 0.7882353 , 0.78039217]],\n\n       [[0.7921569 , 0.7372549 , 0.69411767],\n        [0.7882353 , 0.73333335, 0.6901961 ],\n        [0.77254903, 0.7176471 , 0.68235296],\n        ...,\n        [0.827451  , 0.8235294 , 0.8156863 ],\n        [0.8156863 , 0.8117647 , 0.8039216 ],\n        [0.8       , 0.79607844, 0.7882353 ]],\n\n       ...,\n\n       [[0.70980394, 0.6745098 , 0.64705884],\n        [0.7019608 , 0.6666667 , 0.6392157 ],\n        [0.74509805, 0.70980394, 0.68235296],\n        ...,\n        [0.70980394, 0.69803923, 0.67058825],\n        [0.7019608 , 0.68235296, 0.65882355],\n        [0.6901961 , 0.67058825, 0.64705884]],\n\n       [[0.7019608 , 0.6627451 , 0.627451  ],\n        [0.7019608 , 0.6666667 , 0.6313726 ],\n        [0.6862745 , 0.6509804 , 0.6156863 ],\n        ...,\n        [0.7058824 , 0.69411767, 0.6666667 ],\n        [0.7019608 , 0.68235296, 0.65882355],\n        [0.7058824 , 0.6862745 , 0.6627451 ]],\n\n       [[0.69411767, 0.654902  , 0.61960787],\n        [0.69411767, 0.654902  , 0.61960787],\n        [0.68235296, 0.6431373 , 0.60784316],\n        ...,\n        [0.7294118 , 0.7019608 , 0.67058825],\n        [0.72156864, 0.69411767, 0.67058825],\n        [0.7254902 , 0.69803923, 0.6666667 ]]], dtype=float32)>), 1), (('Kříženec', '5 let', 'Černá', 'Střední - 10-17kg', <tf.Tensor: shape=(224, 224, 3), dtype=float32, numpy=\narray([[[0.09803922, 0.11372549, 0.14901961],\n        [0.13725491, 0.16470589, 0.19607843],\n        [0.15686275, 0.18431373, 0.22352941],\n        ...,\n        [0.52156866, 0.42745098, 0.38039216],\n        [0.5294118 , 0.42745098, 0.3764706 ],\n        [0.5137255 , 0.4117647 , 0.36078432]],\n\n       [[0.14509805, 0.16078432, 0.19607843],\n        [0.15686275, 0.17254902, 0.20784314],\n        [0.1764706 , 0.19215687, 0.23529412],\n        ...,\n        [0.53333336, 0.4392157 , 0.39215687],\n        [0.53333336, 0.43137255, 0.38039216],\n        [0.5137255 , 0.4117647 , 0.36078432]],\n\n       [[0.10980392, 0.1254902 , 0.16078432],\n        [0.15686275, 0.17254902, 0.20784314],\n        [0.18039216, 0.19607843, 0.23921569],\n        ...,\n        [0.5372549 , 0.44313726, 0.39607844],\n        [0.5372549 , 0.43529412, 0.38431373],\n        [0.52156866, 0.41960785, 0.36862746]],\n\n       ...,\n\n       [[0.38431373, 0.28627452, 0.25882354],\n        [0.4       , 0.3019608 , 0.27450982],\n        [0.39215687, 0.3019608 , 0.27058825],\n        ...,\n        [0.45882353, 0.36078432, 0.33333334],\n        [0.43529412, 0.3372549 , 0.30980393],\n        [0.42352942, 0.3254902 , 0.29803923]],\n\n       [[0.39607844, 0.29803923, 0.27058825],\n        [0.39607844, 0.29803923, 0.27058825],\n        [0.3882353 , 0.29803923, 0.26666668],\n        ...,\n        [0.45882353, 0.36078432, 0.33333334],\n        [0.43529412, 0.3372549 , 0.30980393],\n        [0.42352942, 0.3254902 , 0.29803923]],\n\n       [[0.4       , 0.3019608 , 0.27450982],\n        [0.38431373, 0.28627452, 0.25882354],\n        [0.38431373, 0.29411766, 0.2627451 ],\n        ...,\n        [0.45882353, 0.36078432, 0.33333334],\n        [0.43137255, 0.33333334, 0.30588236],\n        [0.42352942, 0.3254902 , 0.29803923]]], dtype=float32)>, <tf.Tensor: shape=(224, 224, 3), dtype=float32, numpy=\narray([[[0.7764706 , 0.7372549 , 0.6901961 ],\n        [0.7882353 , 0.7490196 , 0.7019608 ],\n        [0.7882353 , 0.7411765 , 0.69411767],\n        ...,\n        [0.7764706 , 0.81960785, 0.827451  ],\n        [0.78039217, 0.8235294 , 0.83137256],\n        [0.78039217, 0.8235294 , 0.83137256]],\n\n       [[0.7764706 , 0.7372549 , 0.6901961 ],\n        [0.7882353 , 0.7490196 , 0.7019608 ],\n        [0.7882353 , 0.7411765 , 0.69411767],\n        ...,\n        [0.7764706 , 0.81960785, 0.827451  ],\n        [0.78039217, 0.8235294 , 0.83137256],\n        [0.78039217, 0.8235294 , 0.83137256]],\n\n       [[0.7764706 , 0.7372549 , 0.6901961 ],\n        [0.7882353 , 0.7490196 , 0.7019608 ],\n        [0.7921569 , 0.74509805, 0.69803923],\n        ...,\n        [0.7764706 , 0.81960785, 0.827451  ],\n        [0.7764706 , 0.81960785, 0.827451  ],\n        [0.78039217, 0.8235294 , 0.83137256]],\n\n       ...,\n\n       [[0.7372549 , 0.70980394, 0.6862745 ],\n        [0.73333335, 0.7058824 , 0.68235296],\n        [0.73333335, 0.69803923, 0.6784314 ],\n        ...,\n        [0.6117647 , 0.6392157 , 0.67058825],\n        [0.6117647 , 0.6392157 , 0.67058825],\n        [0.6117647 , 0.6392157 , 0.67058825]],\n\n       [[0.7411765 , 0.7137255 , 0.6901961 ],\n        [0.73333335, 0.7058824 , 0.68235296],\n        [0.7294118 , 0.69411767, 0.6745098 ],\n        ...,\n        [0.60784316, 0.63529414, 0.6666667 ],\n        [0.60784316, 0.63529414, 0.6666667 ],\n        [0.6117647 , 0.6392157 , 0.67058825]],\n\n       [[0.7411765 , 0.7137255 , 0.6901961 ],\n        [0.73333335, 0.7058824 , 0.68235296],\n        [0.7294118 , 0.69411767, 0.6745098 ],\n        ...,\n        [0.60784316, 0.63529414, 0.6666667 ],\n        [0.60784316, 0.63529414, 0.6666667 ],\n        [0.60784316, 0.63529414, 0.6666667 ]]], dtype=float32)>), 1), (('Kříženec', '5 let', 'Černá', 'Střední - 10-17kg', <tf.Tensor: shape=(224, 224, 3), dtype=float32, numpy=\narray([[[0.85490197, 0.69803923, 0.7019608 ],\n        [0.8509804 , 0.69411767, 0.69803923],\n        [0.84705883, 0.6901961 , 0.69411767],\n        ...,\n        [0.85490197, 0.6901961 , 0.7058824 ],\n        [0.85882354, 0.69411767, 0.70980394],\n        [0.85882354, 0.69411767, 0.70980394]],\n\n       [[0.8392157 , 0.68235296, 0.6862745 ],\n        [0.84313726, 0.6862745 , 0.6901961 ],\n        [0.8509804 , 0.69411767, 0.69803923],\n        ...,\n        [0.85490197, 0.6901961 , 0.7058824 ],\n        [0.85490197, 0.6901961 , 0.7058824 ],\n        [0.85490197, 0.6901961 , 0.7058824 ]],\n\n       [[0.84313726, 0.6862745 , 0.6901961 ],\n        [0.84705883, 0.6901961 , 0.69411767],\n        [0.8509804 , 0.69411767, 0.69803923],\n        ...,\n        [0.8509804 , 0.6862745 , 0.7019608 ],\n        [0.85490197, 0.6901961 , 0.7058824 ],\n        [0.85490197, 0.6901961 , 0.7058824 ]],\n\n       ...,\n\n       [[0.68235296, 0.1254902 , 0.28235295],\n        [0.6862745 , 0.12941177, 0.28627452],\n        [0.6862745 , 0.12941177, 0.28627452],\n        ...,\n        [0.70980394, 0.14901961, 0.31764707],\n        [0.7058824 , 0.14509805, 0.3137255 ],\n        [0.7058824 , 0.14509805, 0.3137255 ]],\n\n       [[0.6862745 , 0.12941177, 0.28627452],\n        [0.6862745 , 0.12941177, 0.28627452],\n        [0.6901961 , 0.13333334, 0.2901961 ],\n        ...,\n        [0.7058824 , 0.14509805, 0.3137255 ],\n        [0.7058824 , 0.14509805, 0.3137255 ],\n        [0.7058824 , 0.14509805, 0.3137255 ]],\n\n       [[0.6862745 , 0.12941177, 0.28627452],\n        [0.6862745 , 0.12941177, 0.28627452],\n        [0.6901961 , 0.13333334, 0.2901961 ],\n        ...,\n        [0.70980394, 0.14901961, 0.31764707],\n        [0.70980394, 0.14901961, 0.31764707],\n        [0.70980394, 0.14901961, 0.31764707]]], dtype=float32)>, <tf.Tensor: shape=(224, 224, 3), dtype=float32, numpy=\narray([[[0.74509805, 0.6784314 , 0.6392157 ],\n        [0.69803923, 0.6313726 , 0.5921569 ],\n        [0.7058824 , 0.6392157 , 0.6       ],\n        ...,\n        [0.78039217, 0.7764706 , 0.76862746],\n        [0.76862746, 0.7647059 , 0.75686276],\n        [0.78039217, 0.7764706 , 0.76862746]],\n\n       [[0.77254903, 0.7058824 , 0.6666667 ],\n        [0.74509805, 0.6784314 , 0.6392157 ],\n        [0.7411765 , 0.6745098 , 0.63529414],\n        ...,\n        [0.80784315, 0.80784315, 0.8       ],\n        [0.79607844, 0.79607844, 0.7882353 ],\n        [0.7882353 , 0.7882353 , 0.78039217]],\n\n       [[0.7921569 , 0.7372549 , 0.69411767],\n        [0.7882353 , 0.73333335, 0.6901961 ],\n        [0.77254903, 0.7176471 , 0.68235296],\n        ...,\n        [0.827451  , 0.8235294 , 0.8156863 ],\n        [0.8156863 , 0.8117647 , 0.8039216 ],\n        [0.8       , 0.79607844, 0.7882353 ]],\n\n       ...,\n\n       [[0.70980394, 0.6745098 , 0.64705884],\n        [0.7019608 , 0.6666667 , 0.6392157 ],\n        [0.74509805, 0.70980394, 0.68235296],\n        ...,\n        [0.70980394, 0.69803923, 0.67058825],\n        [0.7019608 , 0.68235296, 0.65882355],\n        [0.6901961 , 0.67058825, 0.64705884]],\n\n       [[0.7019608 , 0.6627451 , 0.627451  ],\n        [0.7019608 , 0.6666667 , 0.6313726 ],\n        [0.6862745 , 0.6509804 , 0.6156863 ],\n        ...,\n        [0.7058824 , 0.69411767, 0.6666667 ],\n        [0.7019608 , 0.68235296, 0.65882355],\n        [0.7058824 , 0.6862745 , 0.6627451 ]],\n\n       [[0.69411767, 0.654902  , 0.61960787],\n        [0.69411767, 0.654902  , 0.61960787],\n        [0.68235296, 0.6431373 , 0.60784316],\n        ...,\n        [0.7294118 , 0.7019608 , 0.67058825],\n        [0.72156864, 0.69411767, 0.67058825],\n        [0.7254902 , 0.69803923, 0.6666667 ]]], dtype=float32)>), 1), (('Kříženec', '5 let', 'Černá', 'Střední - 10-17kg', <tf.Tensor: shape=(224, 224, 3), dtype=float32, numpy=\narray([[[0.85490197, 0.69803923, 0.7019608 ],\n        [0.8509804 , 0.69411767, 0.69803923],\n        [0.84705883, 0.6901961 , 0.69411767],\n        ...,\n        [0.85490197, 0.6901961 , 0.7058824 ],\n        [0.85882354, 0.69411767, 0.70980394],\n        [0.85882354, 0.69411767, 0.70980394]],\n\n       [[0.8392157 , 0.68235296, 0.6862745 ],\n        [0.84313726, 0.6862745 , 0.6901961 ],\n        [0.8509804 , 0.69411767, 0.69803923],\n        ...,\n        [0.85490197, 0.6901961 , 0.7058824 ],\n        [0.85490197, 0.6901961 , 0.7058824 ],\n        [0.85490197, 0.6901961 , 0.7058824 ]],\n\n       [[0.84313726, 0.6862745 , 0.6901961 ],\n        [0.84705883, 0.6901961 , 0.69411767],\n        [0.8509804 , 0.69411767, 0.69803923],\n        ...,\n        [0.8509804 , 0.6862745 , 0.7019608 ],\n        [0.85490197, 0.6901961 , 0.7058824 ],\n        [0.85490197, 0.6901961 , 0.7058824 ]],\n\n       ...,\n\n       [[0.68235296, 0.1254902 , 0.28235295],\n        [0.6862745 , 0.12941177, 0.28627452],\n        [0.6862745 , 0.12941177, 0.28627452],\n        ...,\n        [0.70980394, 0.14901961, 0.31764707],\n        [0.7058824 , 0.14509805, 0.3137255 ],\n        [0.7058824 , 0.14509805, 0.3137255 ]],\n\n       [[0.6862745 , 0.12941177, 0.28627452],\n        [0.6862745 , 0.12941177, 0.28627452],\n        [0.6901961 , 0.13333334, 0.2901961 ],\n        ...,\n        [0.7058824 , 0.14509805, 0.3137255 ],\n        [0.7058824 , 0.14509805, 0.3137255 ],\n        [0.7058824 , 0.14509805, 0.3137255 ]],\n\n       [[0.6862745 , 0.12941177, 0.28627452],\n        [0.6862745 , 0.12941177, 0.28627452],\n        [0.6901961 , 0.13333334, 0.2901961 ],\n        ...,\n        [0.70980394, 0.14901961, 0.31764707],\n        [0.70980394, 0.14901961, 0.31764707],\n        [0.70980394, 0.14901961, 0.31764707]]], dtype=float32)>, <tf.Tensor: shape=(224, 224, 3), dtype=float32, numpy=\narray([[[0.7764706 , 0.7372549 , 0.6901961 ],\n        [0.7882353 , 0.7490196 , 0.7019608 ],\n        [0.7882353 , 0.7411765 , 0.69411767],\n        ...,\n        [0.7764706 , 0.81960785, 0.827451  ],\n        [0.78039217, 0.8235294 , 0.83137256],\n        [0.78039217, 0.8235294 , 0.83137256]],\n\n       [[0.7764706 , 0.7372549 , 0.6901961 ],\n        [0.7882353 , 0.7490196 , 0.7019608 ],\n        [0.7882353 , 0.7411765 , 0.69411767],\n        ...,\n        [0.7764706 , 0.81960785, 0.827451  ],\n        [0.78039217, 0.8235294 , 0.83137256],\n        [0.78039217, 0.8235294 , 0.83137256]],\n\n       [[0.7764706 , 0.7372549 , 0.6901961 ],\n        [0.7882353 , 0.7490196 , 0.7019608 ],\n        [0.7921569 , 0.74509805, 0.69803923],\n        ...,\n        [0.7764706 , 0.81960785, 0.827451  ],\n        [0.7764706 , 0.81960785, 0.827451  ],\n        [0.78039217, 0.8235294 , 0.83137256]],\n\n       ...,\n\n       [[0.7372549 , 0.70980394, 0.6862745 ],\n        [0.73333335, 0.7058824 , 0.68235296],\n        [0.73333335, 0.69803923, 0.6784314 ],\n        ...,\n        [0.6117647 , 0.6392157 , 0.67058825],\n        [0.6117647 , 0.6392157 , 0.67058825],\n        [0.6117647 , 0.6392157 , 0.67058825]],\n\n       [[0.7411765 , 0.7137255 , 0.6901961 ],\n        [0.73333335, 0.7058824 , 0.68235296],\n        [0.7294118 , 0.69411767, 0.6745098 ],\n        ...,\n        [0.60784316, 0.63529414, 0.6666667 ],\n        [0.60784316, 0.63529414, 0.6666667 ],\n        [0.6117647 , 0.6392157 , 0.67058825]],\n\n       [[0.7411765 , 0.7137255 , 0.6901961 ],\n        [0.73333335, 0.7058824 , 0.68235296],\n        [0.7294118 , 0.69411767, 0.6745098 ],\n        ...,\n        [0.60784316, 0.63529414, 0.6666667 ],\n        [0.60784316, 0.63529414, 0.6666667 ],\n        [0.60784316, 0.63529414, 0.6666667 ]]], dtype=float32)>), 1), (('Kříženec', '5 let', 'Černá', 'Střední - 10-17kg', <tf.Tensor: shape=(224, 224, 3), dtype=float32, numpy=\narray([[[0.74509805, 0.6784314 , 0.6392157 ],\n        [0.69803923, 0.6313726 , 0.5921569 ],\n        [0.7058824 , 0.6392157 , 0.6       ],\n        ...,\n        [0.78039217, 0.7764706 , 0.76862746],\n        [0.76862746, 0.7647059 , 0.75686276],\n        [0.78039217, 0.7764706 , 0.76862746]],\n\n       [[0.77254903, 0.7058824 , 0.6666667 ],\n        [0.74509805, 0.6784314 , 0.6392157 ],\n        [0.7411765 , 0.6745098 , 0.63529414],\n        ...,\n        [0.80784315, 0.80784315, 0.8       ],\n        [0.79607844, 0.79607844, 0.7882353 ],\n        [0.7882353 , 0.7882353 , 0.78039217]],\n\n       [[0.7921569 , 0.7372549 , 0.69411767],\n        [0.7882353 , 0.73333335, 0.6901961 ],\n        [0.77254903, 0.7176471 , 0.68235296],\n        ...,\n        [0.827451  , 0.8235294 , 0.8156863 ],\n        [0.8156863 , 0.8117647 , 0.8039216 ],\n        [0.8       , 0.79607844, 0.7882353 ]],\n\n       ...,\n\n       [[0.70980394, 0.6745098 , 0.64705884],\n        [0.7019608 , 0.6666667 , 0.6392157 ],\n        [0.74509805, 0.70980394, 0.68235296],\n        ...,\n        [0.70980394, 0.69803923, 0.67058825],\n        [0.7019608 , 0.68235296, 0.65882355],\n        [0.6901961 , 0.67058825, 0.64705884]],\n\n       [[0.7019608 , 0.6627451 , 0.627451  ],\n        [0.7019608 , 0.6666667 , 0.6313726 ],\n        [0.6862745 , 0.6509804 , 0.6156863 ],\n        ...,\n        [0.7058824 , 0.69411767, 0.6666667 ],\n        [0.7019608 , 0.68235296, 0.65882355],\n        [0.7058824 , 0.6862745 , 0.6627451 ]],\n\n       [[0.69411767, 0.654902  , 0.61960787],\n        [0.69411767, 0.654902  , 0.61960787],\n        [0.68235296, 0.6431373 , 0.60784316],\n        ...,\n        [0.7294118 , 0.7019608 , 0.67058825],\n        [0.72156864, 0.69411767, 0.67058825],\n        [0.7254902 , 0.69803923, 0.6666667 ]]], dtype=float32)>, <tf.Tensor: shape=(224, 224, 3), dtype=float32, numpy=\narray([[[0.7764706 , 0.7372549 , 0.6901961 ],\n        [0.7882353 , 0.7490196 , 0.7019608 ],\n        [0.7882353 , 0.7411765 , 0.69411767],\n        ...,\n        [0.7764706 , 0.81960785, 0.827451  ],\n        [0.78039217, 0.8235294 , 0.83137256],\n        [0.78039217, 0.8235294 , 0.83137256]],\n\n       [[0.7764706 , 0.7372549 , 0.6901961 ],\n        [0.7882353 , 0.7490196 , 0.7019608 ],\n        [0.7882353 , 0.7411765 , 0.69411767],\n        ...,\n        [0.7764706 , 0.81960785, 0.827451  ],\n        [0.78039217, 0.8235294 , 0.83137256],\n        [0.78039217, 0.8235294 , 0.83137256]],\n\n       [[0.7764706 , 0.7372549 , 0.6901961 ],\n        [0.7882353 , 0.7490196 , 0.7019608 ],\n        [0.7921569 , 0.74509805, 0.69803923],\n        ...,\n        [0.7764706 , 0.81960785, 0.827451  ],\n        [0.7764706 , 0.81960785, 0.827451  ],\n        [0.78039217, 0.8235294 , 0.83137256]],\n\n       ...,\n\n       [[0.7372549 , 0.70980394, 0.6862745 ],\n        [0.73333335, 0.7058824 , 0.68235296],\n        [0.73333335, 0.69803923, 0.6784314 ],\n        ...,\n        [0.6117647 , 0.6392157 , 0.67058825],\n        [0.6117647 , 0.6392157 , 0.67058825],\n        [0.6117647 , 0.6392157 , 0.67058825]],\n\n       [[0.7411765 , 0.7137255 , 0.6901961 ],\n        [0.73333335, 0.7058824 , 0.68235296],\n        [0.7294118 , 0.69411767, 0.6745098 ],\n        ...,\n        [0.60784316, 0.63529414, 0.6666667 ],\n        [0.60784316, 0.63529414, 0.6666667 ],\n        [0.6117647 , 0.6392157 , 0.67058825]],\n\n       [[0.7411765 , 0.7137255 , 0.6901961 ],\n        [0.73333335, 0.7058824 , 0.68235296],\n        [0.7294118 , 0.69411767, 0.6745098 ],\n        ...,\n        [0.60784316, 0.63529414, 0.6666667 ],\n        [0.60784316, 0.63529414, 0.6666667 ],\n        [0.60784316, 0.63529414, 0.6666667 ]]], dtype=float32)>), 1)] with type list",
            "\nDuring handling of the above exception, another exception occurred:\n",
            "\u001b[0;31mTypeError\u001b[0m                                 Traceback (most recent call last)",
            "\u001b[0;32m<ipython-input-18-5d61b3ab2460>\u001b[0m in \u001b[0;36m<cell line: 1>\u001b[0;34m()\u001b[0m\n\u001b[1;32m     15\u001b[0m \u001b[0;34m\u001b[0m\u001b[0m\n\u001b[1;32m     16\u001b[0m     \u001b[0mprint\u001b[0m\u001b[0;34m(\u001b[0m\u001b[0;34m\"Creating dataset...\"\u001b[0m\u001b[0;34m)\u001b[0m\u001b[0;34m\u001b[0m\u001b[0;34m\u001b[0m\u001b[0m\n\u001b[0;32m---> 17\u001b[0;31m     \u001b[0mdataset\u001b[0m \u001b[0;34m=\u001b[0m \u001b[0mpreprocess_dataset\u001b[0m\u001b[0;34m(\u001b[0m\u001b[0mfiltered_metadata\u001b[0m\u001b[0;34m)\u001b[0m\u001b[0;34m\u001b[0m\u001b[0;34m\u001b[0m\u001b[0m\n\u001b[0m\u001b[1;32m     18\u001b[0m \u001b[0;34m\u001b[0m\u001b[0m\n\u001b[1;32m     19\u001b[0m     \u001b[0;31m# Print out some example data from the dataset\u001b[0m\u001b[0;34m\u001b[0m\u001b[0;34m\u001b[0m\u001b[0m\n",
            "\u001b[0;32m<ipython-input-12-67feb3ce9194>\u001b[0m in \u001b[0;36mpreprocess_dataset\u001b[0;34m(metadata, target_size)\u001b[0m\n\u001b[1;32m    104\u001b[0m     \u001b[0;31m# Convert to a TensorFlow dataset\u001b[0m\u001b[0;34m\u001b[0m\u001b[0;34m\u001b[0m\u001b[0m\n\u001b[1;32m    105\u001b[0m     \u001b[0mprint\u001b[0m\u001b[0;34m(\u001b[0m\u001b[0;34m\"Converting data pairs to TensorFlow dataset...\"\u001b[0m\u001b[0;34m)\u001b[0m\u001b[0;34m\u001b[0m\u001b[0;34m\u001b[0m\u001b[0m\n\u001b[0;32m--> 106\u001b[0;31m     \u001b[0mdataset\u001b[0m \u001b[0;34m=\u001b[0m \u001b[0mtf\u001b[0m\u001b[0;34m.\u001b[0m\u001b[0mdata\u001b[0m\u001b[0;34m.\u001b[0m\u001b[0mDataset\u001b[0m\u001b[0;34m.\u001b[0m\u001b[0mfrom_tensor_slices\u001b[0m\u001b[0;34m(\u001b[0m\u001b[0mdata_pairs\u001b[0m\u001b[0;34m)\u001b[0m\u001b[0;34m\u001b[0m\u001b[0;34m\u001b[0m\u001b[0m\n\u001b[0m\u001b[1;32m    107\u001b[0m     \u001b[0mprint\u001b[0m\u001b[0;34m(\u001b[0m\u001b[0;34m\"Dataset conversion complete.\"\u001b[0m\u001b[0;34m)\u001b[0m\u001b[0;34m\u001b[0m\u001b[0;34m\u001b[0m\u001b[0m\n\u001b[1;32m    108\u001b[0m     \u001b[0;32mreturn\u001b[0m \u001b[0mdataset\u001b[0m\u001b[0;34m\u001b[0m\u001b[0;34m\u001b[0m\u001b[0m\n",
            "\u001b[0;32m/usr/local/lib/python3.10/dist-packages/tensorflow/python/data/ops/dataset_ops.py\u001b[0m in \u001b[0;36mfrom_tensor_slices\u001b[0;34m(tensors, name)\u001b[0m\n\u001b[1;32m    824\u001b[0m     \u001b[0;31m# pylint: disable=g-import-not-at-top,protected-access\u001b[0m\u001b[0;34m\u001b[0m\u001b[0;34m\u001b[0m\u001b[0m\n\u001b[1;32m    825\u001b[0m     \u001b[0;32mfrom\u001b[0m \u001b[0mtensorflow\u001b[0m\u001b[0;34m.\u001b[0m\u001b[0mpython\u001b[0m\u001b[0;34m.\u001b[0m\u001b[0mdata\u001b[0m\u001b[0;34m.\u001b[0m\u001b[0mops\u001b[0m \u001b[0;32mimport\u001b[0m \u001b[0mfrom_tensor_slices_op\u001b[0m\u001b[0;34m\u001b[0m\u001b[0;34m\u001b[0m\u001b[0m\n\u001b[0;32m--> 826\u001b[0;31m     \u001b[0;32mreturn\u001b[0m \u001b[0mfrom_tensor_slices_op\u001b[0m\u001b[0;34m.\u001b[0m\u001b[0m_from_tensor_slices\u001b[0m\u001b[0;34m(\u001b[0m\u001b[0mtensors\u001b[0m\u001b[0;34m,\u001b[0m \u001b[0mname\u001b[0m\u001b[0;34m)\u001b[0m\u001b[0;34m\u001b[0m\u001b[0;34m\u001b[0m\u001b[0m\n\u001b[0m\u001b[1;32m    827\u001b[0m     \u001b[0;31m# pylint: enable=g-import-not-at-top,protected-access\u001b[0m\u001b[0;34m\u001b[0m\u001b[0;34m\u001b[0m\u001b[0m\n\u001b[1;32m    828\u001b[0m \u001b[0;34m\u001b[0m\u001b[0m\n",
            "\u001b[0;32m/usr/local/lib/python3.10/dist-packages/tensorflow/python/data/ops/from_tensor_slices_op.py\u001b[0m in \u001b[0;36m_from_tensor_slices\u001b[0;34m(tensors, name)\u001b[0m\n\u001b[1;32m     23\u001b[0m \u001b[0;34m\u001b[0m\u001b[0m\n\u001b[1;32m     24\u001b[0m \u001b[0;32mdef\u001b[0m \u001b[0m_from_tensor_slices\u001b[0m\u001b[0;34m(\u001b[0m\u001b[0mtensors\u001b[0m\u001b[0;34m,\u001b[0m \u001b[0mname\u001b[0m\u001b[0;34m=\u001b[0m\u001b[0;32mNone\u001b[0m\u001b[0;34m)\u001b[0m\u001b[0;34m:\u001b[0m\u001b[0;34m\u001b[0m\u001b[0;34m\u001b[0m\u001b[0m\n\u001b[0;32m---> 25\u001b[0;31m   \u001b[0;32mreturn\u001b[0m \u001b[0m_TensorSliceDataset\u001b[0m\u001b[0;34m(\u001b[0m\u001b[0mtensors\u001b[0m\u001b[0;34m,\u001b[0m \u001b[0mname\u001b[0m\u001b[0;34m=\u001b[0m\u001b[0mname\u001b[0m\u001b[0;34m)\u001b[0m\u001b[0;34m\u001b[0m\u001b[0;34m\u001b[0m\u001b[0m\n\u001b[0m\u001b[1;32m     26\u001b[0m \u001b[0;34m\u001b[0m\u001b[0m\n\u001b[1;32m     27\u001b[0m \u001b[0;34m\u001b[0m\u001b[0m\n",
            "\u001b[0;32m/usr/local/lib/python3.10/dist-packages/tensorflow/python/data/ops/from_tensor_slices_op.py\u001b[0m in \u001b[0;36m__init__\u001b[0;34m(self, element, is_files, name)\u001b[0m\n\u001b[1;32m     31\u001b[0m   \u001b[0;32mdef\u001b[0m \u001b[0m__init__\u001b[0m\u001b[0;34m(\u001b[0m\u001b[0mself\u001b[0m\u001b[0;34m,\u001b[0m \u001b[0melement\u001b[0m\u001b[0;34m,\u001b[0m \u001b[0mis_files\u001b[0m\u001b[0;34m=\u001b[0m\u001b[0;32mFalse\u001b[0m\u001b[0;34m,\u001b[0m \u001b[0mname\u001b[0m\u001b[0;34m=\u001b[0m\u001b[0;32mNone\u001b[0m\u001b[0;34m)\u001b[0m\u001b[0;34m:\u001b[0m\u001b[0;34m\u001b[0m\u001b[0;34m\u001b[0m\u001b[0m\n\u001b[1;32m     32\u001b[0m     \u001b[0;34m\"\"\"See `Dataset.from_tensor_slices` for details.\"\"\"\u001b[0m\u001b[0;34m\u001b[0m\u001b[0;34m\u001b[0m\u001b[0m\n\u001b[0;32m---> 33\u001b[0;31m     \u001b[0melement\u001b[0m \u001b[0;34m=\u001b[0m \u001b[0mstructure\u001b[0m\u001b[0;34m.\u001b[0m\u001b[0mnormalize_element\u001b[0m\u001b[0;34m(\u001b[0m\u001b[0melement\u001b[0m\u001b[0;34m)\u001b[0m\u001b[0;34m\u001b[0m\u001b[0;34m\u001b[0m\u001b[0m\n\u001b[0m\u001b[1;32m     34\u001b[0m     \u001b[0mbatched_spec\u001b[0m \u001b[0;34m=\u001b[0m \u001b[0mstructure\u001b[0m\u001b[0;34m.\u001b[0m\u001b[0mtype_spec_from_value\u001b[0m\u001b[0;34m(\u001b[0m\u001b[0melement\u001b[0m\u001b[0;34m)\u001b[0m\u001b[0;34m\u001b[0m\u001b[0;34m\u001b[0m\u001b[0m\n\u001b[1;32m     35\u001b[0m     \u001b[0mself\u001b[0m\u001b[0;34m.\u001b[0m\u001b[0m_tensors\u001b[0m \u001b[0;34m=\u001b[0m \u001b[0mstructure\u001b[0m\u001b[0;34m.\u001b[0m\u001b[0mto_batched_tensor_list\u001b[0m\u001b[0;34m(\u001b[0m\u001b[0mbatched_spec\u001b[0m\u001b[0;34m,\u001b[0m \u001b[0melement\u001b[0m\u001b[0;34m)\u001b[0m\u001b[0;34m\u001b[0m\u001b[0;34m\u001b[0m\u001b[0m\n",
            "\u001b[0;32m/usr/local/lib/python3.10/dist-packages/tensorflow/python/data/util/structure.py\u001b[0m in \u001b[0;36mnormalize_element\u001b[0;34m(element, element_signature)\u001b[0m\n\u001b[1;32m    108\u001b[0m         \u001b[0;31m# the value. As a fallback try converting the value to a tensor.\u001b[0m\u001b[0;34m\u001b[0m\u001b[0;34m\u001b[0m\u001b[0m\n\u001b[1;32m    109\u001b[0m         normalized_components.append(\n\u001b[0;32m--> 110\u001b[0;31m             ops.convert_to_tensor(t, name=\"component_%d\" % i))\n\u001b[0m\u001b[1;32m    111\u001b[0m       \u001b[0;32melse\u001b[0m\u001b[0;34m:\u001b[0m\u001b[0;34m\u001b[0m\u001b[0;34m\u001b[0m\u001b[0m\n\u001b[1;32m    112\u001b[0m         \u001b[0;31m# To avoid a circular dependency between dataset_ops and structure,\u001b[0m\u001b[0;34m\u001b[0m\u001b[0;34m\u001b[0m\u001b[0m\n",
            "\u001b[0;32m/usr/local/lib/python3.10/dist-packages/tensorflow/python/profiler/trace.py\u001b[0m in \u001b[0;36mwrapped\u001b[0;34m(*args, **kwargs)\u001b[0m\n\u001b[1;32m    181\u001b[0m         \u001b[0;32mwith\u001b[0m \u001b[0mTrace\u001b[0m\u001b[0;34m(\u001b[0m\u001b[0mtrace_name\u001b[0m\u001b[0;34m,\u001b[0m \u001b[0;34m**\u001b[0m\u001b[0mtrace_kwargs\u001b[0m\u001b[0;34m)\u001b[0m\u001b[0;34m:\u001b[0m\u001b[0;34m\u001b[0m\u001b[0;34m\u001b[0m\u001b[0m\n\u001b[1;32m    182\u001b[0m           \u001b[0;32mreturn\u001b[0m \u001b[0mfunc\u001b[0m\u001b[0;34m(\u001b[0m\u001b[0;34m*\u001b[0m\u001b[0margs\u001b[0m\u001b[0;34m,\u001b[0m \u001b[0;34m**\u001b[0m\u001b[0mkwargs\u001b[0m\u001b[0;34m)\u001b[0m\u001b[0;34m\u001b[0m\u001b[0;34m\u001b[0m\u001b[0m\n\u001b[0;32m--> 183\u001b[0;31m       \u001b[0;32mreturn\u001b[0m \u001b[0mfunc\u001b[0m\u001b[0;34m(\u001b[0m\u001b[0;34m*\u001b[0m\u001b[0margs\u001b[0m\u001b[0;34m,\u001b[0m \u001b[0;34m**\u001b[0m\u001b[0mkwargs\u001b[0m\u001b[0;34m)\u001b[0m\u001b[0;34m\u001b[0m\u001b[0;34m\u001b[0m\u001b[0m\n\u001b[0m\u001b[1;32m    184\u001b[0m \u001b[0;34m\u001b[0m\u001b[0m\n\u001b[1;32m    185\u001b[0m     \u001b[0;32mreturn\u001b[0m \u001b[0mwrapped\u001b[0m\u001b[0;34m\u001b[0m\u001b[0;34m\u001b[0m\u001b[0m\n",
            "\u001b[0;32m/usr/local/lib/python3.10/dist-packages/tensorflow/python/framework/ops.py\u001b[0m in \u001b[0;36mconvert_to_tensor\u001b[0;34m(value, dtype, name, as_ref, preferred_dtype, dtype_hint, ctx, accepted_result_types)\u001b[0m\n\u001b[1;32m    711\u001b[0m   \u001b[0;31m# TODO(b/142518781): Fix all call-sites and remove redundant arg\u001b[0m\u001b[0;34m\u001b[0m\u001b[0;34m\u001b[0m\u001b[0m\n\u001b[1;32m    712\u001b[0m   \u001b[0mpreferred_dtype\u001b[0m \u001b[0;34m=\u001b[0m \u001b[0mpreferred_dtype\u001b[0m \u001b[0;32mor\u001b[0m \u001b[0mdtype_hint\u001b[0m\u001b[0;34m\u001b[0m\u001b[0;34m\u001b[0m\u001b[0m\n\u001b[0;32m--> 713\u001b[0;31m   return tensor_conversion_registry.convert(\n\u001b[0m\u001b[1;32m    714\u001b[0m       \u001b[0mvalue\u001b[0m\u001b[0;34m,\u001b[0m \u001b[0mdtype\u001b[0m\u001b[0;34m,\u001b[0m \u001b[0mname\u001b[0m\u001b[0;34m,\u001b[0m \u001b[0mas_ref\u001b[0m\u001b[0;34m,\u001b[0m \u001b[0mpreferred_dtype\u001b[0m\u001b[0;34m,\u001b[0m \u001b[0maccepted_result_types\u001b[0m\u001b[0;34m\u001b[0m\u001b[0;34m\u001b[0m\u001b[0m\n\u001b[1;32m    715\u001b[0m   )\n",
            "\u001b[0;32m/usr/local/lib/python3.10/dist-packages/tensorflow/python/framework/tensor_conversion_registry.py\u001b[0m in \u001b[0;36mconvert\u001b[0;34m(value, dtype, name, as_ref, preferred_dtype, accepted_result_types)\u001b[0m\n\u001b[1;32m    232\u001b[0m \u001b[0;34m\u001b[0m\u001b[0m\n\u001b[1;32m    233\u001b[0m     \u001b[0;32mif\u001b[0m \u001b[0mret\u001b[0m \u001b[0;32mis\u001b[0m \u001b[0;32mNone\u001b[0m\u001b[0;34m:\u001b[0m\u001b[0;34m\u001b[0m\u001b[0;34m\u001b[0m\u001b[0m\n\u001b[0;32m--> 234\u001b[0;31m       \u001b[0mret\u001b[0m \u001b[0;34m=\u001b[0m \u001b[0mconversion_func\u001b[0m\u001b[0;34m(\u001b[0m\u001b[0mvalue\u001b[0m\u001b[0;34m,\u001b[0m \u001b[0mdtype\u001b[0m\u001b[0;34m=\u001b[0m\u001b[0mdtype\u001b[0m\u001b[0;34m,\u001b[0m \u001b[0mname\u001b[0m\u001b[0;34m=\u001b[0m\u001b[0mname\u001b[0m\u001b[0;34m,\u001b[0m \u001b[0mas_ref\u001b[0m\u001b[0;34m=\u001b[0m\u001b[0mas_ref\u001b[0m\u001b[0;34m)\u001b[0m\u001b[0;34m\u001b[0m\u001b[0;34m\u001b[0m\u001b[0m\n\u001b[0m\u001b[1;32m    235\u001b[0m \u001b[0;34m\u001b[0m\u001b[0m\n\u001b[1;32m    236\u001b[0m     \u001b[0;32mif\u001b[0m \u001b[0mret\u001b[0m \u001b[0;32mis\u001b[0m \u001b[0mNotImplemented\u001b[0m\u001b[0;34m:\u001b[0m\u001b[0;34m\u001b[0m\u001b[0;34m\u001b[0m\u001b[0m\n",
            "\u001b[0;32m/usr/local/lib/python3.10/dist-packages/tensorflow/python/ops/array_ops.py\u001b[0m in \u001b[0;36m_autopacking_conversion_function\u001b[0;34m(v, dtype, name, as_ref)\u001b[0m\n\u001b[1;32m   1303\u001b[0m   \u001b[0;32melif\u001b[0m \u001b[0mdtype\u001b[0m \u001b[0;34m!=\u001b[0m \u001b[0minferred_dtype\u001b[0m\u001b[0;34m:\u001b[0m\u001b[0;34m\u001b[0m\u001b[0;34m\u001b[0m\u001b[0m\n\u001b[1;32m   1304\u001b[0m     \u001b[0mv\u001b[0m \u001b[0;34m=\u001b[0m \u001b[0mnest\u001b[0m\u001b[0;34m.\u001b[0m\u001b[0mmap_structure\u001b[0m\u001b[0;34m(\u001b[0m\u001b[0m_cast_nested_seqs_to_dtype\u001b[0m\u001b[0;34m(\u001b[0m\u001b[0mdtype\u001b[0m\u001b[0;34m)\u001b[0m\u001b[0;34m,\u001b[0m \u001b[0mv\u001b[0m\u001b[0;34m)\u001b[0m\u001b[0;34m\u001b[0m\u001b[0;34m\u001b[0m\u001b[0m\n\u001b[0;32m-> 1305\u001b[0;31m   \u001b[0;32mreturn\u001b[0m \u001b[0m_autopacking_helper\u001b[0m\u001b[0;34m(\u001b[0m\u001b[0mv\u001b[0m\u001b[0;34m,\u001b[0m \u001b[0mdtype\u001b[0m\u001b[0;34m,\u001b[0m \u001b[0mname\u001b[0m \u001b[0;32mor\u001b[0m \u001b[0;34m\"packed\"\u001b[0m\u001b[0;34m)\u001b[0m\u001b[0;34m\u001b[0m\u001b[0;34m\u001b[0m\u001b[0m\n\u001b[0m\u001b[1;32m   1306\u001b[0m \u001b[0;34m\u001b[0m\u001b[0m\n\u001b[1;32m   1307\u001b[0m \u001b[0;34m\u001b[0m\u001b[0m\n",
            "\u001b[0;32m/usr/local/lib/python3.10/dist-packages/tensorflow/python/ops/array_ops.py\u001b[0m in \u001b[0;36m_autopacking_helper\u001b[0;34m(list_or_tuple, dtype, name)\u001b[0m\n\u001b[1;32m   1222\u001b[0m         \u001b[0mmust_pack\u001b[0m \u001b[0;34m=\u001b[0m \u001b[0;32mTrue\u001b[0m\u001b[0;34m\u001b[0m\u001b[0;34m\u001b[0m\u001b[0m\n\u001b[1;32m   1223\u001b[0m       \u001b[0;32melif\u001b[0m \u001b[0misinstance\u001b[0m\u001b[0;34m(\u001b[0m\u001b[0melem\u001b[0m\u001b[0;34m,\u001b[0m \u001b[0;34m(\u001b[0m\u001b[0mlist\u001b[0m\u001b[0;34m,\u001b[0m \u001b[0mtuple\u001b[0m\u001b[0;34m)\u001b[0m\u001b[0;34m)\u001b[0m\u001b[0;34m:\u001b[0m\u001b[0;34m\u001b[0m\u001b[0;34m\u001b[0m\u001b[0m\n\u001b[0;32m-> 1224\u001b[0;31m         \u001b[0mconverted_elem\u001b[0m \u001b[0;34m=\u001b[0m \u001b[0m_autopacking_helper\u001b[0m\u001b[0;34m(\u001b[0m\u001b[0melem\u001b[0m\u001b[0;34m,\u001b[0m \u001b[0mdtype\u001b[0m\u001b[0;34m,\u001b[0m \u001b[0mstr\u001b[0m\u001b[0;34m(\u001b[0m\u001b[0mi\u001b[0m\u001b[0;34m)\u001b[0m\u001b[0;34m)\u001b[0m\u001b[0;34m\u001b[0m\u001b[0;34m\u001b[0m\u001b[0m\n\u001b[0m\u001b[1;32m   1225\u001b[0m         \u001b[0;32mif\u001b[0m \u001b[0misinstance\u001b[0m\u001b[0;34m(\u001b[0m\u001b[0mconverted_elem\u001b[0m\u001b[0;34m,\u001b[0m \u001b[0mcore\u001b[0m\u001b[0;34m.\u001b[0m\u001b[0mTensor\u001b[0m\u001b[0;34m)\u001b[0m\u001b[0;34m:\u001b[0m\u001b[0;34m\u001b[0m\u001b[0;34m\u001b[0m\u001b[0m\n\u001b[1;32m   1226\u001b[0m           \u001b[0mmust_pack\u001b[0m \u001b[0;34m=\u001b[0m \u001b[0;32mTrue\u001b[0m\u001b[0;34m\u001b[0m\u001b[0;34m\u001b[0m\u001b[0m\n",
            "\u001b[0;32m/usr/local/lib/python3.10/dist-packages/tensorflow/python/ops/array_ops.py\u001b[0m in \u001b[0;36m_autopacking_helper\u001b[0;34m(list_or_tuple, dtype, name)\u001b[0m\n\u001b[1;32m   1222\u001b[0m         \u001b[0mmust_pack\u001b[0m \u001b[0;34m=\u001b[0m \u001b[0;32mTrue\u001b[0m\u001b[0;34m\u001b[0m\u001b[0;34m\u001b[0m\u001b[0m\n\u001b[1;32m   1223\u001b[0m       \u001b[0;32melif\u001b[0m \u001b[0misinstance\u001b[0m\u001b[0;34m(\u001b[0m\u001b[0melem\u001b[0m\u001b[0;34m,\u001b[0m \u001b[0;34m(\u001b[0m\u001b[0mlist\u001b[0m\u001b[0;34m,\u001b[0m \u001b[0mtuple\u001b[0m\u001b[0;34m)\u001b[0m\u001b[0;34m)\u001b[0m\u001b[0;34m:\u001b[0m\u001b[0;34m\u001b[0m\u001b[0;34m\u001b[0m\u001b[0m\n\u001b[0;32m-> 1224\u001b[0;31m         \u001b[0mconverted_elem\u001b[0m \u001b[0;34m=\u001b[0m \u001b[0m_autopacking_helper\u001b[0m\u001b[0;34m(\u001b[0m\u001b[0melem\u001b[0m\u001b[0;34m,\u001b[0m \u001b[0mdtype\u001b[0m\u001b[0;34m,\u001b[0m \u001b[0mstr\u001b[0m\u001b[0;34m(\u001b[0m\u001b[0mi\u001b[0m\u001b[0;34m)\u001b[0m\u001b[0;34m)\u001b[0m\u001b[0;34m\u001b[0m\u001b[0;34m\u001b[0m\u001b[0m\n\u001b[0m\u001b[1;32m   1225\u001b[0m         \u001b[0;32mif\u001b[0m \u001b[0misinstance\u001b[0m\u001b[0;34m(\u001b[0m\u001b[0mconverted_elem\u001b[0m\u001b[0;34m,\u001b[0m \u001b[0mcore\u001b[0m\u001b[0;34m.\u001b[0m\u001b[0mTensor\u001b[0m\u001b[0;34m)\u001b[0m\u001b[0;34m:\u001b[0m\u001b[0;34m\u001b[0m\u001b[0;34m\u001b[0m\u001b[0m\n\u001b[1;32m   1226\u001b[0m           \u001b[0mmust_pack\u001b[0m \u001b[0;34m=\u001b[0m \u001b[0;32mTrue\u001b[0m\u001b[0;34m\u001b[0m\u001b[0;34m\u001b[0m\u001b[0m\n",
            "\u001b[0;32m/usr/local/lib/python3.10/dist-packages/tensorflow/python/ops/array_ops.py\u001b[0m in \u001b[0;36m_autopacking_helper\u001b[0;34m(list_or_tuple, dtype, name)\u001b[0m\n\u001b[1;32m   1238\u001b[0m           \u001b[0;31m# convertible-to-tensor types, such as numpy arrays.\u001b[0m\u001b[0;34m\u001b[0m\u001b[0;34m\u001b[0m\u001b[0m\n\u001b[1;32m   1239\u001b[0m           elems_as_tensors.append(\n\u001b[0;32m-> 1240\u001b[0;31m               constant_op.constant(elem, dtype=dtype, name=str(i)))\n\u001b[0m\u001b[1;32m   1241\u001b[0m       \u001b[0;32mreturn\u001b[0m \u001b[0mgen_array_ops\u001b[0m\u001b[0;34m.\u001b[0m\u001b[0mpack\u001b[0m\u001b[0;34m(\u001b[0m\u001b[0melems_as_tensors\u001b[0m\u001b[0;34m,\u001b[0m \u001b[0mname\u001b[0m\u001b[0;34m=\u001b[0m\u001b[0mscope\u001b[0m\u001b[0;34m)\u001b[0m\u001b[0;34m\u001b[0m\u001b[0;34m\u001b[0m\u001b[0m\n\u001b[1;32m   1242\u001b[0m     \u001b[0;32melse\u001b[0m\u001b[0;34m:\u001b[0m\u001b[0;34m\u001b[0m\u001b[0;34m\u001b[0m\u001b[0m\n",
            "\u001b[0;32m/usr/local/lib/python3.10/dist-packages/tensorflow/python/ops/weak_tensor_ops.py\u001b[0m in \u001b[0;36mwrapper\u001b[0;34m(*args, **kwargs)\u001b[0m\n\u001b[1;32m    140\u001b[0m   \u001b[0;32mdef\u001b[0m \u001b[0mwrapper\u001b[0m\u001b[0;34m(\u001b[0m\u001b[0;34m*\u001b[0m\u001b[0margs\u001b[0m\u001b[0;34m,\u001b[0m \u001b[0;34m**\u001b[0m\u001b[0mkwargs\u001b[0m\u001b[0;34m)\u001b[0m\u001b[0;34m:\u001b[0m\u001b[0;34m\u001b[0m\u001b[0;34m\u001b[0m\u001b[0m\n\u001b[1;32m    141\u001b[0m     \u001b[0;32mif\u001b[0m \u001b[0;32mnot\u001b[0m \u001b[0mops\u001b[0m\u001b[0;34m.\u001b[0m\u001b[0mis_auto_dtype_conversion_enabled\u001b[0m\u001b[0;34m(\u001b[0m\u001b[0;34m)\u001b[0m\u001b[0;34m:\u001b[0m\u001b[0;34m\u001b[0m\u001b[0;34m\u001b[0m\u001b[0m\n\u001b[0;32m--> 142\u001b[0;31m       \u001b[0;32mreturn\u001b[0m \u001b[0mop\u001b[0m\u001b[0;34m(\u001b[0m\u001b[0;34m*\u001b[0m\u001b[0margs\u001b[0m\u001b[0;34m,\u001b[0m \u001b[0;34m**\u001b[0m\u001b[0mkwargs\u001b[0m\u001b[0;34m)\u001b[0m\u001b[0;34m\u001b[0m\u001b[0;34m\u001b[0m\u001b[0m\n\u001b[0m\u001b[1;32m    143\u001b[0m     \u001b[0mbound_arguments\u001b[0m \u001b[0;34m=\u001b[0m \u001b[0msignature\u001b[0m\u001b[0;34m.\u001b[0m\u001b[0mbind\u001b[0m\u001b[0;34m(\u001b[0m\u001b[0;34m*\u001b[0m\u001b[0margs\u001b[0m\u001b[0;34m,\u001b[0m \u001b[0;34m**\u001b[0m\u001b[0mkwargs\u001b[0m\u001b[0;34m)\u001b[0m\u001b[0;34m\u001b[0m\u001b[0;34m\u001b[0m\u001b[0m\n\u001b[1;32m    144\u001b[0m     \u001b[0mbound_arguments\u001b[0m\u001b[0;34m.\u001b[0m\u001b[0mapply_defaults\u001b[0m\u001b[0;34m(\u001b[0m\u001b[0;34m)\u001b[0m\u001b[0;34m\u001b[0m\u001b[0;34m\u001b[0m\u001b[0m\n",
            "\u001b[0;32m/usr/local/lib/python3.10/dist-packages/tensorflow/python/framework/constant_op.py\u001b[0m in \u001b[0;36mconstant\u001b[0;34m(value, dtype, shape, name)\u001b[0m\n\u001b[1;32m    274\u001b[0m     \u001b[0mValueError\u001b[0m\u001b[0;34m:\u001b[0m \u001b[0;32mif\u001b[0m \u001b[0mcalled\u001b[0m \u001b[0mon\u001b[0m \u001b[0ma\u001b[0m \u001b[0msymbolic\u001b[0m \u001b[0mtensor\u001b[0m\u001b[0;34m.\u001b[0m\u001b[0;34m\u001b[0m\u001b[0;34m\u001b[0m\u001b[0m\n\u001b[1;32m    275\u001b[0m   \"\"\"\n\u001b[0;32m--> 276\u001b[0;31m   return _constant_impl(value, dtype, shape, name, verify_shape=False,\n\u001b[0m\u001b[1;32m    277\u001b[0m                         allow_broadcast=True)\n\u001b[1;32m    278\u001b[0m \u001b[0;34m\u001b[0m\u001b[0m\n",
            "\u001b[0;32m/usr/local/lib/python3.10/dist-packages/tensorflow/python/framework/constant_op.py\u001b[0m in \u001b[0;36m_constant_impl\u001b[0;34m(value, dtype, shape, name, verify_shape, allow_broadcast)\u001b[0m\n\u001b[1;32m    287\u001b[0m       \u001b[0;32mwith\u001b[0m \u001b[0mtrace\u001b[0m\u001b[0;34m.\u001b[0m\u001b[0mTrace\u001b[0m\u001b[0;34m(\u001b[0m\u001b[0;34m\"tf.constant\"\u001b[0m\u001b[0;34m)\u001b[0m\u001b[0;34m:\u001b[0m\u001b[0;34m\u001b[0m\u001b[0;34m\u001b[0m\u001b[0m\n\u001b[1;32m    288\u001b[0m         \u001b[0;32mreturn\u001b[0m \u001b[0m_constant_eager_impl\u001b[0m\u001b[0;34m(\u001b[0m\u001b[0mctx\u001b[0m\u001b[0;34m,\u001b[0m \u001b[0mvalue\u001b[0m\u001b[0;34m,\u001b[0m \u001b[0mdtype\u001b[0m\u001b[0;34m,\u001b[0m \u001b[0mshape\u001b[0m\u001b[0;34m,\u001b[0m \u001b[0mverify_shape\u001b[0m\u001b[0;34m)\u001b[0m\u001b[0;34m\u001b[0m\u001b[0;34m\u001b[0m\u001b[0m\n\u001b[0;32m--> 289\u001b[0;31m     \u001b[0;32mreturn\u001b[0m \u001b[0m_constant_eager_impl\u001b[0m\u001b[0;34m(\u001b[0m\u001b[0mctx\u001b[0m\u001b[0;34m,\u001b[0m \u001b[0mvalue\u001b[0m\u001b[0;34m,\u001b[0m \u001b[0mdtype\u001b[0m\u001b[0;34m,\u001b[0m \u001b[0mshape\u001b[0m\u001b[0;34m,\u001b[0m \u001b[0mverify_shape\u001b[0m\u001b[0;34m)\u001b[0m\u001b[0;34m\u001b[0m\u001b[0;34m\u001b[0m\u001b[0m\n\u001b[0m\u001b[1;32m    290\u001b[0m \u001b[0;34m\u001b[0m\u001b[0m\n\u001b[1;32m    291\u001b[0m   const_tensor = ops._create_graph_constant(  # pylint: disable=protected-access\n",
            "\u001b[0;32m/usr/local/lib/python3.10/dist-packages/tensorflow/python/framework/constant_op.py\u001b[0m in \u001b[0;36m_constant_eager_impl\u001b[0;34m(ctx, value, dtype, shape, verify_shape)\u001b[0m\n\u001b[1;32m    299\u001b[0m ) -> ops._EagerTensorBase:\n\u001b[1;32m    300\u001b[0m   \u001b[0;34m\"\"\"Creates a constant on the current device.\"\"\"\u001b[0m\u001b[0;34m\u001b[0m\u001b[0;34m\u001b[0m\u001b[0m\n\u001b[0;32m--> 301\u001b[0;31m   \u001b[0mt\u001b[0m \u001b[0;34m=\u001b[0m \u001b[0mconvert_to_eager_tensor\u001b[0m\u001b[0;34m(\u001b[0m\u001b[0mvalue\u001b[0m\u001b[0;34m,\u001b[0m \u001b[0mctx\u001b[0m\u001b[0;34m,\u001b[0m \u001b[0mdtype\u001b[0m\u001b[0;34m)\u001b[0m\u001b[0;34m\u001b[0m\u001b[0;34m\u001b[0m\u001b[0m\n\u001b[0m\u001b[1;32m    302\u001b[0m   \u001b[0;32mif\u001b[0m \u001b[0mshape\u001b[0m \u001b[0;32mis\u001b[0m \u001b[0;32mNone\u001b[0m\u001b[0;34m:\u001b[0m\u001b[0;34m\u001b[0m\u001b[0;34m\u001b[0m\u001b[0m\n\u001b[1;32m    303\u001b[0m     \u001b[0;32mreturn\u001b[0m \u001b[0mt\u001b[0m\u001b[0;34m\u001b[0m\u001b[0;34m\u001b[0m\u001b[0m\n",
            "\u001b[0;32m/usr/local/lib/python3.10/dist-packages/tensorflow/python/framework/constant_op.py\u001b[0m in \u001b[0;36mconvert_to_eager_tensor\u001b[0;34m(value, ctx, dtype)\u001b[0m\n\u001b[1;32m    106\u001b[0m       \u001b[0mdtype\u001b[0m \u001b[0;34m=\u001b[0m \u001b[0mdtypes\u001b[0m\u001b[0;34m.\u001b[0m\u001b[0mas_dtype\u001b[0m\u001b[0;34m(\u001b[0m\u001b[0mdtype\u001b[0m\u001b[0;34m)\u001b[0m\u001b[0;34m.\u001b[0m\u001b[0mas_datatype_enum\u001b[0m\u001b[0;34m\u001b[0m\u001b[0;34m\u001b[0m\u001b[0m\n\u001b[1;32m    107\u001b[0m   \u001b[0mctx\u001b[0m\u001b[0;34m.\u001b[0m\u001b[0mensure_initialized\u001b[0m\u001b[0;34m(\u001b[0m\u001b[0;34m)\u001b[0m\u001b[0;34m\u001b[0m\u001b[0;34m\u001b[0m\u001b[0m\n\u001b[0;32m--> 108\u001b[0;31m   \u001b[0;32mreturn\u001b[0m \u001b[0mops\u001b[0m\u001b[0;34m.\u001b[0m\u001b[0mEagerTensor\u001b[0m\u001b[0;34m(\u001b[0m\u001b[0mvalue\u001b[0m\u001b[0;34m,\u001b[0m \u001b[0mctx\u001b[0m\u001b[0;34m.\u001b[0m\u001b[0mdevice_name\u001b[0m\u001b[0;34m,\u001b[0m \u001b[0mdtype\u001b[0m\u001b[0;34m)\u001b[0m\u001b[0;34m\u001b[0m\u001b[0;34m\u001b[0m\u001b[0m\n\u001b[0m\u001b[1;32m    109\u001b[0m \u001b[0;34m\u001b[0m\u001b[0m\n\u001b[1;32m    110\u001b[0m \u001b[0;34m\u001b[0m\u001b[0m\n",
            "\u001b[0;31mTypeError\u001b[0m: Cannot convert 'Kříženec' to EagerTensor of dtype float"
          ]
        }
      ]
    },
    {
      "cell_type": "markdown",
      "source": [
        "TODO: label encoding, image augmentation?, performance optimization - parallel processing ..."
      ],
      "metadata": {
        "id": "gESHyuRcAp1x"
      }
    }
  ]
}