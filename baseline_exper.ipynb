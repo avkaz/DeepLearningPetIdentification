{
  "cells": [
    {
      "cell_type": "markdown",
      "metadata": {
        "id": "view-in-github",
        "colab_type": "text"
      },
      "source": [
        "<a href=\"https://colab.research.google.com/github/avkaz/DeepLearningPetIdentification/blob/baseline/baseline_exper.ipynb\" target=\"_parent\"><img src=\"https://colab.research.google.com/assets/colab-badge.svg\" alt=\"Open In Colab\"/></a>"
      ]
    },
    {
      "cell_type": "code",
      "source": [
        "## 1st -  Download utility.py file from github repository\n",
        "## 2nd - Imports all functions from utility.py\n",
        "\n",
        "import requests\n",
        "\n",
        "# Correct raw URL for the utility.py file\n",
        "url = \"https://raw.githubusercontent.com/avkaz/DeepLearningPetIdentification/main/utility.py\"\n",
        "\n",
        "# Fetch and save the file locally\n",
        "response = requests.get(url)\n",
        "with open(\"utility.py\", \"wb\") as f:\n",
        "    f.write(response.content)\n",
        "\n",
        "\n",
        "import utility\n",
        "print(\"utility.py downloaded successfully.\")\n"
      ],
      "metadata": {
        "colab": {
          "base_uri": "https://localhost:8080/"
        },
        "id": "y-DVu6nn7wsg",
        "outputId": "2455b62c-8123-4e03-ec72-d6387fdb4fdc"
      },
      "execution_count": 1,
      "outputs": [
        {
          "output_type": "stream",
          "name": "stdout",
          "text": [
            "utility.py downloaded successfully.\n"
          ]
        }
      ]
    },
    {
      "cell_type": "code",
      "source": [
        "data = utility.get_data()"
      ],
      "metadata": {
        "id": "9sAf1snM75pI"
      },
      "execution_count": 2,
      "outputs": []
    },
    {
      "cell_type": "code",
      "source": [
        "trypets = list(data.items())[:5]"
      ],
      "metadata": {
        "id": "NpRQRFkk8FXW"
      },
      "execution_count": 3,
      "outputs": []
    },
    {
      "cell_type": "code",
      "source": [
        "trypets"
      ],
      "metadata": {
        "collapsed": true,
        "colab": {
          "base_uri": "https://localhost:8080/"
        },
        "id": "yBqYVzkf8H0R",
        "outputId": "7cfca278-e5dc-4696-c5af-dfd68293f1d8"
      },
      "execution_count": 4,
      "outputs": [
        {
          "output_type": "execute_result",
          "data": {
            "text/plain": [
              "[('tanyny-chomutov-2024-12-21',\n",
              "  {'Jméno': 'Tanyny',\n",
              "   'Pohlaví': 'Samec',\n",
              "   'Kraj': 'Ústecký',\n",
              "   'Okres': 'Chomutov',\n",
              "   'Plemeno': 'Kříženec',\n",
              "   'Věk': '5 let',\n",
              "   'Barva': 'Černá',\n",
              "   'Velikost': 'Střední - 10-17kg',\n",
              "   'url': 'https://www.psidetektiv.cz/zvire/tanyny-chomutov-2024-12-21',\n",
              "   'images': ['https://www.psidetektiv.cz/data/catalog/big/2024/12/22/img190390.jpg',\n",
              "    'https://www.psidetektiv.cz/data/catalog/big/2024/12/22/img190391.jpg',\n",
              "    'https://www.psidetektiv.cz/data/catalog/big/2024/12/22/img190392.jpg',\n",
              "    'https://www.psidetektiv.cz/data/catalog/big/2024/12/22/img190393.jpg',\n",
              "    'https://www.psidetektiv.cz/data/catalog/big/2024/12/22/img190394.jpg']}),\n",
              " ('haily-tachov-2024-12-21',\n",
              "  {'Jméno': 'Haily',\n",
              "   'Pohlaví': 'Samice',\n",
              "   'Kraj': 'Plzeňský',\n",
              "   'Okres': 'Tachov',\n",
              "   'Plemeno': 'Jezevčík',\n",
              "   'Věk': '5 let',\n",
              "   'Barva': 'Tmavý divočák',\n",
              "   'Velikost': 'Střední - 10-17kg',\n",
              "   'url': 'https://www.psidetektiv.cz/zvire/haily-tachov-2024-12-21',\n",
              "   'images': ['https://www.psidetektiv.cz/data/catalog/big/2024/12/21/img190383.jpg',\n",
              "    'https://www.psidetektiv.cz/data/catalog/big/2024/12/21/img190384.jpg']}),\n",
              " ('egy-karlovy-vary-2024-12-17',\n",
              "  {'Jméno': 'Egy',\n",
              "   'Pohlaví': 'Samec',\n",
              "   'Kraj': 'Karlovarský',\n",
              "   'Okres': 'Karlovy Vary',\n",
              "   'Plemeno': 'Kříženec',\n",
              "   'Věk': 'cca 1 rok',\n",
              "   'Barva': 'Mourovatý',\n",
              "   'Velikost': 'Malá - do 9kg',\n",
              "   'url': 'https://www.psidetektiv.cz/zvire/egy-karlovy-vary-2024-12-17',\n",
              "   'images': ['https://www.psidetektiv.cz/data/catalog/big/2024/12/21/img190378.jpg',\n",
              "    'https://www.psidetektiv.cz/data/catalog/big/2024/12/21/img190379.jpg',\n",
              "    'https://www.psidetektiv.cz/data/catalog/big/2024/12/21/img190380.jpg',\n",
              "    'https://www.psidetektiv.cz/data/catalog/big/2024/12/21/img190381.jpg']}),\n",
              " ('randy-vyskov-2024-12-21',\n",
              "  {'Jméno': 'Randy',\n",
              "   'Pohlaví': 'Samec',\n",
              "   'Kraj': 'Jihomoravský',\n",
              "   'Okres': 'Vyškov',\n",
              "   'Plemeno': 'Beagle',\n",
              "   'Věk': '10 let',\n",
              "   'Barva': 'Trikolor',\n",
              "   'Velikost': 'Střední - 10-17kg',\n",
              "   'url': 'https://www.psidetektiv.cz/zvire/randy-vyskov-2024-12-21',\n",
              "   'images': ['https://www.psidetektiv.cz/data/catalog/big/2024/12/21/img190367.jpg',\n",
              "    'https://www.psidetektiv.cz/data/catalog/big/2024/12/21/img190368.jpg']}),\n",
              " ('cira-a-kaja-jihlava-2024-12-21',\n",
              "  {'Jméno': 'Cira a Kája',\n",
              "   'Pohlaví': 'Samice',\n",
              "   'Kraj': 'Vysočina',\n",
              "   'Okres': 'Jihlava',\n",
              "   'Plemeno': 'Border terier',\n",
              "   'Věk': '3 roky',\n",
              "   'Barva': 'Hnědá, světle hnědá',\n",
              "   'Velikost': 'Malá - do 9kg',\n",
              "   'url': 'https://www.psidetektiv.cz/zvire/cira-a-kaja-jihlava-2024-12-21',\n",
              "   'images': ['https://www.psidetektiv.cz/data/catalog/big/2024/12/21/img190362.jpg',\n",
              "    'https://www.psidetektiv.cz/data/catalog/big/2024/12/21/img190363.jpg']})]"
            ]
          },
          "metadata": {},
          "execution_count": 4
        }
      ]
    },
    {
      "cell_type": "code",
      "source": [
        "import tensorflow as tf\n",
        "\n",
        "from tensorflow.keras.applications import EfficientNetB0\n",
        "\n",
        "\n",
        "model = EfficientNetB0(weights='imagenet', include_top=False, pooling='avg')"
      ],
      "metadata": {
        "id": "8Lv9AmFY8ODL"
      },
      "execution_count": 5,
      "outputs": []
    },
    {
      "cell_type": "code",
      "source": [
        "import requests\n",
        "import json\n",
        "import numpy as np\n",
        "import tensorflow as tf\n",
        "from PIL import Image\n",
        "from io import BytesIO\n",
        "import pandas as pd\n",
        "\n",
        "\n",
        "from tensorflow.keras.applications import EfficientNetB0\n",
        "from tensorflow.keras.applications.efficientnet import preprocess_input\n",
        "import faiss\n"
      ],
      "metadata": {
        "id": "KJptM7ze_teb"
      },
      "execution_count": 16,
      "outputs": []
    },
    {
      "cell_type": "code",
      "source": [
        "def get_embedding_from_url(image_url, model):\n",
        "    response = requests.get(image_url)\n",
        "    image = Image.open(BytesIO(response.content)).convert(\"RGB\")\n",
        "    image = image.resize((224, 224))\n",
        "    img_array = np.array(image)\n",
        "    img_array = np.expand_dims(img_array, axis=0)\n",
        "    img_array = preprocess_input(img_array)\n",
        "    embedding = model.predict(img_array)\n",
        "    return embedding\n",
        "\n",
        "# embeddings\n",
        "pet_names = []\n",
        "embeddings = []\n",
        "\n",
        "for pet_name, pet_info in trypets:\n",
        "    image_url = pet_info['images'][0]\n",
        "    embedding = get_embedding_from_url(image_url, model)\n",
        "    pet_names.append(pet_name)\n",
        "    embeddings.append(embedding)\n",
        "\n",
        "\n",
        "embeddings = np.vstack(embeddings)\n"
      ],
      "metadata": {
        "colab": {
          "base_uri": "https://localhost:8080/"
        },
        "id": "v-Pax4T5AS36",
        "outputId": "beb1c259-62e3-4fe3-80b7-162d981e7145"
      },
      "execution_count": 17,
      "outputs": [
        {
          "output_type": "stream",
          "name": "stdout",
          "text": [
            "\u001b[1m1/1\u001b[0m \u001b[32m━━━━━━━━━━━━━━━━━━━━\u001b[0m\u001b[37m\u001b[0m \u001b[1m0s\u001b[0m 82ms/step\n",
            "\u001b[1m1/1\u001b[0m \u001b[32m━━━━━━━━━━━━━━━━━━━━\u001b[0m\u001b[37m\u001b[0m \u001b[1m0s\u001b[0m 81ms/step\n",
            "\u001b[1m1/1\u001b[0m \u001b[32m━━━━━━━━━━━━━━━━━━━━\u001b[0m\u001b[37m\u001b[0m \u001b[1m0s\u001b[0m 94ms/step\n",
            "\u001b[1m1/1\u001b[0m \u001b[32m━━━━━━━━━━━━━━━━━━━━\u001b[0m\u001b[37m\u001b[0m \u001b[1m0s\u001b[0m 82ms/step\n",
            "\u001b[1m1/1\u001b[0m \u001b[32m━━━━━━━━━━━━━━━━━━━━\u001b[0m\u001b[37m\u001b[0m \u001b[1m0s\u001b[0m 82ms/step\n"
          ]
        }
      ]
    },
    {
      "cell_type": "code",
      "source": [
        "def get_embedding_from_url(image_url, model):\n",
        "    try:\n",
        "        response = requests.get(image_url)\n",
        "        response.raise_for_status()\n",
        "        image = Image.open(BytesIO(response.content)).convert(\"RGB\")\n",
        "        image = image.resize((224, 224))\n",
        "        img_array = np.array(image)\n",
        "        img_array = np.expand_dims(img_array, axis=0)\n",
        "        img_array = preprocess_input(img_array)\n",
        "        embedding = model.predict(img_array)\n",
        "        return embedding\n",
        "    except (requests.RequestException, Image.UnidentifiedImageError) as e:\n",
        "        print(f\"Error processing image {image_url}: {e}\")\n",
        "        return None\n"
      ],
      "metadata": {
        "id": "Lh7YXyDcCHrN"
      },
      "execution_count": 18,
      "outputs": []
    },
    {
      "cell_type": "code",
      "source": [
        "\n",
        "pet_names = []\n",
        "embeddings = []\n",
        "skipped_images = []\n",
        "\n",
        "for pet_name, pet_info in trypets:\n",
        "    images = pet_info['images']\n",
        "    for image_url in images:\n",
        "        embedding = get_embedding_from_url(image_url, model)\n",
        "        if embedding is not None:\n",
        "            pet_names.append(pet_name)\n",
        "            embeddings.append(embedding)\n",
        "        else:\n",
        "            skipped_images.append(image_url)"
      ],
      "metadata": {
        "colab": {
          "base_uri": "https://localhost:8080/"
        },
        "id": "vaGngfCjCO0Q",
        "outputId": "4ff59110-1335-48fd-8817-33237d726428"
      },
      "execution_count": 19,
      "outputs": [
        {
          "output_type": "stream",
          "name": "stdout",
          "text": [
            "\u001b[1m1/1\u001b[0m \u001b[32m━━━━━━━━━━━━━━━━━━━━\u001b[0m\u001b[37m\u001b[0m \u001b[1m0s\u001b[0m 83ms/step\n",
            "\u001b[1m1/1\u001b[0m \u001b[32m━━━━━━━━━━━━━━━━━━━━\u001b[0m\u001b[37m\u001b[0m \u001b[1m0s\u001b[0m 81ms/step\n",
            "\u001b[1m1/1\u001b[0m \u001b[32m━━━━━━━━━━━━━━━━━━━━\u001b[0m\u001b[37m\u001b[0m \u001b[1m0s\u001b[0m 83ms/step\n",
            "\u001b[1m1/1\u001b[0m \u001b[32m━━━━━━━━━━━━━━━━━━━━\u001b[0m\u001b[37m\u001b[0m \u001b[1m0s\u001b[0m 79ms/step\n",
            "\u001b[1m1/1\u001b[0m \u001b[32m━━━━━━━━━━━━━━━━━━━━\u001b[0m\u001b[37m\u001b[0m \u001b[1m0s\u001b[0m 93ms/step\n",
            "\u001b[1m1/1\u001b[0m \u001b[32m━━━━━━━━━━━━━━━━━━━━\u001b[0m\u001b[37m\u001b[0m \u001b[1m0s\u001b[0m 91ms/step\n",
            "\u001b[1m1/1\u001b[0m \u001b[32m━━━━━━━━━━━━━━━━━━━━\u001b[0m\u001b[37m\u001b[0m \u001b[1m0s\u001b[0m 88ms/step\n",
            "\u001b[1m1/1\u001b[0m \u001b[32m━━━━━━━━━━━━━━━━━━━━\u001b[0m\u001b[37m\u001b[0m \u001b[1m0s\u001b[0m 83ms/step\n",
            "\u001b[1m1/1\u001b[0m \u001b[32m━━━━━━━━━━━━━━━━━━━━\u001b[0m\u001b[37m\u001b[0m \u001b[1m0s\u001b[0m 81ms/step\n",
            "\u001b[1m1/1\u001b[0m \u001b[32m━━━━━━━━━━━━━━━━━━━━\u001b[0m\u001b[37m\u001b[0m \u001b[1m0s\u001b[0m 83ms/step\n",
            "\u001b[1m1/1\u001b[0m \u001b[32m━━━━━━━━━━━━━━━━━━━━\u001b[0m\u001b[37m\u001b[0m \u001b[1m0s\u001b[0m 127ms/step\n",
            "\u001b[1m1/1\u001b[0m \u001b[32m━━━━━━━━━━━━━━━━━━━━\u001b[0m\u001b[37m\u001b[0m \u001b[1m0s\u001b[0m 132ms/step\n",
            "\u001b[1m1/1\u001b[0m \u001b[32m━━━━━━━━━━━━━━━━━━━━\u001b[0m\u001b[37m\u001b[0m \u001b[1m0s\u001b[0m 122ms/step\n",
            "\u001b[1m1/1\u001b[0m \u001b[32m━━━━━━━━━━━━━━━━━━━━\u001b[0m\u001b[37m\u001b[0m \u001b[1m0s\u001b[0m 88ms/step\n",
            "\u001b[1m1/1\u001b[0m \u001b[32m━━━━━━━━━━━━━━━━━━━━\u001b[0m\u001b[37m\u001b[0m \u001b[1m0s\u001b[0m 89ms/step\n"
          ]
        }
      ]
    },
    {
      "cell_type": "code",
      "source": [
        "embeddings = np.vstack(embeddings)"
      ],
      "metadata": {
        "id": "qMte29kzCb3p"
      },
      "execution_count": 20,
      "outputs": []
    },
    {
      "cell_type": "code",
      "source": [
        "d = embeddings.shape[1]\n",
        "index = faiss.IndexFlatIP(d)\n",
        "faiss.normalize_L2(embeddings)\n",
        "index.add(embeddings)\n",
        "print(\"FAISS index initialized and embeddings added.\")"
      ],
      "metadata": {
        "colab": {
          "base_uri": "https://localhost:8080/"
        },
        "id": "BzCGDNKJCfUP",
        "outputId": "c00b3596-e4ef-4855-fcaf-f251c8da8a52"
      },
      "execution_count": 21,
      "outputs": [
        {
          "output_type": "stream",
          "name": "stdout",
          "text": [
            "FAISS index initialized and embeddings added.\n"
          ]
        }
      ]
    },
    {
      "cell_type": "code",
      "source": [
        "#similarity metrics\n",
        "def cosine_similarity(v1, v2):\n",
        "    return np.dot(v1, v2) / (np.linalg.norm(v1) * np.linalg.norm(v2))\n",
        "\n",
        "def dot_product(v1, v2):\n",
        "    return np.dot(v1, v2)\n",
        "\n",
        "def euclidean_distance(v1, v2):\n",
        "    return np.linalg.norm(v1 - v2)\n",
        "\n",
        "def manhattan_distance(v1, v2):\n",
        "    return np.sum(np.abs(v1 - v2))\n",
        "\n",
        "def l2_squared_distance(v1, v2):\n",
        "    return np.sum((v1 - v2) ** 2)\n",
        "\n",
        "# test image\n",
        "egy_pet = [pet for pet in trypets if pet[0] == \"egy-karlovy-vary-2024-12-17\"][0]\n",
        "egy_image_url = egy_pet[1][\"images\"][0]  # Select the first image\n",
        "egy_embedding = get_embedding_from_url(egy_image_url, model)\n",
        "\n",
        "# embedd from all except egy1\n",
        "db_pet_names = []\n",
        "db_image_urls = []\n",
        "db_embeddings = []\n",
        "\n",
        "for pet_name, pet_info in trypets:\n",
        "    for image_url in pet_info[\"images\"]:\n",
        "        if pet_name == \"egy-karlovy-vary-2024-12-17\" and image_url == egy_image_url:\n",
        "            continue  # Exclude the selected Egy image\n",
        "        embedding = get_embedding_from_url(image_url, model)\n",
        "        if embedding is not None:\n",
        "            db_pet_names.append(pet_name)\n",
        "            db_image_urls.append(image_url)\n",
        "            db_embeddings.append(embedding)\n",
        "\n",
        "#sim metrics\n",
        "results = []\n",
        "for pet_name, image_url, embedding in zip(db_pet_names, db_image_urls, db_embeddings):\n",
        "    similarity_cosine = cosine_similarity(egy_embedding[0], embedding[0])\n",
        "    similarity_dot = dot_product(egy_embedding[0], embedding[0])\n",
        "    distance_euclidean = euclidean_distance(egy_embedding[0], embedding[0])\n",
        "    distance_manhattan = manhattan_distance(egy_embedding[0], embedding[0])\n",
        "    distance_l2_squared = l2_squared_distance(egy_embedding[0], embedding[0])\n",
        "    results.append((pet_name, similarity_cosine, similarity_dot, distance_euclidean, distance_manhattan, distance_l2_squared))\n",
        "\n",
        "\n",
        "df = pd.DataFrame(\n",
        "    results,\n",
        "    columns=[\"Dog Name\", \"Cosine Similarity\", \"Dot Product\", \"Euclidean Distance\", \"Manhattan Distance\", \"L2-Squared Distance\"]\n",
        ")\n",
        "\n",
        "\n",
        "print(df)\n"
      ],
      "metadata": {
        "colab": {
          "base_uri": "https://localhost:8080/"
        },
        "id": "wvHLZJLuMCDX",
        "outputId": "3be3f707-008d-4dda-a25e-f4b32b9a2feb"
      },
      "execution_count": 22,
      "outputs": [
        {
          "output_type": "stream",
          "name": "stdout",
          "text": [
            "\u001b[1m1/1\u001b[0m \u001b[32m━━━━━━━━━━━━━━━━━━━━\u001b[0m\u001b[37m\u001b[0m \u001b[1m0s\u001b[0m 113ms/step\n",
            "\u001b[1m1/1\u001b[0m \u001b[32m━━━━━━━━━━━━━━━━━━━━\u001b[0m\u001b[37m\u001b[0m \u001b[1m0s\u001b[0m 89ms/step\n",
            "\u001b[1m1/1\u001b[0m \u001b[32m━━━━━━━━━━━━━━━━━━━━\u001b[0m\u001b[37m\u001b[0m \u001b[1m0s\u001b[0m 78ms/step\n",
            "\u001b[1m1/1\u001b[0m \u001b[32m━━━━━━━━━━━━━━━━━━━━\u001b[0m\u001b[37m\u001b[0m \u001b[1m0s\u001b[0m 81ms/step\n",
            "\u001b[1m1/1\u001b[0m \u001b[32m━━━━━━━━━━━━━━━━━━━━\u001b[0m\u001b[37m\u001b[0m \u001b[1m0s\u001b[0m 82ms/step\n",
            "\u001b[1m1/1\u001b[0m \u001b[32m━━━━━━━━━━━━━━━━━━━━\u001b[0m\u001b[37m\u001b[0m \u001b[1m0s\u001b[0m 82ms/step\n",
            "\u001b[1m1/1\u001b[0m \u001b[32m━━━━━━━━━━━━━━━━━━━━\u001b[0m\u001b[37m\u001b[0m \u001b[1m0s\u001b[0m 81ms/step\n",
            "\u001b[1m1/1\u001b[0m \u001b[32m━━━━━━━━━━━━━━━━━━━━\u001b[0m\u001b[37m\u001b[0m \u001b[1m0s\u001b[0m 95ms/step\n",
            "\u001b[1m1/1\u001b[0m \u001b[32m━━━━━━━━━━━━━━━━━━━━\u001b[0m\u001b[37m\u001b[0m \u001b[1m0s\u001b[0m 88ms/step\n",
            "\u001b[1m1/1\u001b[0m \u001b[32m━━━━━━━━━━━━━━━━━━━━\u001b[0m\u001b[37m\u001b[0m \u001b[1m0s\u001b[0m 89ms/step\n",
            "\u001b[1m1/1\u001b[0m \u001b[32m━━━━━━━━━━━━━━━━━━━━\u001b[0m\u001b[37m\u001b[0m \u001b[1m0s\u001b[0m 80ms/step\n",
            "\u001b[1m1/1\u001b[0m \u001b[32m━━━━━━━━━━━━━━━━━━━━\u001b[0m\u001b[37m\u001b[0m \u001b[1m0s\u001b[0m 94ms/step\n",
            "\u001b[1m1/1\u001b[0m \u001b[32m━━━━━━━━━━━━━━━━━━━━\u001b[0m\u001b[37m\u001b[0m \u001b[1m0s\u001b[0m 152ms/step\n",
            "\u001b[1m1/1\u001b[0m \u001b[32m━━━━━━━━━━━━━━━━━━━━\u001b[0m\u001b[37m\u001b[0m \u001b[1m0s\u001b[0m 130ms/step\n",
            "\u001b[1m1/1\u001b[0m \u001b[32m━━━━━━━━━━━━━━━━━━━━\u001b[0m\u001b[37m\u001b[0m \u001b[1m0s\u001b[0m 89ms/step\n",
            "                          Dog Name  Cosine Similarity  Dot Product  \\\n",
            "0       tanyny-chomutov-2024-12-21           0.161092    20.851746   \n",
            "1       tanyny-chomutov-2024-12-21           0.159638    19.857014   \n",
            "2       tanyny-chomutov-2024-12-21           0.241349    30.299604   \n",
            "3       tanyny-chomutov-2024-12-21           0.246545    33.722416   \n",
            "4       tanyny-chomutov-2024-12-21           0.155641    21.519821   \n",
            "5          haily-tachov-2024-12-21           0.069987     8.200219   \n",
            "6          haily-tachov-2024-12-21           0.224726    31.756542   \n",
            "7      egy-karlovy-vary-2024-12-17           0.479798    58.302452   \n",
            "8      egy-karlovy-vary-2024-12-17           0.439723    65.174683   \n",
            "9      egy-karlovy-vary-2024-12-17           0.294035    42.587513   \n",
            "10         randy-vyskov-2024-12-21           0.092707    13.947233   \n",
            "11         randy-vyskov-2024-12-21           0.078381    11.737367   \n",
            "12  cira-a-kaja-jihlava-2024-12-21           0.019331     2.115685   \n",
            "13  cira-a-kaja-jihlava-2024-12-21           0.065997     8.453401   \n",
            "\n",
            "    Euclidean Distance  Manhattan Distance  L2-Squared Distance  \n",
            "0            14.979842          354.672974           224.395676  \n",
            "1            14.623452          353.210571           213.845367  \n",
            "2            13.992221          343.358246           195.782242  \n",
            "3            14.756738          340.390259           217.761307  \n",
            "4            15.689560          382.484589           246.162277  \n",
            "5            14.835949          360.181519           220.105377  \n",
            "6            15.297619          375.424316           234.017151  \n",
            "7            11.403760          280.502808           130.045746  \n",
            "8            13.664923          304.884888           186.730103  \n",
            "9            14.907090          362.383545           222.221359  \n",
            "10           17.195591          404.891418           295.688354  \n",
            "11           17.264536          426.896149           298.064209  \n",
            "12           14.668502          356.403046           215.164948  \n",
            "13           15.677587          365.953766           245.786713  \n"
          ]
        }
      ]
    }
  ],
  "metadata": {
    "colab": {
      "name": "Welcome To Colab",
      "provenance": [],
      "include_colab_link": true
    },
    "kernelspec": {
      "display_name": "Python 3",
      "name": "python3"
    }
  },
  "nbformat": 4,
  "nbformat_minor": 0
}