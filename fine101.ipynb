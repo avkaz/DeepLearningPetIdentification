{
  "nbformat": 4,
  "nbformat_minor": 0,
  "metadata": {
    "colab": {
      "provenance": [],
      "authorship_tag": "ABX9TyPz/FaTjfojndWb1wrvSuzY",
      "include_colab_link": true
    },
    "kernelspec": {
      "name": "python3",
      "display_name": "Python 3"
    },
    "language_info": {
      "name": "python"
    }
  },
  "cells": [
    {
      "cell_type": "markdown",
      "metadata": {
        "id": "view-in-github",
        "colab_type": "text"
      },
      "source": [
        "<a href=\"https://colab.research.google.com/github/avkaz/DeepLearningPetIdentification/blob/fine-tuned-v0/fine101.ipynb\" target=\"_parent\"><img src=\"https://colab.research.google.com/assets/colab-badge.svg\" alt=\"Open In Colab\"/></a>"
      ]
    },
    {
      "cell_type": "code",
      "source": [
        "\n",
        "import requests\n",
        "# Correct raw URL for the utility.py file\n",
        "url = \"https://raw.githubusercontent.com/avkaz/DeepLearningPetIdentification/main/utility.py\"\n",
        "\n",
        "# Fetch and save the file locally\n",
        "response = requests.get(url)\n",
        "with open(\"utility.py\", \"wb\") as f:\n",
        "    f.write(response.content)\n",
        "\n"
      ],
      "metadata": {
        "id": "Ww1ukE-1TAoI"
      },
      "execution_count": 8,
      "outputs": []
    },
    {
      "cell_type": "code",
      "execution_count": 41,
      "metadata": {
        "colab": {
          "base_uri": "https://localhost:8080/"
        },
        "id": "hYrA3msXSuK9",
        "outputId": "f65d7d2a-feba-4ed0-e835-c2cd47c9f80f"
      },
      "outputs": [
        {
          "output_type": "stream",
          "name": "stdout",
          "text": [
            "Requirement already satisfied: faiss-cpu in /usr/local/lib/python3.11/dist-packages (1.9.0.post1)\n",
            "Requirement already satisfied: numpy<3.0,>=1.25.0 in /usr/local/lib/python3.11/dist-packages (from faiss-cpu) (1.26.4)\n",
            "Requirement already satisfied: packaging in /usr/local/lib/python3.11/dist-packages (from faiss-cpu) (24.2)\n"
          ]
        }
      ],
      "source": [
        "!pip install faiss-cpu\n",
        "import tensorflow as tf\n",
        "from tensorflow.keras import layers, Model\n",
        "from tensorflow.keras.applications import EfficientNetB0\n",
        "from tensorflow.keras.applications.efficientnet import preprocess_input\n",
        "import numpy as np\n",
        "import matplotlib.pyplot as plt\n",
        "from PIL import Image\n",
        "import io\n",
        "import requests\n",
        "import json\n",
        "import pandas as pd\n",
        "import faiss\n",
        "import random\n",
        "from tensorflow.keras.models import Model\n",
        "from tensorflow.keras.layers import Dense, Dropout\n",
        "from sklearn.model_selection import train_test_split\n",
        "from google.colab import files\n",
        "from utility import download_and_preprocess_image, get_data, download_file_from_google_drive, load_and_prepare_dataframe\n",
        "from itertools import islice\n"
      ]
    },
    {
      "cell_type": "code",
      "source": [
        "filtered_data = {k: v for k, v in data.items() if len(v['images']) > 3}"
      ],
      "metadata": {
        "id": "D5jRPygbmBJl"
      },
      "execution_count": 36,
      "outputs": []
    },
    {
      "cell_type": "code",
      "source": [
        "len(filtered_data)"
      ],
      "metadata": {
        "id": "UrsHiAA3qnJv",
        "outputId": "231b8672-d287-4bca-da0d-b4f2b489a17e",
        "colab": {
          "base_uri": "https://localhost:8080/"
        }
      },
      "execution_count": 37,
      "outputs": [
        {
          "output_type": "execute_result",
          "data": {
            "text/plain": [
              "1815"
            ]
          },
          "metadata": {},
          "execution_count": 37
        }
      ]
    },
    {
      "cell_type": "code",
      "source": [
        "first_100 = dict(islice(filtered_data.items(), 800))"
      ],
      "metadata": {
        "id": "FwG4jNwyrnxQ"
      },
      "execution_count": 38,
      "outputs": []
    },
    {
      "cell_type": "markdown",
      "source": [
        "filter out pets for training, only using postings that have 3+ pictures for triplet loss"
      ],
      "metadata": {
        "id": "-eJvKXonoY8a"
      }
    },
    {
      "cell_type": "code",
      "source": [
        "\n",
        "def filter_pets_by_images(data, min_images=3):\n",
        "    \"\"\"Filters pets with at least 'min_images' images.\"\"\"\n",
        "    return {key: value for key, value in data.items() if len(value['images']) >= min_images}\n",
        "\n",
        "\n",
        "def triplet_loss(margin=1.0):\n",
        "    \"\"\"Triplet Loss function.\"\"\"\n",
        "    def loss(y_true, y_pred):\n",
        "        anchor, positive, negative = y_pred[0], y_pred[1], y_pred[2]\n",
        "        positive_distance = tf.reduce_sum(tf.square(anchor - positive), axis=-1)\n",
        "        negative_distance = tf.reduce_sum(tf.square(anchor - negative), axis=-1)\n",
        "        loss_value = tf.maximum(positive_distance - negative_distance + margin, 0.0)\n",
        "        return tf.reduce_mean(loss_value)\n",
        "    return loss\n",
        "\n",
        "\n",
        "\n",
        "def create_model(input_dim):\n",
        "    \"\"\"Create a model that processes embeddings directly (e.g., from EfficientNetB0).\"\"\"\n",
        "    inputs = tf.keras.Input(shape=(input_dim,))  # Input layer for the flattened embedding vector\n",
        "    x = layers.Dense(256, activation='relu')(inputs)  # Dense layer to process embeddings\n",
        "    x = layers.Dense(128, activation='relu')(x)  # Another dense layer for more abstraction\n",
        "    output = layers.Dense(1, activation='sigmoid')(x)  # Output layer (adjust if needed)\n",
        "    model = Model(inputs, output)\n",
        "    return model\n",
        "\n",
        "def generate_embeddings(model, image_urls):\n",
        "    \"\"\"Generate embeddings for the list of image URLs.\"\"\"\n",
        "    embeddings = []\n",
        "    for url in image_urls:\n",
        "        img = download_and_preprocess_image(url, target_size=(128, 128))\n",
        "        emb = model.predict(np.expand_dims(img, axis=0))\n",
        "        embeddings.append(emb.flatten())\n",
        "    return np.array(embeddings)"
      ],
      "metadata": {
        "id": "g6umXBUKpx8B"
      },
      "execution_count": 39,
      "outputs": []
    },
    {
      "cell_type": "code",
      "source": [
        "model = EfficientNetB0(weights='imagenet', include_top=False, pooling='avg')"
      ],
      "metadata": {
        "id": "WUVZ5qFxUCv9"
      },
      "execution_count": 43,
      "outputs": []
    },
    {
      "cell_type": "markdown",
      "source": [
        "retry"
      ],
      "metadata": {
        "id": "d_QVDHLSXZJu"
      }
    },
    {
      "cell_type": "code",
      "source": [
        "download_file_from_google_drive()"
      ],
      "metadata": {
        "collapsed": true,
        "id": "JB5TrwhhtkQY",
        "outputId": "d3f6c715-eb62-4e06-d73f-62cee7e7eccf",
        "colab": {
          "base_uri": "https://localhost:8080/"
        }
      },
      "execution_count": 30,
      "outputs": [
        {
          "output_type": "stream",
          "name": "stdout",
          "text": [
            "Downloading file from Google Drive: https://drive.google.com/uc?id=1VR5GWGrVjEtJHEzTPIB-EHDQMG3UnmZ9&export=download\n"
          ]
        },
        {
          "output_type": "stream",
          "name": "stderr",
          "text": [
            "Downloading...\n",
            "From (original): https://drive.google.com/uc?id=1VR5GWGrVjEtJHEzTPIB-EHDQMG3UnmZ9&export=download\n",
            "From (redirected): https://drive.google.com/uc?id=1VR5GWGrVjEtJHEzTPIB-EHDQMG3UnmZ9&export=download&confirm=t&uuid=08027425-b16f-466c-b2d9-0e96d05be908\n",
            "To: /content/pets_pair.json\n",
            "\n",
            "  0%|          | 0.00/3.02G [00:00<?, ?B/s]\u001b[A\n",
            "  0%|          | 2.10M/3.02G [00:00<02:23, 21.0MB/s]\u001b[A\n",
            "  1%|          | 19.4M/3.02G [00:00<00:27, 109MB/s] \u001b[A\n",
            "  1%|          | 35.7M/3.02G [00:00<00:22, 131MB/s]\u001b[A\n",
            "  2%|▏         | 55.1M/3.02G [00:00<00:19, 155MB/s]\u001b[A\n",
            "  2%|▏         | 73.4M/3.02G [00:00<00:17, 165MB/s]\u001b[A\n",
            "  3%|▎         | 90.7M/3.02G [00:00<00:17, 167MB/s]\u001b[A\n",
            "  4%|▎         | 107M/3.02G [00:00<00:20, 142MB/s] \u001b[A\n",
            "  4%|▍         | 123M/3.02G [00:00<00:21, 133MB/s]\u001b[A\n",
            "  5%|▍         | 137M/3.02G [00:00<00:21, 135MB/s]\u001b[A\n",
            "  5%|▌         | 151M/3.02G [00:01<00:21, 134MB/s]\u001b[A\n",
            "  5%|▌         | 165M/3.02G [00:01<00:24, 115MB/s]\u001b[A\n",
            "  6%|▌         | 178M/3.02G [00:01<00:24, 117MB/s]\u001b[A\n",
            "  6%|▋         | 196M/3.02G [00:01<00:21, 133MB/s]\u001b[A\n",
            "  7%|▋         | 215M/3.02G [00:01<00:18, 149MB/s]\u001b[A\n",
            "  8%|▊         | 234M/3.02G [00:01<00:17, 161MB/s]\u001b[A\n",
            "  8%|▊         | 251M/3.02G [00:01<00:16, 163MB/s]\u001b[A\n",
            "  9%|▉         | 271M/3.02G [00:01<00:15, 173MB/s]\u001b[A\n",
            " 10%|▉         | 289M/3.02G [00:02<00:17, 156MB/s]\u001b[A\n",
            " 10%|█         | 305M/3.02G [00:02<00:18, 147MB/s]\u001b[A\n",
            " 11%|█         | 320M/3.02G [00:02<00:18, 143MB/s]\u001b[A\n",
            " 11%|█         | 335M/3.02G [00:02<00:19, 141MB/s]\u001b[A\n",
            " 12%|█▏        | 350M/3.02G [00:02<00:19, 137MB/s]\u001b[A\n",
            " 12%|█▏        | 365M/3.02G [00:02<00:18, 141MB/s]\u001b[A\n",
            " 13%|█▎        | 384M/3.02G [00:02<00:17, 153MB/s]\u001b[A\n",
            " 13%|█▎        | 400M/3.02G [00:02<00:17, 150MB/s]\u001b[A\n",
            " 14%|█▎        | 415M/3.02G [00:02<00:17, 146MB/s]\u001b[A\n",
            " 14%|█▍        | 429M/3.02G [00:03<00:18, 141MB/s]\u001b[A\n",
            " 15%|█▍        | 444M/3.02G [00:03<00:19, 131MB/s]\u001b[A\n",
            " 15%|█▌        | 458M/3.02G [00:03<00:20, 125MB/s]\u001b[A\n",
            " 16%|█▌        | 471M/3.02G [00:03<00:22, 113MB/s]\u001b[A\n",
            " 16%|█▌        | 482M/3.02G [00:03<00:28, 89.8MB/s]\u001b[A\n",
            " 16%|█▋        | 492M/3.02G [00:03<00:28, 88.5MB/s]\u001b[A\n",
            " 17%|█▋        | 503M/3.02G [00:03<00:27, 90.7MB/s]\u001b[A\n",
            " 17%|█▋        | 513M/3.02G [00:03<00:27, 92.5MB/s]\u001b[A\n",
            " 17%|█▋        | 523M/3.02G [00:05<01:53, 22.0MB/s]\u001b[A\n",
            " 18%|█▊        | 530M/3.02G [00:07<04:45, 8.72MB/s]\u001b[A\n",
            " 18%|█▊        | 549M/3.02G [00:08<02:39, 15.5MB/s]\u001b[A\n",
            " 19%|█▊        | 560M/3.02G [00:08<02:02, 20.0MB/s]\u001b[A\n",
            " 19%|█▉        | 574M/3.02G [00:08<01:29, 27.3MB/s]\u001b[A\n",
            " 19%|█▉        | 585M/3.02G [00:08<01:10, 34.7MB/s]\u001b[A\n",
            " 20%|█▉        | 596M/3.02G [00:08<01:00, 40.3MB/s]\u001b[A\n",
            " 20%|██        | 607M/3.02G [00:08<00:49, 48.4MB/s]\u001b[A\n",
            " 21%|██        | 620M/3.02G [00:08<00:39, 61.0MB/s]\u001b[A\n",
            " 21%|██        | 633M/3.02G [00:08<00:32, 74.1MB/s]\u001b[A\n",
            " 21%|██▏       | 645M/3.02G [00:08<00:33, 71.5MB/s]\u001b[A\n",
            " 22%|██▏       | 655M/3.02G [00:09<00:33, 70.3MB/s]\u001b[A\n",
            " 22%|██▏       | 665M/3.02G [00:09<00:32, 72.8MB/s]\u001b[A\n",
            " 22%|██▏       | 674M/3.02G [00:09<00:31, 74.1MB/s]\u001b[A\n",
            " 23%|██▎       | 683M/3.02G [00:09<00:30, 77.4MB/s]\u001b[A\n",
            " 23%|██▎       | 692M/3.02G [00:09<00:29, 78.9MB/s]\u001b[A\n",
            " 23%|██▎       | 705M/3.02G [00:09<00:25, 92.1MB/s]\u001b[A\n",
            " 24%|██▍       | 721M/3.02G [00:09<00:20, 111MB/s] \u001b[A\n",
            " 24%|██▍       | 733M/3.02G [00:09<00:22, 100MB/s]\u001b[A\n",
            " 25%|██▍       | 744M/3.02G [00:10<00:24, 94.7MB/s]\u001b[A\n",
            " 25%|██▍       | 754M/3.02G [00:10<00:24, 92.5MB/s]\u001b[A\n",
            " 25%|██▌       | 764M/3.02G [00:10<00:27, 81.2MB/s]\u001b[A\n",
            " 26%|██▌       | 773M/3.02G [00:10<00:27, 81.8MB/s]\u001b[A\n",
            " 26%|██▌       | 782M/3.02G [00:10<00:28, 78.9MB/s]\u001b[A\n",
            " 26%|██▋       | 793M/3.02G [00:10<00:28, 77.6MB/s]\u001b[A\n",
            " 27%|██▋       | 803M/3.02G [00:10<00:27, 81.3MB/s]\u001b[A\n",
            " 27%|██▋       | 813M/3.02G [00:10<00:25, 85.2MB/s]\u001b[A\n",
            " 27%|██▋       | 822M/3.02G [00:11<00:32, 66.7MB/s]\u001b[A\n",
            " 28%|██▊       | 830M/3.02G [00:11<00:30, 71.5MB/s]\u001b[A\n",
            " 28%|██▊       | 840M/3.02G [00:11<00:27, 78.2MB/s]\u001b[A\n",
            " 28%|██▊       | 850M/3.02G [00:11<00:26, 82.3MB/s]\u001b[A\n",
            " 29%|██▊       | 862M/3.02G [00:11<00:23, 92.3MB/s]\u001b[A\n",
            " 29%|██▉       | 876M/3.02G [00:11<00:21, 102MB/s] \u001b[A\n",
            " 29%|██▉       | 887M/3.02G [00:11<00:20, 103MB/s]\u001b[A\n",
            " 30%|██▉       | 898M/3.02G [00:11<00:20, 106MB/s]\u001b[A\n",
            " 30%|███       | 912M/3.02G [00:11<00:18, 115MB/s]\u001b[A\n",
            " 31%|███       | 926M/3.02G [00:12<00:16, 124MB/s]\u001b[A\n",
            " 31%|███       | 939M/3.02G [00:12<00:18, 114MB/s]\u001b[A\n",
            " 31%|███▏      | 951M/3.02G [00:12<00:19, 109MB/s]\u001b[A\n",
            " 32%|███▏      | 965M/3.02G [00:12<00:17, 116MB/s]\u001b[A\n",
            " 33%|███▎      | 984M/3.02G [00:12<00:14, 136MB/s]\u001b[A\n",
            " 33%|███▎      | 998M/3.02G [00:12<00:15, 133MB/s]\u001b[A\n",
            " 33%|███▎      | 1.01G/3.02G [00:12<00:20, 99.8MB/s]\u001b[A\n",
            " 34%|███▍      | 1.02G/3.02G [00:12<00:20, 95.1MB/s]\u001b[A\n",
            " 34%|███▍      | 1.03G/3.02G [00:13<00:20, 95.7MB/s]\u001b[A\n",
            " 35%|███▍      | 1.05G/3.02G [00:13<00:18, 109MB/s] \u001b[A\n",
            " 35%|███▌      | 1.06G/3.02G [00:13<00:18, 106MB/s]\u001b[A\n",
            " 36%|███▌      | 1.07G/3.02G [00:13<00:17, 111MB/s]\u001b[A\n",
            " 36%|███▌      | 1.09G/3.02G [00:13<00:14, 130MB/s]\u001b[A\n",
            " 37%|███▋      | 1.11G/3.02G [00:13<00:12, 147MB/s]\u001b[A\n",
            " 37%|███▋      | 1.13G/3.02G [00:13<00:12, 155MB/s]\u001b[A\n",
            " 38%|███▊      | 1.15G/3.02G [00:13<00:13, 136MB/s]\u001b[A\n",
            " 38%|███▊      | 1.16G/3.02G [00:13<00:13, 137MB/s]\u001b[A\n",
            " 39%|███▉      | 1.17G/3.02G [00:14<00:13, 134MB/s]\u001b[A\n",
            " 39%|███▉      | 1.19G/3.02G [00:14<00:12, 144MB/s]\u001b[A\n",
            " 40%|████      | 1.21G/3.02G [00:14<00:18, 98.6MB/s]\u001b[A\n",
            " 40%|████      | 1.22G/3.02G [00:14<00:16, 107MB/s] \u001b[A\n",
            " 41%|████      | 1.24G/3.02G [00:14<00:18, 95.5MB/s]\u001b[A\n",
            " 41%|████▏     | 1.25G/3.02G [00:18<02:24, 12.3MB/s]\u001b[A\n",
            " 42%|████▏     | 1.27G/3.02G [00:18<01:27, 19.9MB/s]\u001b[A\n",
            " 42%|████▏     | 1.28G/3.02G [00:18<01:16, 22.7MB/s]\u001b[A\n",
            " 43%|████▎     | 1.29G/3.02G [00:18<01:10, 24.6MB/s]\u001b[A\n",
            " 43%|████▎     | 1.30G/3.02G [00:19<01:04, 26.6MB/s]\u001b[A\n",
            " 43%|████▎     | 1.31G/3.02G [00:19<00:59, 29.0MB/s]\u001b[A\n",
            " 43%|████▎     | 1.31G/3.02G [00:19<00:53, 32.0MB/s]\u001b[A\n",
            " 44%|████▍     | 1.32G/3.02G [00:19<00:50, 33.7MB/s]\u001b[A\n",
            " 44%|████▍     | 1.33G/3.02G [00:19<00:45, 36.9MB/s]\u001b[A\n",
            " 44%|████▍     | 1.34G/3.02G [00:19<00:40, 41.3MB/s]\u001b[A\n",
            " 45%|████▍     | 1.34G/3.02G [00:19<00:37, 44.6MB/s]\u001b[A\n",
            " 45%|████▍     | 1.35G/3.02G [00:20<00:32, 52.0MB/s]\u001b[A\n",
            " 45%|████▌     | 1.36G/3.02G [00:20<00:31, 52.6MB/s]\u001b[A\n",
            " 45%|████▌     | 1.37G/3.02G [00:20<00:39, 41.9MB/s]\u001b[A\n",
            " 45%|████▌     | 1.37G/3.02G [00:20<00:40, 40.4MB/s]\u001b[A\n",
            " 46%|████▌     | 1.38G/3.02G [00:20<00:36, 45.3MB/s]\u001b[A\n",
            " 46%|████▌     | 1.40G/3.02G [00:20<00:29, 55.7MB/s]\u001b[A\n",
            " 47%|████▋     | 1.41G/3.02G [00:21<00:24, 66.3MB/s]\u001b[A\n",
            " 47%|████▋     | 1.42G/3.02G [00:21<00:32, 50.1MB/s]\u001b[A\n",
            " 47%|████▋     | 1.43G/3.02G [00:21<00:21, 75.0MB/s]\u001b[A\n",
            " 48%|████▊     | 1.44G/3.02G [00:21<00:22, 71.2MB/s]\u001b[A\n",
            " 48%|████▊     | 1.45G/3.02G [00:21<00:20, 75.2MB/s]\u001b[A\n",
            " 49%|████▉     | 1.47G/3.02G [00:21<00:15, 98.9MB/s]\u001b[A\n",
            " 49%|████▉     | 1.49G/3.02G [00:21<00:13, 116MB/s] \u001b[A\n",
            " 50%|████▉     | 1.50G/3.02G [00:22<00:24, 61.8MB/s]\u001b[A\n",
            " 50%|█████     | 1.52G/3.02G [00:22<00:18, 80.5MB/s]\u001b[A\n",
            " 51%|█████     | 1.53G/3.02G [00:22<00:17, 85.1MB/s]\u001b[A\n",
            " 51%|█████     | 1.55G/3.02G [00:22<00:15, 93.5MB/s]\u001b[A\n",
            " 52%|█████▏    | 1.56G/3.02G [00:22<00:15, 96.6MB/s]\u001b[A\n",
            " 52%|█████▏    | 1.57G/3.02G [00:23<00:21, 66.0MB/s]\u001b[A\n",
            " 53%|█████▎    | 1.59G/3.02G [00:23<00:16, 85.0MB/s]\u001b[A\n",
            " 53%|█████▎    | 1.60G/3.02G [00:23<00:15, 90.2MB/s]\u001b[A\n",
            " 53%|█████▎    | 1.61G/3.02G [00:23<00:22, 62.8MB/s]\u001b[A\n",
            " 54%|█████▍    | 1.62G/3.02G [00:23<00:18, 74.3MB/s]\u001b[A\n",
            " 54%|█████▍    | 1.64G/3.02G [00:23<00:15, 87.2MB/s]\u001b[A\n",
            " 55%|█████▍    | 1.65G/3.02G [00:24<00:16, 82.4MB/s]\u001b[A\n",
            " 55%|█████▌    | 1.66G/3.02G [00:24<00:14, 92.4MB/s]\u001b[A\n",
            " 55%|█████▌    | 1.67G/3.02G [00:24<00:14, 89.9MB/s]\u001b[A\n",
            " 56%|█████▌    | 1.68G/3.02G [00:24<00:14, 93.0MB/s]\u001b[A\n",
            " 56%|█████▌    | 1.70G/3.02G [00:24<00:13, 98.3MB/s]\u001b[A\n",
            " 57%|█████▋    | 1.71G/3.02G [00:24<00:13, 94.4MB/s]\u001b[A\n",
            " 57%|█████▋    | 1.72G/3.02G [00:24<00:13, 94.9MB/s]\u001b[A\n",
            " 57%|█████▋    | 1.73G/3.02G [00:24<00:13, 96.8MB/s]\u001b[A\n",
            " 58%|█████▊    | 1.74G/3.02G [00:24<00:14, 90.4MB/s]\u001b[A\n",
            " 58%|█████▊    | 1.75G/3.02G [00:25<00:12, 99.1MB/s]\u001b[A\n",
            " 58%|█████▊    | 1.76G/3.02G [00:25<00:12, 102MB/s] \u001b[A\n",
            " 59%|█████▉    | 1.77G/3.02G [00:25<00:13, 92.9MB/s]\u001b[A\n",
            " 59%|█████▉    | 1.78G/3.02G [00:26<00:42, 28.7MB/s]\u001b[A\n",
            " 60%|█████▉    | 1.80G/3.02G [00:26<00:31, 38.2MB/s]\u001b[A\n",
            " 60%|█████▉    | 1.81G/3.02G [00:26<00:26, 45.5MB/s]\u001b[A\n",
            " 60%|██████    | 1.82G/3.02G [00:26<00:28, 42.3MB/s]\u001b[A\n",
            " 60%|██████    | 1.83G/3.02G [00:26<00:24, 49.6MB/s]\u001b[A\n",
            " 61%|██████    | 1.83G/3.02G [00:27<00:21, 55.4MB/s]\u001b[A\n",
            " 61%|██████    | 1.84G/3.02G [00:27<00:19, 61.7MB/s]\u001b[A\n",
            " 61%|██████▏   | 1.85G/3.02G [00:27<00:16, 70.7MB/s]\u001b[A\n",
            " 62%|██████▏   | 1.86G/3.02G [00:27<00:15, 77.0MB/s]\u001b[A\n",
            " 62%|██████▏   | 1.88G/3.02G [00:27<00:13, 83.7MB/s]\u001b[A\n",
            " 62%|██████▏   | 1.89G/3.02G [00:27<00:13, 86.9MB/s]\u001b[A\n",
            " 63%|██████▎   | 1.90G/3.02G [00:27<00:12, 91.4MB/s]\u001b[A\n",
            " 63%|██████▎   | 1.91G/3.02G [00:27<00:11, 93.0MB/s]\u001b[A\n",
            " 63%|██████▎   | 1.92G/3.02G [00:27<00:11, 97.1MB/s]\u001b[A\n",
            " 64%|██████▍   | 1.93G/3.02G [00:27<00:10, 101MB/s] \u001b[A\n",
            " 64%|██████▍   | 1.94G/3.02G [00:28<00:10, 100MB/s]\u001b[A\n",
            " 65%|██████▍   | 1.95G/3.02G [00:28<00:10, 103MB/s]\u001b[A\n",
            " 65%|██████▍   | 1.96G/3.02G [00:28<00:13, 78.1MB/s]\u001b[A\n",
            " 65%|██████▌   | 1.97G/3.02G [00:28<00:11, 93.9MB/s]\u001b[A\n",
            " 66%|██████▌   | 1.99G/3.02G [00:28<00:11, 88.7MB/s]\u001b[A\n",
            " 66%|██████▌   | 2.00G/3.02G [00:28<00:12, 84.8MB/s]\u001b[A\n",
            " 66%|██████▋   | 2.00G/3.02G [00:28<00:11, 86.5MB/s]\u001b[A\n",
            " 67%|██████▋   | 2.01G/3.02G [00:28<00:12, 82.6MB/s]\u001b[A\n",
            " 67%|██████▋   | 2.02G/3.02G [00:29<00:11, 85.5MB/s]\u001b[A\n",
            " 67%|██████▋   | 2.03G/3.02G [00:29<00:11, 87.6MB/s]\u001b[A\n",
            " 68%|██████▊   | 2.04G/3.02G [00:29<00:10, 93.2MB/s]\u001b[A\n",
            " 68%|██████▊   | 2.06G/3.02G [00:29<00:08, 111MB/s] \u001b[A\n",
            " 69%|██████▊   | 2.08G/3.02G [00:29<00:07, 120MB/s]\u001b[A\n",
            " 69%|██████▉   | 2.09G/3.02G [00:29<00:07, 132MB/s]\u001b[A\n",
            " 70%|██████▉   | 2.11G/3.02G [00:29<00:09, 96.4MB/s]\u001b[A\n",
            " 70%|███████   | 2.12G/3.02G [00:29<00:08, 103MB/s] \u001b[A\n",
            " 71%|███████   | 2.13G/3.02G [00:30<00:08, 106MB/s]\u001b[A\n",
            " 71%|███████   | 2.14G/3.02G [00:30<00:07, 115MB/s]\u001b[A\n",
            " 71%|███████▏  | 2.16G/3.02G [00:30<00:07, 117MB/s]\u001b[A\n",
            " 72%|███████▏  | 2.17G/3.02G [00:30<00:07, 116MB/s]\u001b[A\n",
            " 72%|███████▏  | 2.18G/3.02G [00:30<00:08, 103MB/s]\u001b[A\n",
            " 73%|███████▎  | 2.19G/3.02G [00:30<00:08, 97.9MB/s]\u001b[A\n",
            " 73%|███████▎  | 2.20G/3.02G [00:30<00:08, 92.0MB/s]\u001b[A\n",
            " 73%|███████▎  | 2.21G/3.02G [00:30<00:08, 90.8MB/s]\u001b[A\n",
            " 74%|███████▎  | 2.22G/3.02G [00:30<00:09, 88.4MB/s]\u001b[A\n",
            " 74%|███████▍  | 2.23G/3.02G [00:31<00:08, 90.1MB/s]\u001b[A\n",
            " 74%|███████▍  | 2.24G/3.02G [00:31<00:08, 90.7MB/s]\u001b[A\n",
            " 75%|███████▍  | 2.25G/3.02G [00:31<00:08, 91.4MB/s]\u001b[A\n",
            " 75%|███████▍  | 2.26G/3.02G [00:31<00:11, 65.0MB/s]\u001b[A\n",
            " 75%|███████▌  | 2.28G/3.02G [00:31<00:08, 86.4MB/s]\u001b[A\n",
            " 76%|███████▌  | 2.29G/3.02G [00:31<00:06, 108MB/s] \u001b[A\n",
            " 77%|███████▋  | 2.31G/3.02G [00:31<00:05, 127MB/s]\u001b[A\n",
            " 77%|███████▋  | 2.33G/3.02G [00:31<00:04, 147MB/s]\u001b[A\n",
            " 78%|███████▊  | 2.35G/3.02G [00:32<00:04, 149MB/s]\u001b[A\n",
            " 78%|███████▊  | 2.37G/3.02G [00:32<00:05, 120MB/s]\u001b[A\n",
            " 79%|███████▉  | 2.38G/3.02G [00:32<00:05, 121MB/s]\u001b[A\n",
            " 79%|███████▉  | 2.39G/3.02G [00:32<00:05, 108MB/s]\u001b[A\n",
            " 80%|███████▉  | 2.40G/3.02G [00:32<00:06, 95.5MB/s]\u001b[A\n",
            " 80%|████████  | 2.42G/3.02G [00:32<00:07, 80.5MB/s]\u001b[A\n",
            " 80%|████████  | 2.43G/3.02G [00:33<00:07, 83.2MB/s]\u001b[A\n",
            " 81%|████████  | 2.44G/3.02G [00:33<00:06, 87.6MB/s]\u001b[A\n",
            " 81%|████████  | 2.45G/3.02G [00:33<00:05, 99.0MB/s]\u001b[A\n",
            " 82%|████████▏ | 2.46G/3.02G [00:33<00:05, 106MB/s] \u001b[A\n",
            " 82%|████████▏ | 2.47G/3.02G [00:33<00:05, 98.4MB/s]\u001b[A\n",
            " 82%|████████▏ | 2.48G/3.02G [00:33<00:06, 82.0MB/s]\u001b[A\n",
            " 83%|████████▎ | 2.50G/3.02G [00:33<00:05, 98.8MB/s]\u001b[A\n",
            " 83%|████████▎ | 2.52G/3.02G [00:33<00:04, 112MB/s] \u001b[A\n",
            " 84%|████████▎ | 2.53G/3.02G [00:33<00:04, 102MB/s]\u001b[A\n",
            " 84%|████████▍ | 2.54G/3.02G [00:34<00:05, 91.7MB/s]\u001b[A\n",
            " 84%|████████▍ | 2.55G/3.02G [00:34<00:05, 88.8MB/s]\u001b[A\n",
            " 85%|████████▍ | 2.56G/3.02G [00:34<00:05, 86.7MB/s]\u001b[A\n",
            " 85%|████████▌ | 2.57G/3.02G [00:34<00:04, 90.8MB/s]\u001b[A\n",
            " 85%|████████▌ | 2.58G/3.02G [00:34<00:04, 94.3MB/s]\u001b[A\n",
            " 86%|████████▌ | 2.59G/3.02G [00:34<00:04, 99.6MB/s]\u001b[A\n",
            " 86%|████████▌ | 2.60G/3.02G [00:34<00:04, 102MB/s] \u001b[A\n",
            " 87%|████████▋ | 2.61G/3.02G [00:34<00:03, 105MB/s]\u001b[A\n",
            " 87%|████████▋ | 2.62G/3.02G [00:35<00:12, 30.5MB/s]\u001b[A\n",
            " 87%|████████▋ | 2.63G/3.02G [00:36<00:15, 24.7MB/s]\u001b[A\n",
            " 87%|████████▋ | 2.64G/3.02G [00:36<00:12, 31.3MB/s]\u001b[A\n",
            " 88%|████████▊ | 2.65G/3.02G [00:36<00:09, 38.8MB/s]\u001b[A\n",
            " 88%|████████▊ | 2.66G/3.02G [00:36<00:08, 43.3MB/s]\u001b[A\n",
            " 88%|████████▊ | 2.67G/3.02G [00:36<00:08, 40.1MB/s]\u001b[A\n",
            " 89%|████████▉ | 2.68G/3.02G [00:37<00:05, 59.2MB/s]\u001b[A\n",
            " 89%|████████▉ | 2.69G/3.02G [00:37<00:04, 70.4MB/s]\u001b[A\n",
            " 90%|████████▉ | 2.70G/3.02G [00:37<00:04, 75.0MB/s]\u001b[A\n",
            " 90%|████████▉ | 2.71G/3.02G [00:37<00:04, 73.7MB/s]\u001b[A\n",
            " 90%|█████████ | 2.72G/3.02G [00:37<00:06, 44.9MB/s]\u001b[A\n",
            " 91%|█████████ | 2.74G/3.02G [00:37<00:05, 55.6MB/s]\u001b[A\n",
            " 91%|█████████ | 2.75G/3.02G [00:38<00:03, 72.2MB/s]\u001b[A\n",
            " 91%|█████████▏| 2.76G/3.02G [00:38<00:03, 78.5MB/s]\u001b[A\n",
            " 92%|█████████▏| 2.77G/3.02G [00:38<00:03, 81.4MB/s]\u001b[A\n",
            " 92%|█████████▏| 2.78G/3.02G [00:38<00:02, 79.8MB/s]\u001b[A\n",
            " 92%|█████████▏| 2.79G/3.02G [00:38<00:02, 85.3MB/s]\u001b[A\n",
            " 93%|█████████▎| 2.80G/3.02G [00:38<00:02, 90.0MB/s]\u001b[A\n",
            " 93%|█████████▎| 2.81G/3.02G [00:38<00:02, 93.3MB/s]\u001b[A\n",
            " 93%|█████████▎| 2.82G/3.02G [00:38<00:03, 63.1MB/s]\u001b[A\n",
            " 94%|█████████▍| 2.83G/3.02G [00:39<00:02, 69.4MB/s]\u001b[A\n",
            " 94%|█████████▍| 2.84G/3.02G [00:39<00:02, 69.6MB/s]\u001b[A\n",
            " 95%|█████████▍| 2.86G/3.02G [00:39<00:01, 86.2MB/s]\u001b[A\n",
            " 95%|█████████▍| 2.87G/3.02G [00:39<00:01, 93.7MB/s]\u001b[A\n",
            " 95%|█████████▌| 2.88G/3.02G [00:39<00:01, 74.9MB/s]\u001b[A\n",
            " 96%|█████████▌| 2.89G/3.02G [00:39<00:01, 90.5MB/s]\u001b[A\n",
            " 96%|█████████▌| 2.90G/3.02G [00:39<00:01, 89.8MB/s]\u001b[A\n",
            " 97%|█████████▋| 2.92G/3.02G [00:39<00:00, 105MB/s] \u001b[A\n",
            " 97%|█████████▋| 2.93G/3.02G [00:40<00:00, 107MB/s]\u001b[A\n",
            " 97%|█████████▋| 2.94G/3.02G [00:40<00:00, 103MB/s]\u001b[A\n",
            " 98%|█████████▊| 2.95G/3.02G [00:40<00:00, 95.8MB/s]\u001b[A\n",
            " 98%|█████████▊| 2.96G/3.02G [00:40<00:00, 93.6MB/s]\u001b[A\n",
            " 98%|█████████▊| 2.97G/3.02G [00:40<00:00, 89.4MB/s]\u001b[A\n",
            " 99%|█████████▉| 2.98G/3.02G [00:40<00:00, 83.8MB/s]\u001b[A\n",
            " 99%|█████████▉| 2.99G/3.02G [00:40<00:00, 88.5MB/s]\u001b[A\n",
            " 99%|█████████▉| 3.00G/3.02G [00:40<00:00, 92.0MB/s]\u001b[A\n",
            "100%|██████████| 3.02G/3.02G [00:41<00:00, 73.6MB/s]"
          ]
        },
        {
          "output_type": "stream",
          "name": "stdout",
          "text": [
            "File saved to: ./pets_pair.json\n"
          ]
        },
        {
          "output_type": "stream",
          "name": "stderr",
          "text": [
            "\n"
          ]
        }
      ]
    },
    {
      "cell_type": "code",
      "source": [
        "embeddings_df = load_and_prepare_dataframe('./pets_pair.json')"
      ],
      "metadata": {
        "id": "yJn1V5uEtuAN",
        "outputId": "7013852c-0cd1-42bf-d0cd-c494fef3be22",
        "colab": {
          "base_uri": "https://localhost:8080/"
        }
      },
      "execution_count": 44,
      "outputs": [
        {
          "output_type": "stream",
          "name": "stdout",
          "text": [
            "Loading the JSON file into a pandas DataFrame...\n",
            "Unwrapping image tensors from lists...\n",
            "DataFrame after processing:\n",
            "   plemeno1   vek1         barva1          velikost1  \\\n",
            "0  Kříženec  5 let          Černá  Střední - 10-17kg   \n",
            "1  Kříženec  5 let          Černá  Střední - 10-17kg   \n",
            "2  Kříženec  5 let          Černá  Střední - 10-17kg   \n",
            "3  Kříženec  5 let          Černá  Střední - 10-17kg   \n",
            "4  Jezevčík  5 let  Tmavý divočák  Střední - 10-17kg   \n",
            "\n",
            "                                              fotka1  plemeno2      vek2  \\\n",
            "0  [[[0.14509804546833002, 0.15686275064945202, 0...  Kříženec     5 let   \n",
            "1  [[[0.14509804546833002, 0.15686275064945202, 0...  Kříženec     5 let   \n",
            "2  [[[0.14509804546833002, 0.15686275064945202, 0...  Kříženec    2 roky   \n",
            "3  [[[0.14509804546833002, 0.15686275064945202, 0...  Kříženec  6 měsíců   \n",
            "4  [[[0.7254902124404901, 0.623529434204101, 0.57...  Jezevčík     5 let   \n",
            "\n",
            "          barva2             velikost2  \\\n",
            "0          Černá     Střední - 10-17kg   \n",
            "1          Černá     Střední - 10-17kg   \n",
            "2          Plavý  Velká - 18 a více kg   \n",
            "3         zrzavá         Malá - do 9kg   \n",
            "4  Tmavý divočák     Střední - 10-17kg   \n",
            "\n",
            "                                              fotka2  label  \n",
            "0  [[[0.8000000119209291, 0.6196078658103941, 0.6...      1  \n",
            "1  [[[0.207843139767646, 0.19607843458652402, 0.1...      1  \n",
            "2  [[[0.8901960849761961, 0.8156862854957581, 0.6...      0  \n",
            "3  [[[0.31764706969261103, 0.23529411852359702, 0...      0  \n",
            "4  [[[0.31764706969261103, 0.321568638086318, 0.2...      1  \n"
          ]
        }
      ]
    },
    {
      "cell_type": "code",
      "source": [
        "# Create a mapping of pet identifiers to integer indices\n",
        "pet_ids = list(first_100.keys())\n",
        "pet_to_idx = {pet_id: idx for idx, pet_id in enumerate(pet_ids)}\n",
        "\n",
        "# Generate embeddings for all pets and store them\n",
        "embeddings_dict = {\n",
        "    pet_key: generate_embeddings(model, pet_info['images'])\n",
        "    for pet_key, pet_info in first_100.items()\n",
        "}\n",
        "\n",
        "def generate_triplet(pet_key, pet_info, embeddings_dict, first_100):\n",
        "    embeddings = embeddings_dict[pet_key]  # Use pre-generated embeddings\n",
        "\n",
        "    # Create triplets: anchor, positive, and negative\n",
        "    for i in range(len(embeddings)):\n",
        "        anchor = embeddings[i]\n",
        "\n",
        "        # Pick a random positive example from the same pet's observation, excluding the anchor image\n",
        "        positive_idx = np.random.choice([idx for idx in range(len(embeddings)) if idx != i ])\n",
        "        positive = embeddings[positive_idx]\n",
        "\n",
        "        # Pick a random negative example (different pet)\n",
        "        negative_pet_key = np.random.choice([key for key in first_100 if key != pet_key])\n",
        "        negative_embedding = embeddings_dict[negative_pet_key][0]  # Use pre-generated negative embedding\n",
        "       # print(i)\n",
        "        print(positive_idx)\n",
        "     #   print(negative_pet_key)\n",
        "        yield [anchor, positive, negative_embedding], pet_to_idx[pet_key]\n",
        "    #print(embeddings_dict[pet_key])\n",
        "\n",
        "# Prepare the data for triplet training\n",
        "triplets = []\n",
        "labels = []\n",
        "\n",
        "for pet_key, pet_info in first_100.items():\n",
        "    for triplet, label in generate_triplet(pet_key, pet_info, embeddings_dict, first_100):\n",
        "        triplets.append(triplet)\n",
        "        labels.append(label)\n",
        "\n",
        "# Convert triplets to numpy array\n",
        "triplets = np.array(triplets)\n",
        "\n",
        "# Flatten the embeddings for FAISS\n",
        "flattened_triplets = np.array([\n",
        "    np.concatenate([anchor.flatten(), positive.flatten(), negative.flatten()])\n",
        "    for anchor, positive, negative in triplets\n",
        "])\n",
        "\n"
      ],
      "metadata": {
        "collapsed": true,
        "id": "4Ruud12UbGsm",
        "outputId": "166b2eab-05e9-4237-b291-1d74ec2a435b",
        "colab": {
          "base_uri": "https://localhost:8080/",
          "height": 374
        }
      },
      "execution_count": 21,
      "outputs": [
        {
          "output_type": "stream",
          "name": "stdout",
          "text": [
            "\u001b[1m1/1\u001b[0m \u001b[32m━━━━━━━━━━━━━━━━━━━━\u001b[0m\u001b[37m\u001b[0m \u001b[1m0s\u001b[0m 45ms/step\n"
          ]
        },
        {
          "output_type": "error",
          "ename": "KeyboardInterrupt",
          "evalue": "",
          "traceback": [
            "\u001b[0;31m---------------------------------------------------------------------------\u001b[0m",
            "\u001b[0;31mKeyboardInterrupt\u001b[0m                         Traceback (most recent call last)",
            "\u001b[0;32m<ipython-input-21-e09f3cfda2d5>\u001b[0m in \u001b[0;36m<cell line: 0>\u001b[0;34m()\u001b[0m\n\u001b[1;32m      4\u001b[0m \u001b[0;34m\u001b[0m\u001b[0m\n\u001b[1;32m      5\u001b[0m \u001b[0;31m# Generate embeddings for all pets and store them\u001b[0m\u001b[0;34m\u001b[0m\u001b[0;34m\u001b[0m\u001b[0m\n\u001b[0;32m----> 6\u001b[0;31m embeddings_dict = {\n\u001b[0m\u001b[1;32m      7\u001b[0m     \u001b[0mpet_key\u001b[0m\u001b[0;34m:\u001b[0m \u001b[0mgenerate_embeddings\u001b[0m\u001b[0;34m(\u001b[0m\u001b[0mmodel\u001b[0m\u001b[0;34m,\u001b[0m \u001b[0mpet_info\u001b[0m\u001b[0;34m[\u001b[0m\u001b[0;34m'images'\u001b[0m\u001b[0;34m]\u001b[0m\u001b[0;34m)\u001b[0m\u001b[0;34m\u001b[0m\u001b[0;34m\u001b[0m\u001b[0m\n\u001b[1;32m      8\u001b[0m     \u001b[0;32mfor\u001b[0m \u001b[0mpet_key\u001b[0m\u001b[0;34m,\u001b[0m \u001b[0mpet_info\u001b[0m \u001b[0;32min\u001b[0m \u001b[0mfirst_100\u001b[0m\u001b[0;34m.\u001b[0m\u001b[0mitems\u001b[0m\u001b[0;34m(\u001b[0m\u001b[0;34m)\u001b[0m\u001b[0;34m\u001b[0m\u001b[0;34m\u001b[0m\u001b[0m\n",
            "\u001b[0;32m<ipython-input-21-e09f3cfda2d5>\u001b[0m in \u001b[0;36m<dictcomp>\u001b[0;34m(.0)\u001b[0m\n\u001b[1;32m      5\u001b[0m \u001b[0;31m# Generate embeddings for all pets and store them\u001b[0m\u001b[0;34m\u001b[0m\u001b[0;34m\u001b[0m\u001b[0m\n\u001b[1;32m      6\u001b[0m embeddings_dict = {\n\u001b[0;32m----> 7\u001b[0;31m     \u001b[0mpet_key\u001b[0m\u001b[0;34m:\u001b[0m \u001b[0mgenerate_embeddings\u001b[0m\u001b[0;34m(\u001b[0m\u001b[0mmodel\u001b[0m\u001b[0;34m,\u001b[0m \u001b[0mpet_info\u001b[0m\u001b[0;34m[\u001b[0m\u001b[0;34m'images'\u001b[0m\u001b[0;34m]\u001b[0m\u001b[0;34m)\u001b[0m\u001b[0;34m\u001b[0m\u001b[0;34m\u001b[0m\u001b[0m\n\u001b[0m\u001b[1;32m      8\u001b[0m     \u001b[0;32mfor\u001b[0m \u001b[0mpet_key\u001b[0m\u001b[0;34m,\u001b[0m \u001b[0mpet_info\u001b[0m \u001b[0;32min\u001b[0m \u001b[0mfirst_100\u001b[0m\u001b[0;34m.\u001b[0m\u001b[0mitems\u001b[0m\u001b[0;34m(\u001b[0m\u001b[0;34m)\u001b[0m\u001b[0;34m\u001b[0m\u001b[0;34m\u001b[0m\u001b[0m\n\u001b[1;32m      9\u001b[0m }\n",
            "\u001b[0;32m<ipython-input-18-1be01e108416>\u001b[0m in \u001b[0;36mgenerate_embeddings\u001b[0;34m(model, image_urls)\u001b[0m\n\u001b[1;32m     29\u001b[0m     \u001b[0membeddings\u001b[0m \u001b[0;34m=\u001b[0m \u001b[0;34m[\u001b[0m\u001b[0;34m]\u001b[0m\u001b[0;34m\u001b[0m\u001b[0;34m\u001b[0m\u001b[0m\n\u001b[1;32m     30\u001b[0m     \u001b[0;32mfor\u001b[0m \u001b[0murl\u001b[0m \u001b[0;32min\u001b[0m \u001b[0mimage_urls\u001b[0m\u001b[0;34m:\u001b[0m\u001b[0;34m\u001b[0m\u001b[0;34m\u001b[0m\u001b[0m\n\u001b[0;32m---> 31\u001b[0;31m         \u001b[0mimg\u001b[0m \u001b[0;34m=\u001b[0m \u001b[0mdownload_and_preprocess_image\u001b[0m\u001b[0;34m(\u001b[0m\u001b[0murl\u001b[0m\u001b[0;34m,\u001b[0m \u001b[0mtarget_size\u001b[0m\u001b[0;34m=\u001b[0m\u001b[0;34m(\u001b[0m\u001b[0;36m128\u001b[0m\u001b[0;34m,\u001b[0m \u001b[0;36m128\u001b[0m\u001b[0;34m)\u001b[0m\u001b[0;34m)\u001b[0m\u001b[0;34m\u001b[0m\u001b[0;34m\u001b[0m\u001b[0m\n\u001b[0m\u001b[1;32m     32\u001b[0m         \u001b[0memb\u001b[0m \u001b[0;34m=\u001b[0m \u001b[0mmodel\u001b[0m\u001b[0;34m.\u001b[0m\u001b[0mpredict\u001b[0m\u001b[0;34m(\u001b[0m\u001b[0mnp\u001b[0m\u001b[0;34m.\u001b[0m\u001b[0mexpand_dims\u001b[0m\u001b[0;34m(\u001b[0m\u001b[0mimg\u001b[0m\u001b[0;34m,\u001b[0m \u001b[0maxis\u001b[0m\u001b[0;34m=\u001b[0m\u001b[0;36m0\u001b[0m\u001b[0;34m)\u001b[0m\u001b[0;34m)\u001b[0m\u001b[0;34m\u001b[0m\u001b[0;34m\u001b[0m\u001b[0m\n\u001b[1;32m     33\u001b[0m         \u001b[0membeddings\u001b[0m\u001b[0;34m.\u001b[0m\u001b[0mappend\u001b[0m\u001b[0;34m(\u001b[0m\u001b[0memb\u001b[0m\u001b[0;34m.\u001b[0m\u001b[0mflatten\u001b[0m\u001b[0;34m(\u001b[0m\u001b[0;34m)\u001b[0m\u001b[0;34m)\u001b[0m\u001b[0;34m\u001b[0m\u001b[0;34m\u001b[0m\u001b[0m\n",
            "\u001b[0;32m/content/utility.py\u001b[0m in \u001b[0;36mdownload_and_preprocess_image\u001b[0;34m(url, target_size, save_to_tfrecord)\u001b[0m\n\u001b[1;32m    258\u001b[0m \u001b[0;34m\u001b[0m\u001b[0m\n\u001b[1;32m    259\u001b[0m     \u001b[0;31m# Download the image (as before)\u001b[0m\u001b[0;34m\u001b[0m\u001b[0;34m\u001b[0m\u001b[0m\n\u001b[0;32m--> 260\u001b[0;31m     \u001b[0mresponse\u001b[0m \u001b[0;34m=\u001b[0m \u001b[0mrequests\u001b[0m\u001b[0;34m.\u001b[0m\u001b[0mget\u001b[0m\u001b[0;34m(\u001b[0m\u001b[0murl\u001b[0m\u001b[0;34m)\u001b[0m\u001b[0;34m\u001b[0m\u001b[0;34m\u001b[0m\u001b[0m\n\u001b[0m\u001b[1;32m    261\u001b[0m     \u001b[0mimage_bytes\u001b[0m \u001b[0;34m=\u001b[0m \u001b[0mresponse\u001b[0m\u001b[0;34m.\u001b[0m\u001b[0mcontent\u001b[0m\u001b[0;34m\u001b[0m\u001b[0;34m\u001b[0m\u001b[0m\n\u001b[1;32m    262\u001b[0m     \u001b[0mpil_image\u001b[0m \u001b[0;34m=\u001b[0m \u001b[0mImage\u001b[0m\u001b[0;34m.\u001b[0m\u001b[0mopen\u001b[0m\u001b[0;34m(\u001b[0m\u001b[0mio\u001b[0m\u001b[0;34m.\u001b[0m\u001b[0mBytesIO\u001b[0m\u001b[0;34m(\u001b[0m\u001b[0mimage_bytes\u001b[0m\u001b[0;34m)\u001b[0m\u001b[0;34m)\u001b[0m\u001b[0;34m\u001b[0m\u001b[0;34m\u001b[0m\u001b[0m\n",
            "\u001b[0;32m/usr/local/lib/python3.11/dist-packages/requests/api.py\u001b[0m in \u001b[0;36mget\u001b[0;34m(url, params, **kwargs)\u001b[0m\n\u001b[1;32m     71\u001b[0m     \"\"\"\n\u001b[1;32m     72\u001b[0m \u001b[0;34m\u001b[0m\u001b[0m\n\u001b[0;32m---> 73\u001b[0;31m     \u001b[0;32mreturn\u001b[0m \u001b[0mrequest\u001b[0m\u001b[0;34m(\u001b[0m\u001b[0;34m\"get\"\u001b[0m\u001b[0;34m,\u001b[0m \u001b[0murl\u001b[0m\u001b[0;34m,\u001b[0m \u001b[0mparams\u001b[0m\u001b[0;34m=\u001b[0m\u001b[0mparams\u001b[0m\u001b[0;34m,\u001b[0m \u001b[0;34m**\u001b[0m\u001b[0mkwargs\u001b[0m\u001b[0;34m)\u001b[0m\u001b[0;34m\u001b[0m\u001b[0;34m\u001b[0m\u001b[0m\n\u001b[0m\u001b[1;32m     74\u001b[0m \u001b[0;34m\u001b[0m\u001b[0m\n\u001b[1;32m     75\u001b[0m \u001b[0;34m\u001b[0m\u001b[0m\n",
            "\u001b[0;32m/usr/local/lib/python3.11/dist-packages/requests/api.py\u001b[0m in \u001b[0;36mrequest\u001b[0;34m(method, url, **kwargs)\u001b[0m\n\u001b[1;32m     57\u001b[0m     \u001b[0;31m# cases, and look like a memory leak in others.\u001b[0m\u001b[0;34m\u001b[0m\u001b[0;34m\u001b[0m\u001b[0m\n\u001b[1;32m     58\u001b[0m     \u001b[0;32mwith\u001b[0m \u001b[0msessions\u001b[0m\u001b[0;34m.\u001b[0m\u001b[0mSession\u001b[0m\u001b[0;34m(\u001b[0m\u001b[0;34m)\u001b[0m \u001b[0;32mas\u001b[0m \u001b[0msession\u001b[0m\u001b[0;34m:\u001b[0m\u001b[0;34m\u001b[0m\u001b[0;34m\u001b[0m\u001b[0m\n\u001b[0;32m---> 59\u001b[0;31m         \u001b[0;32mreturn\u001b[0m \u001b[0msession\u001b[0m\u001b[0;34m.\u001b[0m\u001b[0mrequest\u001b[0m\u001b[0;34m(\u001b[0m\u001b[0mmethod\u001b[0m\u001b[0;34m=\u001b[0m\u001b[0mmethod\u001b[0m\u001b[0;34m,\u001b[0m \u001b[0murl\u001b[0m\u001b[0;34m=\u001b[0m\u001b[0murl\u001b[0m\u001b[0;34m,\u001b[0m \u001b[0;34m**\u001b[0m\u001b[0mkwargs\u001b[0m\u001b[0;34m)\u001b[0m\u001b[0;34m\u001b[0m\u001b[0;34m\u001b[0m\u001b[0m\n\u001b[0m\u001b[1;32m     60\u001b[0m \u001b[0;34m\u001b[0m\u001b[0m\n\u001b[1;32m     61\u001b[0m \u001b[0;34m\u001b[0m\u001b[0m\n",
            "\u001b[0;32m/usr/local/lib/python3.11/dist-packages/requests/sessions.py\u001b[0m in \u001b[0;36mrequest\u001b[0;34m(self, method, url, params, data, headers, cookies, files, auth, timeout, allow_redirects, proxies, hooks, stream, verify, cert, json)\u001b[0m\n\u001b[1;32m    587\u001b[0m         }\n\u001b[1;32m    588\u001b[0m         \u001b[0msend_kwargs\u001b[0m\u001b[0;34m.\u001b[0m\u001b[0mupdate\u001b[0m\u001b[0;34m(\u001b[0m\u001b[0msettings\u001b[0m\u001b[0;34m)\u001b[0m\u001b[0;34m\u001b[0m\u001b[0;34m\u001b[0m\u001b[0m\n\u001b[0;32m--> 589\u001b[0;31m         \u001b[0mresp\u001b[0m \u001b[0;34m=\u001b[0m \u001b[0mself\u001b[0m\u001b[0;34m.\u001b[0m\u001b[0msend\u001b[0m\u001b[0;34m(\u001b[0m\u001b[0mprep\u001b[0m\u001b[0;34m,\u001b[0m \u001b[0;34m**\u001b[0m\u001b[0msend_kwargs\u001b[0m\u001b[0;34m)\u001b[0m\u001b[0;34m\u001b[0m\u001b[0;34m\u001b[0m\u001b[0m\n\u001b[0m\u001b[1;32m    590\u001b[0m \u001b[0;34m\u001b[0m\u001b[0m\n\u001b[1;32m    591\u001b[0m         \u001b[0;32mreturn\u001b[0m \u001b[0mresp\u001b[0m\u001b[0;34m\u001b[0m\u001b[0;34m\u001b[0m\u001b[0m\n",
            "\u001b[0;32m/usr/local/lib/python3.11/dist-packages/requests/sessions.py\u001b[0m in \u001b[0;36msend\u001b[0;34m(self, request, **kwargs)\u001b[0m\n\u001b[1;32m    701\u001b[0m \u001b[0;34m\u001b[0m\u001b[0m\n\u001b[1;32m    702\u001b[0m         \u001b[0;31m# Send the request\u001b[0m\u001b[0;34m\u001b[0m\u001b[0;34m\u001b[0m\u001b[0m\n\u001b[0;32m--> 703\u001b[0;31m         \u001b[0mr\u001b[0m \u001b[0;34m=\u001b[0m \u001b[0madapter\u001b[0m\u001b[0;34m.\u001b[0m\u001b[0msend\u001b[0m\u001b[0;34m(\u001b[0m\u001b[0mrequest\u001b[0m\u001b[0;34m,\u001b[0m \u001b[0;34m**\u001b[0m\u001b[0mkwargs\u001b[0m\u001b[0;34m)\u001b[0m\u001b[0;34m\u001b[0m\u001b[0;34m\u001b[0m\u001b[0m\n\u001b[0m\u001b[1;32m    704\u001b[0m \u001b[0;34m\u001b[0m\u001b[0m\n\u001b[1;32m    705\u001b[0m         \u001b[0;31m# Total elapsed time of the request (approximately)\u001b[0m\u001b[0;34m\u001b[0m\u001b[0;34m\u001b[0m\u001b[0m\n",
            "\u001b[0;32m/usr/local/lib/python3.11/dist-packages/requests/adapters.py\u001b[0m in \u001b[0;36msend\u001b[0;34m(self, request, stream, timeout, verify, cert, proxies)\u001b[0m\n\u001b[1;32m    665\u001b[0m \u001b[0;34m\u001b[0m\u001b[0m\n\u001b[1;32m    666\u001b[0m         \u001b[0;32mtry\u001b[0m\u001b[0;34m:\u001b[0m\u001b[0;34m\u001b[0m\u001b[0;34m\u001b[0m\u001b[0m\n\u001b[0;32m--> 667\u001b[0;31m             resp = conn.urlopen(\n\u001b[0m\u001b[1;32m    668\u001b[0m                 \u001b[0mmethod\u001b[0m\u001b[0;34m=\u001b[0m\u001b[0mrequest\u001b[0m\u001b[0;34m.\u001b[0m\u001b[0mmethod\u001b[0m\u001b[0;34m,\u001b[0m\u001b[0;34m\u001b[0m\u001b[0;34m\u001b[0m\u001b[0m\n\u001b[1;32m    669\u001b[0m                 \u001b[0murl\u001b[0m\u001b[0;34m=\u001b[0m\u001b[0murl\u001b[0m\u001b[0;34m,\u001b[0m\u001b[0;34m\u001b[0m\u001b[0;34m\u001b[0m\u001b[0m\n",
            "\u001b[0;32m/usr/local/lib/python3.11/dist-packages/urllib3/connectionpool.py\u001b[0m in \u001b[0;36murlopen\u001b[0;34m(self, method, url, body, headers, retries, redirect, assert_same_host, timeout, pool_timeout, release_conn, chunked, body_pos, preload_content, decode_content, **response_kw)\u001b[0m\n\u001b[1;32m    785\u001b[0m \u001b[0;34m\u001b[0m\u001b[0m\n\u001b[1;32m    786\u001b[0m             \u001b[0;31m# Make the request on the HTTPConnection object\u001b[0m\u001b[0;34m\u001b[0m\u001b[0;34m\u001b[0m\u001b[0m\n\u001b[0;32m--> 787\u001b[0;31m             response = self._make_request(\n\u001b[0m\u001b[1;32m    788\u001b[0m                 \u001b[0mconn\u001b[0m\u001b[0;34m,\u001b[0m\u001b[0;34m\u001b[0m\u001b[0;34m\u001b[0m\u001b[0m\n\u001b[1;32m    789\u001b[0m                 \u001b[0mmethod\u001b[0m\u001b[0;34m,\u001b[0m\u001b[0;34m\u001b[0m\u001b[0;34m\u001b[0m\u001b[0m\n",
            "\u001b[0;32m/usr/local/lib/python3.11/dist-packages/urllib3/connectionpool.py\u001b[0m in \u001b[0;36m_make_request\u001b[0;34m(self, conn, method, url, body, headers, retries, timeout, chunked, response_conn, preload_content, decode_content, enforce_content_length)\u001b[0m\n\u001b[1;32m    462\u001b[0m             \u001b[0;31m# Trigger any extra validation we need to do.\u001b[0m\u001b[0;34m\u001b[0m\u001b[0;34m\u001b[0m\u001b[0m\n\u001b[1;32m    463\u001b[0m             \u001b[0;32mtry\u001b[0m\u001b[0;34m:\u001b[0m\u001b[0;34m\u001b[0m\u001b[0;34m\u001b[0m\u001b[0m\n\u001b[0;32m--> 464\u001b[0;31m                 \u001b[0mself\u001b[0m\u001b[0;34m.\u001b[0m\u001b[0m_validate_conn\u001b[0m\u001b[0;34m(\u001b[0m\u001b[0mconn\u001b[0m\u001b[0;34m)\u001b[0m\u001b[0;34m\u001b[0m\u001b[0;34m\u001b[0m\u001b[0m\n\u001b[0m\u001b[1;32m    465\u001b[0m             \u001b[0;32mexcept\u001b[0m \u001b[0;34m(\u001b[0m\u001b[0mSocketTimeout\u001b[0m\u001b[0;34m,\u001b[0m \u001b[0mBaseSSLError\u001b[0m\u001b[0;34m)\u001b[0m \u001b[0;32mas\u001b[0m \u001b[0me\u001b[0m\u001b[0;34m:\u001b[0m\u001b[0;34m\u001b[0m\u001b[0;34m\u001b[0m\u001b[0m\n\u001b[1;32m    466\u001b[0m                 \u001b[0mself\u001b[0m\u001b[0;34m.\u001b[0m\u001b[0m_raise_timeout\u001b[0m\u001b[0;34m(\u001b[0m\u001b[0merr\u001b[0m\u001b[0;34m=\u001b[0m\u001b[0me\u001b[0m\u001b[0;34m,\u001b[0m \u001b[0murl\u001b[0m\u001b[0;34m=\u001b[0m\u001b[0murl\u001b[0m\u001b[0;34m,\u001b[0m \u001b[0mtimeout_value\u001b[0m\u001b[0;34m=\u001b[0m\u001b[0mconn\u001b[0m\u001b[0;34m.\u001b[0m\u001b[0mtimeout\u001b[0m\u001b[0;34m)\u001b[0m\u001b[0;34m\u001b[0m\u001b[0;34m\u001b[0m\u001b[0m\n",
            "\u001b[0;32m/usr/local/lib/python3.11/dist-packages/urllib3/connectionpool.py\u001b[0m in \u001b[0;36m_validate_conn\u001b[0;34m(self, conn)\u001b[0m\n\u001b[1;32m   1091\u001b[0m         \u001b[0;31m# Force connect early to allow us to validate the connection.\u001b[0m\u001b[0;34m\u001b[0m\u001b[0;34m\u001b[0m\u001b[0m\n\u001b[1;32m   1092\u001b[0m         \u001b[0;32mif\u001b[0m \u001b[0mconn\u001b[0m\u001b[0;34m.\u001b[0m\u001b[0mis_closed\u001b[0m\u001b[0;34m:\u001b[0m\u001b[0;34m\u001b[0m\u001b[0;34m\u001b[0m\u001b[0m\n\u001b[0;32m-> 1093\u001b[0;31m             \u001b[0mconn\u001b[0m\u001b[0;34m.\u001b[0m\u001b[0mconnect\u001b[0m\u001b[0;34m(\u001b[0m\u001b[0;34m)\u001b[0m\u001b[0;34m\u001b[0m\u001b[0;34m\u001b[0m\u001b[0m\n\u001b[0m\u001b[1;32m   1094\u001b[0m \u001b[0;34m\u001b[0m\u001b[0m\n\u001b[1;32m   1095\u001b[0m         \u001b[0;31m# TODO revise this, see https://github.com/urllib3/urllib3/issues/2791\u001b[0m\u001b[0;34m\u001b[0m\u001b[0;34m\u001b[0m\u001b[0m\n",
            "\u001b[0;32m/usr/local/lib/python3.11/dist-packages/urllib3/connection.py\u001b[0m in \u001b[0;36mconnect\u001b[0;34m(self)\u001b[0m\n\u001b[1;32m    739\u001b[0m             \u001b[0mserver_hostname_rm_dot\u001b[0m \u001b[0;34m=\u001b[0m \u001b[0mserver_hostname\u001b[0m\u001b[0;34m.\u001b[0m\u001b[0mrstrip\u001b[0m\u001b[0;34m(\u001b[0m\u001b[0;34m\".\"\u001b[0m\u001b[0;34m)\u001b[0m\u001b[0;34m\u001b[0m\u001b[0;34m\u001b[0m\u001b[0m\n\u001b[1;32m    740\u001b[0m \u001b[0;34m\u001b[0m\u001b[0m\n\u001b[0;32m--> 741\u001b[0;31m             sock_and_verified = _ssl_wrap_socket_and_match_hostname(\n\u001b[0m\u001b[1;32m    742\u001b[0m                 \u001b[0msock\u001b[0m\u001b[0;34m=\u001b[0m\u001b[0msock\u001b[0m\u001b[0;34m,\u001b[0m\u001b[0;34m\u001b[0m\u001b[0;34m\u001b[0m\u001b[0m\n\u001b[1;32m    743\u001b[0m                 \u001b[0mcert_reqs\u001b[0m\u001b[0;34m=\u001b[0m\u001b[0mself\u001b[0m\u001b[0;34m.\u001b[0m\u001b[0mcert_reqs\u001b[0m\u001b[0;34m,\u001b[0m\u001b[0;34m\u001b[0m\u001b[0;34m\u001b[0m\u001b[0m\n",
            "\u001b[0;32m/usr/local/lib/python3.11/dist-packages/urllib3/connection.py\u001b[0m in \u001b[0;36m_ssl_wrap_socket_and_match_hostname\u001b[0;34m(sock, cert_reqs, ssl_version, ssl_minimum_version, ssl_maximum_version, cert_file, key_file, key_password, ca_certs, ca_cert_dir, ca_cert_data, assert_hostname, assert_fingerprint, server_hostname, ssl_context, tls_in_tls)\u001b[0m\n\u001b[1;32m    918\u001b[0m             \u001b[0mserver_hostname\u001b[0m \u001b[0;34m=\u001b[0m \u001b[0mnormalized\u001b[0m\u001b[0;34m\u001b[0m\u001b[0;34m\u001b[0m\u001b[0m\n\u001b[1;32m    919\u001b[0m \u001b[0;34m\u001b[0m\u001b[0m\n\u001b[0;32m--> 920\u001b[0;31m     ssl_sock = ssl_wrap_socket(\n\u001b[0m\u001b[1;32m    921\u001b[0m         \u001b[0msock\u001b[0m\u001b[0;34m=\u001b[0m\u001b[0msock\u001b[0m\u001b[0;34m,\u001b[0m\u001b[0;34m\u001b[0m\u001b[0;34m\u001b[0m\u001b[0m\n\u001b[1;32m    922\u001b[0m         \u001b[0mkeyfile\u001b[0m\u001b[0;34m=\u001b[0m\u001b[0mkey_file\u001b[0m\u001b[0;34m,\u001b[0m\u001b[0;34m\u001b[0m\u001b[0;34m\u001b[0m\u001b[0m\n",
            "\u001b[0;32m/usr/local/lib/python3.11/dist-packages/urllib3/util/ssl_.py\u001b[0m in \u001b[0;36mssl_wrap_socket\u001b[0;34m(sock, keyfile, certfile, cert_reqs, ca_certs, server_hostname, ssl_version, ciphers, ssl_context, ca_cert_dir, key_password, ca_cert_data, tls_in_tls)\u001b[0m\n\u001b[1;32m    458\u001b[0m     \u001b[0mcontext\u001b[0m\u001b[0;34m.\u001b[0m\u001b[0mset_alpn_protocols\u001b[0m\u001b[0;34m(\u001b[0m\u001b[0mALPN_PROTOCOLS\u001b[0m\u001b[0;34m)\u001b[0m\u001b[0;34m\u001b[0m\u001b[0;34m\u001b[0m\u001b[0m\n\u001b[1;32m    459\u001b[0m \u001b[0;34m\u001b[0m\u001b[0m\n\u001b[0;32m--> 460\u001b[0;31m     \u001b[0mssl_sock\u001b[0m \u001b[0;34m=\u001b[0m \u001b[0m_ssl_wrap_socket_impl\u001b[0m\u001b[0;34m(\u001b[0m\u001b[0msock\u001b[0m\u001b[0;34m,\u001b[0m \u001b[0mcontext\u001b[0m\u001b[0;34m,\u001b[0m \u001b[0mtls_in_tls\u001b[0m\u001b[0;34m,\u001b[0m \u001b[0mserver_hostname\u001b[0m\u001b[0;34m)\u001b[0m\u001b[0;34m\u001b[0m\u001b[0;34m\u001b[0m\u001b[0m\n\u001b[0m\u001b[1;32m    461\u001b[0m     \u001b[0;32mreturn\u001b[0m \u001b[0mssl_sock\u001b[0m\u001b[0;34m\u001b[0m\u001b[0;34m\u001b[0m\u001b[0m\n\u001b[1;32m    462\u001b[0m \u001b[0;34m\u001b[0m\u001b[0m\n",
            "\u001b[0;32m/usr/local/lib/python3.11/dist-packages/urllib3/util/ssl_.py\u001b[0m in \u001b[0;36m_ssl_wrap_socket_impl\u001b[0;34m(sock, ssl_context, tls_in_tls, server_hostname)\u001b[0m\n\u001b[1;32m    502\u001b[0m         \u001b[0;32mreturn\u001b[0m \u001b[0mSSLTransport\u001b[0m\u001b[0;34m(\u001b[0m\u001b[0msock\u001b[0m\u001b[0;34m,\u001b[0m \u001b[0mssl_context\u001b[0m\u001b[0;34m,\u001b[0m \u001b[0mserver_hostname\u001b[0m\u001b[0;34m)\u001b[0m\u001b[0;34m\u001b[0m\u001b[0;34m\u001b[0m\u001b[0m\n\u001b[1;32m    503\u001b[0m \u001b[0;34m\u001b[0m\u001b[0m\n\u001b[0;32m--> 504\u001b[0;31m     \u001b[0;32mreturn\u001b[0m \u001b[0mssl_context\u001b[0m\u001b[0;34m.\u001b[0m\u001b[0mwrap_socket\u001b[0m\u001b[0;34m(\u001b[0m\u001b[0msock\u001b[0m\u001b[0;34m,\u001b[0m \u001b[0mserver_hostname\u001b[0m\u001b[0;34m=\u001b[0m\u001b[0mserver_hostname\u001b[0m\u001b[0;34m)\u001b[0m\u001b[0;34m\u001b[0m\u001b[0;34m\u001b[0m\u001b[0m\n\u001b[0m",
            "\u001b[0;32m/usr/lib/python3.11/ssl.py\u001b[0m in \u001b[0;36mwrap_socket\u001b[0;34m(self, sock, server_side, do_handshake_on_connect, suppress_ragged_eofs, server_hostname, session)\u001b[0m\n\u001b[1;32m    515\u001b[0m         \u001b[0;31m# SSLSocket class handles server_hostname encoding before it calls\u001b[0m\u001b[0;34m\u001b[0m\u001b[0;34m\u001b[0m\u001b[0m\n\u001b[1;32m    516\u001b[0m         \u001b[0;31m# ctx._wrap_socket()\u001b[0m\u001b[0;34m\u001b[0m\u001b[0;34m\u001b[0m\u001b[0m\n\u001b[0;32m--> 517\u001b[0;31m         return self.sslsocket_class._create(\n\u001b[0m\u001b[1;32m    518\u001b[0m             \u001b[0msock\u001b[0m\u001b[0;34m=\u001b[0m\u001b[0msock\u001b[0m\u001b[0;34m,\u001b[0m\u001b[0;34m\u001b[0m\u001b[0;34m\u001b[0m\u001b[0m\n\u001b[1;32m    519\u001b[0m             \u001b[0mserver_side\u001b[0m\u001b[0;34m=\u001b[0m\u001b[0mserver_side\u001b[0m\u001b[0;34m,\u001b[0m\u001b[0;34m\u001b[0m\u001b[0;34m\u001b[0m\u001b[0m\n",
            "\u001b[0;32m/usr/lib/python3.11/ssl.py\u001b[0m in \u001b[0;36m_create\u001b[0;34m(cls, sock, server_side, do_handshake_on_connect, suppress_ragged_eofs, server_hostname, context, session)\u001b[0m\n\u001b[1;32m   1102\u001b[0m                         \u001b[0;31m# non-blocking\u001b[0m\u001b[0;34m\u001b[0m\u001b[0;34m\u001b[0m\u001b[0m\n\u001b[1;32m   1103\u001b[0m                         \u001b[0;32mraise\u001b[0m \u001b[0mValueError\u001b[0m\u001b[0;34m(\u001b[0m\u001b[0;34m\"do_handshake_on_connect should not be specified for non-blocking sockets\"\u001b[0m\u001b[0;34m)\u001b[0m\u001b[0;34m\u001b[0m\u001b[0;34m\u001b[0m\u001b[0m\n\u001b[0;32m-> 1104\u001b[0;31m                     \u001b[0mself\u001b[0m\u001b[0;34m.\u001b[0m\u001b[0mdo_handshake\u001b[0m\u001b[0;34m(\u001b[0m\u001b[0;34m)\u001b[0m\u001b[0;34m\u001b[0m\u001b[0;34m\u001b[0m\u001b[0m\n\u001b[0m\u001b[1;32m   1105\u001b[0m         \u001b[0;32mexcept\u001b[0m\u001b[0;34m:\u001b[0m\u001b[0;34m\u001b[0m\u001b[0;34m\u001b[0m\u001b[0m\n\u001b[1;32m   1106\u001b[0m             \u001b[0;32mtry\u001b[0m\u001b[0;34m:\u001b[0m\u001b[0;34m\u001b[0m\u001b[0;34m\u001b[0m\u001b[0m\n",
            "\u001b[0;32m/usr/lib/python3.11/ssl.py\u001b[0m in \u001b[0;36mdo_handshake\u001b[0;34m(self, block)\u001b[0m\n\u001b[1;32m   1380\u001b[0m             \u001b[0;32mif\u001b[0m \u001b[0mtimeout\u001b[0m \u001b[0;34m==\u001b[0m \u001b[0;36m0.0\u001b[0m \u001b[0;32mand\u001b[0m \u001b[0mblock\u001b[0m\u001b[0;34m:\u001b[0m\u001b[0;34m\u001b[0m\u001b[0;34m\u001b[0m\u001b[0m\n\u001b[1;32m   1381\u001b[0m                 \u001b[0mself\u001b[0m\u001b[0;34m.\u001b[0m\u001b[0msettimeout\u001b[0m\u001b[0;34m(\u001b[0m\u001b[0;32mNone\u001b[0m\u001b[0;34m)\u001b[0m\u001b[0;34m\u001b[0m\u001b[0;34m\u001b[0m\u001b[0m\n\u001b[0;32m-> 1382\u001b[0;31m             \u001b[0mself\u001b[0m\u001b[0;34m.\u001b[0m\u001b[0m_sslobj\u001b[0m\u001b[0;34m.\u001b[0m\u001b[0mdo_handshake\u001b[0m\u001b[0;34m(\u001b[0m\u001b[0;34m)\u001b[0m\u001b[0;34m\u001b[0m\u001b[0;34m\u001b[0m\u001b[0m\n\u001b[0m\u001b[1;32m   1383\u001b[0m         \u001b[0;32mfinally\u001b[0m\u001b[0;34m:\u001b[0m\u001b[0;34m\u001b[0m\u001b[0;34m\u001b[0m\u001b[0m\n\u001b[1;32m   1384\u001b[0m             \u001b[0mself\u001b[0m\u001b[0;34m.\u001b[0m\u001b[0msettimeout\u001b[0m\u001b[0;34m(\u001b[0m\u001b[0mtimeout\u001b[0m\u001b[0;34m)\u001b[0m\u001b[0;34m\u001b[0m\u001b[0;34m\u001b[0m\u001b[0m\n",
            "\u001b[0;31mKeyboardInterrupt\u001b[0m: "
          ]
        }
      ]
    },
    {
      "cell_type": "code",
      "source": [
        "# Split the data into training and testing sets\n",
        "X_train, X_test, y_train, y_test = train_test_split(flattened_triplets, labels, test_size=0.2, random_state=42)\n",
        "\n",
        "# Initialize FAISS index for similarity search\n",
        "embedding_dim = X_train.shape[1]  # The size of the flattened embeddings\n",
        "index = faiss.IndexFlatL2(embedding_dim)  # L2 distance metric for similarity search\n",
        "\n",
        "# Add training data embeddings to the FAISS index\n",
        "index.add(X_train)  # No need to reshape, as X_train is already flat"
      ],
      "metadata": {
        "id": "EJZCRwI9bLBR"
      },
      "execution_count": 87,
      "outputs": []
    },
    {
      "cell_type": "code",
      "source": [
        "input_dim = 3840\n",
        "\n",
        "# Create the model\n",
        "model = create_model(input_dim)\n",
        "\n",
        "# Compile and train the model\n",
        "model.compile(optimizer='adam', loss=triplet_loss(margin=1.0))\n",
        "model.fit(X_train, np.array(y_train), epochs=60, batch_size=32)"
      ],
      "metadata": {
        "id": "W_3Fgr-AjG-C",
        "outputId": "b3f98895-faa9-4d71-f520-33de8f8e5bc7",
        "colab": {
          "base_uri": "https://localhost:8080/"
        }
      },
      "execution_count": 88,
      "outputs": [
        {
          "output_type": "stream",
          "name": "stdout",
          "text": [
            "Epoch 1/60\n",
            "\u001b[1m14/14\u001b[0m \u001b[32m━━━━━━━━━━━━━━━━━━━━\u001b[0m\u001b[37m\u001b[0m \u001b[1m2s\u001b[0m 14ms/step - loss: 1.0000\n",
            "Epoch 2/60\n",
            "\u001b[1m14/14\u001b[0m \u001b[32m━━━━━━━━━━━━━━━━━━━━\u001b[0m\u001b[37m\u001b[0m \u001b[1m0s\u001b[0m 13ms/step - loss: 1.0000\n",
            "Epoch 3/60\n",
            "\u001b[1m14/14\u001b[0m \u001b[32m━━━━━━━━━━━━━━━━━━━━\u001b[0m\u001b[37m\u001b[0m \u001b[1m0s\u001b[0m 13ms/step - loss: 1.0000\n",
            "Epoch 4/60\n",
            "\u001b[1m14/14\u001b[0m \u001b[32m━━━━━━━━━━━━━━━━━━━━\u001b[0m\u001b[37m\u001b[0m \u001b[1m0s\u001b[0m 15ms/step - loss: 1.0000\n",
            "Epoch 5/60\n",
            "\u001b[1m14/14\u001b[0m \u001b[32m━━━━━━━━━━━━━━━━━━━━\u001b[0m\u001b[37m\u001b[0m \u001b[1m0s\u001b[0m 14ms/step - loss: 1.0000\n",
            "Epoch 6/60\n",
            "\u001b[1m14/14\u001b[0m \u001b[32m━━━━━━━━━━━━━━━━━━━━\u001b[0m\u001b[37m\u001b[0m \u001b[1m0s\u001b[0m 13ms/step - loss: 1.0000\n",
            "Epoch 7/60\n",
            "\u001b[1m14/14\u001b[0m \u001b[32m━━━━━━━━━━━━━━━━━━━━\u001b[0m\u001b[37m\u001b[0m \u001b[1m0s\u001b[0m 13ms/step - loss: 1.0000\n",
            "Epoch 8/60\n",
            "\u001b[1m14/14\u001b[0m \u001b[32m━━━━━━━━━━━━━━━━━━━━\u001b[0m\u001b[37m\u001b[0m \u001b[1m0s\u001b[0m 15ms/step - loss: 1.0000\n",
            "Epoch 9/60\n",
            "\u001b[1m14/14\u001b[0m \u001b[32m━━━━━━━━━━━━━━━━━━━━\u001b[0m\u001b[37m\u001b[0m \u001b[1m0s\u001b[0m 14ms/step - loss: 1.0000\n",
            "Epoch 10/60\n",
            "\u001b[1m14/14\u001b[0m \u001b[32m━━━━━━━━━━━━━━━━━━━━\u001b[0m\u001b[37m\u001b[0m \u001b[1m0s\u001b[0m 13ms/step - loss: 1.0000\n",
            "Epoch 11/60\n",
            "\u001b[1m14/14\u001b[0m \u001b[32m━━━━━━━━━━━━━━━━━━━━\u001b[0m\u001b[37m\u001b[0m \u001b[1m0s\u001b[0m 12ms/step - loss: 1.0000\n",
            "Epoch 12/60\n",
            "\u001b[1m14/14\u001b[0m \u001b[32m━━━━━━━━━━━━━━━━━━━━\u001b[0m\u001b[37m\u001b[0m \u001b[1m0s\u001b[0m 14ms/step - loss: 1.0000\n",
            "Epoch 13/60\n",
            "\u001b[1m14/14\u001b[0m \u001b[32m━━━━━━━━━━━━━━━━━━━━\u001b[0m\u001b[37m\u001b[0m \u001b[1m0s\u001b[0m 13ms/step - loss: 1.0000\n",
            "Epoch 14/60\n",
            "\u001b[1m14/14\u001b[0m \u001b[32m━━━━━━━━━━━━━━━━━━━━\u001b[0m\u001b[37m\u001b[0m \u001b[1m0s\u001b[0m 12ms/step - loss: 1.0000\n",
            "Epoch 15/60\n",
            "\u001b[1m14/14\u001b[0m \u001b[32m━━━━━━━━━━━━━━━━━━━━\u001b[0m\u001b[37m\u001b[0m \u001b[1m0s\u001b[0m 14ms/step - loss: 1.0000\n",
            "Epoch 16/60\n",
            "\u001b[1m14/14\u001b[0m \u001b[32m━━━━━━━━━━━━━━━━━━━━\u001b[0m\u001b[37m\u001b[0m \u001b[1m0s\u001b[0m 12ms/step - loss: 1.0000\n",
            "Epoch 17/60\n",
            "\u001b[1m14/14\u001b[0m \u001b[32m━━━━━━━━━━━━━━━━━━━━\u001b[0m\u001b[37m\u001b[0m \u001b[1m0s\u001b[0m 14ms/step - loss: 1.0000\n",
            "Epoch 18/60\n",
            "\u001b[1m14/14\u001b[0m \u001b[32m━━━━━━━━━━━━━━━━━━━━\u001b[0m\u001b[37m\u001b[0m \u001b[1m0s\u001b[0m 12ms/step - loss: 1.0000\n",
            "Epoch 19/60\n",
            "\u001b[1m14/14\u001b[0m \u001b[32m━━━━━━━━━━━━━━━━━━━━\u001b[0m\u001b[37m\u001b[0m \u001b[1m0s\u001b[0m 14ms/step - loss: 1.0000\n",
            "Epoch 20/60\n",
            "\u001b[1m14/14\u001b[0m \u001b[32m━━━━━━━━━━━━━━━━━━━━\u001b[0m\u001b[37m\u001b[0m \u001b[1m0s\u001b[0m 13ms/step - loss: 1.0000\n",
            "Epoch 21/60\n",
            "\u001b[1m14/14\u001b[0m \u001b[32m━━━━━━━━━━━━━━━━━━━━\u001b[0m\u001b[37m\u001b[0m \u001b[1m0s\u001b[0m 13ms/step - loss: 1.0000\n",
            "Epoch 22/60\n",
            "\u001b[1m14/14\u001b[0m \u001b[32m━━━━━━━━━━━━━━━━━━━━\u001b[0m\u001b[37m\u001b[0m \u001b[1m0s\u001b[0m 13ms/step - loss: 1.0000\n",
            "Epoch 23/60\n",
            "\u001b[1m14/14\u001b[0m \u001b[32m━━━━━━━━━━━━━━━━━━━━\u001b[0m\u001b[37m\u001b[0m \u001b[1m0s\u001b[0m 20ms/step - loss: 1.0000\n",
            "Epoch 24/60\n",
            "\u001b[1m14/14\u001b[0m \u001b[32m━━━━━━━━━━━━━━━━━━━━\u001b[0m\u001b[37m\u001b[0m \u001b[1m1s\u001b[0m 18ms/step - loss: 1.0000\n",
            "Epoch 25/60\n",
            "\u001b[1m14/14\u001b[0m \u001b[32m━━━━━━━━━━━━━━━━━━━━\u001b[0m\u001b[37m\u001b[0m \u001b[1m0s\u001b[0m 20ms/step - loss: 1.0000\n",
            "Epoch 26/60\n",
            "\u001b[1m14/14\u001b[0m \u001b[32m━━━━━━━━━━━━━━━━━━━━\u001b[0m\u001b[37m\u001b[0m \u001b[1m1s\u001b[0m 19ms/step - loss: 1.0000\n",
            "Epoch 27/60\n",
            "\u001b[1m14/14\u001b[0m \u001b[32m━━━━━━━━━━━━━━━━━━━━\u001b[0m\u001b[37m\u001b[0m \u001b[1m0s\u001b[0m 21ms/step - loss: 1.0000\n",
            "Epoch 28/60\n",
            "\u001b[1m14/14\u001b[0m \u001b[32m━━━━━━━━━━━━━━━━━━━━\u001b[0m\u001b[37m\u001b[0m \u001b[1m1s\u001b[0m 20ms/step - loss: 1.0000\n",
            "Epoch 29/60\n",
            "\u001b[1m14/14\u001b[0m \u001b[32m━━━━━━━━━━━━━━━━━━━━\u001b[0m\u001b[37m\u001b[0m \u001b[1m1s\u001b[0m 14ms/step - loss: 1.0000\n",
            "Epoch 30/60\n",
            "\u001b[1m14/14\u001b[0m \u001b[32m━━━━━━━━━━━━━━━━━━━━\u001b[0m\u001b[37m\u001b[0m \u001b[1m0s\u001b[0m 12ms/step - loss: 1.0000\n",
            "Epoch 31/60\n",
            "\u001b[1m14/14\u001b[0m \u001b[32m━━━━━━━━━━━━━━━━━━━━\u001b[0m\u001b[37m\u001b[0m \u001b[1m0s\u001b[0m 12ms/step - loss: 1.0000\n",
            "Epoch 32/60\n",
            "\u001b[1m14/14\u001b[0m \u001b[32m━━━━━━━━━━━━━━━━━━━━\u001b[0m\u001b[37m\u001b[0m \u001b[1m0s\u001b[0m 16ms/step - loss: 1.0000\n",
            "Epoch 33/60\n",
            "\u001b[1m14/14\u001b[0m \u001b[32m━━━━━━━━━━━━━━━━━━━━\u001b[0m\u001b[37m\u001b[0m \u001b[1m0s\u001b[0m 12ms/step - loss: 1.0000\n",
            "Epoch 34/60\n",
            "\u001b[1m14/14\u001b[0m \u001b[32m━━━━━━━━━━━━━━━━━━━━\u001b[0m\u001b[37m\u001b[0m \u001b[1m0s\u001b[0m 15ms/step - loss: 1.0000\n",
            "Epoch 35/60\n",
            "\u001b[1m14/14\u001b[0m \u001b[32m━━━━━━━━━━━━━━━━━━━━\u001b[0m\u001b[37m\u001b[0m \u001b[1m0s\u001b[0m 12ms/step - loss: 1.0000\n",
            "Epoch 36/60\n",
            "\u001b[1m14/14\u001b[0m \u001b[32m━━━━━━━━━━━━━━━━━━━━\u001b[0m\u001b[37m\u001b[0m \u001b[1m0s\u001b[0m 16ms/step - loss: 1.0000\n",
            "Epoch 37/60\n",
            "\u001b[1m14/14\u001b[0m \u001b[32m━━━━━━━━━━━━━━━━━━━━\u001b[0m\u001b[37m\u001b[0m \u001b[1m0s\u001b[0m 12ms/step - loss: 1.0000\n",
            "Epoch 38/60\n",
            "\u001b[1m14/14\u001b[0m \u001b[32m━━━━━━━━━━━━━━━━━━━━\u001b[0m\u001b[37m\u001b[0m \u001b[1m0s\u001b[0m 14ms/step - loss: 1.0000\n",
            "Epoch 39/60\n",
            "\u001b[1m14/14\u001b[0m \u001b[32m━━━━━━━━━━━━━━━━━━━━\u001b[0m\u001b[37m\u001b[0m \u001b[1m0s\u001b[0m 13ms/step - loss: 1.0000\n",
            "Epoch 40/60\n",
            "\u001b[1m14/14\u001b[0m \u001b[32m━━━━━━━━━━━━━━━━━━━━\u001b[0m\u001b[37m\u001b[0m \u001b[1m0s\u001b[0m 13ms/step - loss: 1.0000\n",
            "Epoch 41/60\n",
            "\u001b[1m14/14\u001b[0m \u001b[32m━━━━━━━━━━━━━━━━━━━━\u001b[0m\u001b[37m\u001b[0m \u001b[1m0s\u001b[0m 13ms/step - loss: 1.0000\n",
            "Epoch 42/60\n",
            "\u001b[1m14/14\u001b[0m \u001b[32m━━━━━━━━━━━━━━━━━━━━\u001b[0m\u001b[37m\u001b[0m \u001b[1m0s\u001b[0m 12ms/step - loss: 1.0000\n",
            "Epoch 43/60\n",
            "\u001b[1m14/14\u001b[0m \u001b[32m━━━━━━━━━━━━━━━━━━━━\u001b[0m\u001b[37m\u001b[0m \u001b[1m0s\u001b[0m 13ms/step - loss: 1.0000\n",
            "Epoch 44/60\n",
            "\u001b[1m14/14\u001b[0m \u001b[32m━━━━━━━━━━━━━━━━━━━━\u001b[0m\u001b[37m\u001b[0m \u001b[1m0s\u001b[0m 13ms/step - loss: 1.0000\n",
            "Epoch 45/60\n",
            "\u001b[1m14/14\u001b[0m \u001b[32m━━━━━━━━━━━━━━━━━━━━\u001b[0m\u001b[37m\u001b[0m \u001b[1m0s\u001b[0m 13ms/step - loss: 1.0000\n",
            "Epoch 46/60\n",
            "\u001b[1m14/14\u001b[0m \u001b[32m━━━━━━━━━━━━━━━━━━━━\u001b[0m\u001b[37m\u001b[0m \u001b[1m0s\u001b[0m 15ms/step - loss: 1.0000\n",
            "Epoch 47/60\n",
            "\u001b[1m14/14\u001b[0m \u001b[32m━━━━━━━━━━━━━━━━━━━━\u001b[0m\u001b[37m\u001b[0m \u001b[1m0s\u001b[0m 12ms/step - loss: 1.0000\n",
            "Epoch 48/60\n",
            "\u001b[1m14/14\u001b[0m \u001b[32m━━━━━━━━━━━━━━━━━━━━\u001b[0m\u001b[37m\u001b[0m \u001b[1m0s\u001b[0m 13ms/step - loss: 1.0000\n",
            "Epoch 49/60\n",
            "\u001b[1m14/14\u001b[0m \u001b[32m━━━━━━━━━━━━━━━━━━━━\u001b[0m\u001b[37m\u001b[0m \u001b[1m0s\u001b[0m 13ms/step - loss: 1.0000\n",
            "Epoch 50/60\n",
            "\u001b[1m14/14\u001b[0m \u001b[32m━━━━━━━━━━━━━━━━━━━━\u001b[0m\u001b[37m\u001b[0m \u001b[1m0s\u001b[0m 15ms/step - loss: 1.0000\n",
            "Epoch 51/60\n",
            "\u001b[1m14/14\u001b[0m \u001b[32m━━━━━━━━━━━━━━━━━━━━\u001b[0m\u001b[37m\u001b[0m \u001b[1m0s\u001b[0m 12ms/step - loss: 1.0000\n",
            "Epoch 52/60\n",
            "\u001b[1m14/14\u001b[0m \u001b[32m━━━━━━━━━━━━━━━━━━━━\u001b[0m\u001b[37m\u001b[0m \u001b[1m0s\u001b[0m 13ms/step - loss: 1.0000\n",
            "Epoch 53/60\n",
            "\u001b[1m14/14\u001b[0m \u001b[32m━━━━━━━━━━━━━━━━━━━━\u001b[0m\u001b[37m\u001b[0m \u001b[1m0s\u001b[0m 13ms/step - loss: 1.0000\n",
            "Epoch 54/60\n",
            "\u001b[1m14/14\u001b[0m \u001b[32m━━━━━━━━━━━━━━━━━━━━\u001b[0m\u001b[37m\u001b[0m \u001b[1m0s\u001b[0m 13ms/step - loss: 1.0000\n",
            "Epoch 55/60\n",
            "\u001b[1m14/14\u001b[0m \u001b[32m━━━━━━━━━━━━━━━━━━━━\u001b[0m\u001b[37m\u001b[0m \u001b[1m0s\u001b[0m 13ms/step - loss: 1.0000\n",
            "Epoch 56/60\n",
            "\u001b[1m14/14\u001b[0m \u001b[32m━━━━━━━━━━━━━━━━━━━━\u001b[0m\u001b[37m\u001b[0m \u001b[1m0s\u001b[0m 13ms/step - loss: 1.0000\n",
            "Epoch 57/60\n",
            "\u001b[1m14/14\u001b[0m \u001b[32m━━━━━━━━━━━━━━━━━━━━\u001b[0m\u001b[37m\u001b[0m \u001b[1m0s\u001b[0m 14ms/step - loss: 1.0000\n",
            "Epoch 58/60\n",
            "\u001b[1m14/14\u001b[0m \u001b[32m━━━━━━━━━━━━━━━━━━━━\u001b[0m\u001b[37m\u001b[0m \u001b[1m0s\u001b[0m 12ms/step - loss: 1.0000\n",
            "Epoch 59/60\n",
            "\u001b[1m14/14\u001b[0m \u001b[32m━━━━━━━━━━━━━━━━━━━━\u001b[0m\u001b[37m\u001b[0m \u001b[1m0s\u001b[0m 14ms/step - loss: 1.0000\n",
            "Epoch 60/60\n",
            "\u001b[1m14/14\u001b[0m \u001b[32m━━━━━━━━━━━━━━━━━━━━\u001b[0m\u001b[37m\u001b[0m \u001b[1m0s\u001b[0m 15ms/step - loss: 1.0000\n"
          ]
        },
        {
          "output_type": "execute_result",
          "data": {
            "text/plain": [
              "<keras.src.callbacks.history.History at 0x7a7b0e0bb350>"
            ]
          },
          "metadata": {},
          "execution_count": 88
        }
      ]
    }
  ]
}