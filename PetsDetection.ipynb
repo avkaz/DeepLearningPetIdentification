{
  "nbformat": 4,
  "nbformat_minor": 0,
  "metadata": {
    "colab": {
      "provenance": [],
      "authorship_tag": "ABX9TyPcK7escSd4dHs9gm7+oEpY",
      "include_colab_link": true
    },
    "kernelspec": {
      "name": "python3",
      "display_name": "Python 3"
    },
    "language_info": {
      "name": "python"
    }
  },
  "cells": [
    {
      "cell_type": "markdown",
      "metadata": {
        "id": "view-in-github",
        "colab_type": "text"
      },
      "source": [
        "<a href=\"https://colab.research.google.com/github/avkaz/DeepLearningPetIdentification/blob/feat_new_feature/PetsDetection.ipynb\" target=\"_parent\"><img src=\"https://colab.research.google.com/assets/colab-badge.svg\" alt=\"Open In Colab\"/></a>"
      ]
    },
    {
      "cell_type": "code",
      "source": [
        "## 1st -  Download utils.py file from github repository\n",
        "## 2nd - Imports all functions from util.py\n",
        "\n",
        "import requests\n",
        "\n",
        "# Correct raw URL for the utils.py file\n",
        "url = \"https://raw.githubusercontent.com/avkaz/DeepLearningPetIdentification/main/utils.py\"\n",
        "\n",
        "# Fetch and save the file locally\n",
        "response = requests.get(url)\n",
        "with open(\"utils.py\", \"wb\") as f:\n",
        "    f.write(response.content)\n",
        "\n",
        "\n",
        "import utils\n",
        "print(\"utils.py downloaded successfully.\")"
      ],
      "metadata": {
        "id": "pI8cfZmMpqhd",
        "colab": {
          "base_uri": "https://localhost:8080/"
        },
        "outputId": "28b7e8c9-87de-4fa7-8943-be8841fca0dc"
      },
      "execution_count": 59,
      "outputs": [
        {
          "output_type": "stream",
          "name": "stdout",
          "text": [
            "utils.py downloaded successfully.\n"
          ]
        }
      ]
    },
    {
      "cell_type": "code",
      "source": [
        "data = utils.get_data()"
      ],
      "metadata": {
        "collapsed": true,
        "colab": {
          "base_uri": "https://localhost:8080/",
          "height": 141
        },
        "id": "4M8WNTabfHI5",
        "outputId": "9fe9ade7-37a1-4caa-abdf-065fde0b4e8a"
      },
      "execution_count": 60,
      "outputs": [
        {
          "output_type": "error",
          "ename": "TypeError",
          "evalue": "get_data() missing 1 required positional argument: 'url'",
          "traceback": [
            "\u001b[0;31m---------------------------------------------------------------------------\u001b[0m",
            "\u001b[0;31mTypeError\u001b[0m                                 Traceback (most recent call last)",
            "\u001b[0;32m<ipython-input-60-d56dface4a02>\u001b[0m in \u001b[0;36m<cell line: 1>\u001b[0;34m()\u001b[0m\n\u001b[0;32m----> 1\u001b[0;31m \u001b[0mdata\u001b[0m \u001b[0;34m=\u001b[0m \u001b[0mutils\u001b[0m\u001b[0;34m.\u001b[0m\u001b[0mget_data\u001b[0m\u001b[0;34m(\u001b[0m\u001b[0;34m)\u001b[0m\u001b[0;34m\u001b[0m\u001b[0;34m\u001b[0m\u001b[0m\n\u001b[0m",
            "\u001b[0;31mTypeError\u001b[0m: get_data() missing 1 required positional argument: 'url'"
          ]
        }
      ]
    },
    {
      "cell_type": "code",
      "source": [
        "first_3_pets = list(data.items())[:3]\n",
        "first_3_pets"
      ],
      "metadata": {
        "colab": {
          "base_uri": "https://localhost:8080/"
        },
        "id": "pUGZoYY_ivIs",
        "outputId": "a2c5d3fa-6390-4925-f79e-8143c726f057"
      },
      "execution_count": 56,
      "outputs": [
        {
          "output_type": "execute_result",
          "data": {
            "text/plain": [
              "[('tanyny-chomutov-2024-12-21',\n",
              "  {'Jméno': 'Tanyny',\n",
              "   'Pohlaví': 'Samec',\n",
              "   'Kraj': 'Ústecký',\n",
              "   'Okres': 'Chomutov',\n",
              "   'Plemeno': 'Kříženec',\n",
              "   'Věk': '5 let',\n",
              "   'Barva': 'Černá',\n",
              "   'Velikost': 'Střední - 10-17kg',\n",
              "   'url': 'https://www.psidetektiv.cz/zvire/tanyny-chomutov-2024-12-21',\n",
              "   'images': ['https://www.psidetektiv.cz/data/catalog/big/2024/12/22/img190390.jpg',\n",
              "    'https://www.psidetektiv.cz/data/catalog/big/2024/12/22/img190391.jpg',\n",
              "    'https://www.psidetektiv.cz/data/catalog/big/2024/12/22/img190392.jpg',\n",
              "    'https://www.psidetektiv.cz/data/catalog/big/2024/12/22/img190393.jpg',\n",
              "    'https://www.psidetektiv.cz/data/catalog/big/2024/12/22/img190394.jpg']}),\n",
              " ('haily-tachov-2024-12-21',\n",
              "  {'Jméno': 'Haily',\n",
              "   'Pohlaví': 'Samice',\n",
              "   'Kraj': 'Plzeňský',\n",
              "   'Okres': 'Tachov',\n",
              "   'Plemeno': 'Jezevčík',\n",
              "   'Věk': '5 let',\n",
              "   'Barva': 'Tmavý divočák',\n",
              "   'Velikost': 'Střední - 10-17kg',\n",
              "   'url': 'https://www.psidetektiv.cz/zvire/haily-tachov-2024-12-21',\n",
              "   'images': ['https://www.psidetektiv.cz/data/catalog/big/2024/12/21/img190383.jpg',\n",
              "    'https://www.psidetektiv.cz/data/catalog/big/2024/12/21/img190384.jpg']}),\n",
              " ('egy-karlovy-vary-2024-12-17',\n",
              "  {'Jméno': 'Egy',\n",
              "   'Pohlaví': 'Samec',\n",
              "   'Kraj': 'Karlovarský',\n",
              "   'Okres': 'Karlovy Vary',\n",
              "   'Plemeno': 'Kříženec',\n",
              "   'Věk': 'cca 1 rok',\n",
              "   'Barva': 'Mourovatý',\n",
              "   'Velikost': 'Malá - do 9kg',\n",
              "   'url': 'https://www.psidetektiv.cz/zvire/egy-karlovy-vary-2024-12-17',\n",
              "   'images': ['https://www.psidetektiv.cz/data/catalog/big/2024/12/21/img190378.jpg',\n",
              "    'https://www.psidetektiv.cz/data/catalog/big/2024/12/21/img190379.jpg',\n",
              "    'https://www.psidetektiv.cz/data/catalog/big/2024/12/21/img190380.jpg',\n",
              "    'https://www.psidetektiv.cz/data/catalog/big/2024/12/21/img190381.jpg']})]"
            ]
          },
          "metadata": {},
          "execution_count": 56
        }
      ]
    },
    {
      "cell_type": "markdown",
      "source": [
        "Load the pre-trained EfficientNetB0 model"
      ],
      "metadata": {
        "id": "jZ1amhmWpkEu"
      }
    },
    {
      "cell_type": "code",
      "source": [
        "model = EfficientNetB0(weights='imagenet', include_top=False, pooling='avg')"
      ],
      "metadata": {
        "id": "xyUBvQM6pmba"
      },
      "execution_count": null,
      "outputs": []
    }
  ]
}