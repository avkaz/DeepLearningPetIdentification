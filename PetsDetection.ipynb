{
  "nbformat": 4,
  "nbformat_minor": 0,
  "metadata": {
    "colab": {
      "provenance": [],
      "authorship_tag": "ABX9TyO5UnKqzh+QBOxE37o6C7ZI",
      "include_colab_link": true
    },
    "kernelspec": {
      "name": "python3",
      "display_name": "Python 3"
    },
    "language_info": {
      "name": "python"
    }
  },
  "cells": [
    {
      "cell_type": "markdown",
      "metadata": {
        "id": "view-in-github",
        "colab_type": "text"
      },
      "source": [
        "<a href=\"https://colab.research.google.com/github/avkaz/DeepLearningPetIdentification/blob/feat_image_processing_function/PetsDetection.ipynb\" target=\"_parent\"><img src=\"https://colab.research.google.com/assets/colab-badge.svg\" alt=\"Open In Colab\"/></a>"
      ]
    },
    {
      "cell_type": "markdown",
      "source": [
        "#Initial notebook"
      ],
      "metadata": {
        "id": "p2yaCW-OokPa"
      }
    },
    {
      "cell_type": "markdown",
      "source": [
        "### Getting data"
      ],
      "metadata": {
        "id": "xMZ38R_konmx"
      }
    },
    {
      "cell_type": "code",
      "source": [
        "## 1st -  Download utility.py file from github repository\n",
        "## 2nd - Imports all functions from utility.py\n",
        "\n",
        "import requests\n",
        "\n",
        "# Correct raw URL for the utility.py file\n",
        "url = \"https://raw.githubusercontent.com/avkaz/DeepLearningPetIdentification/main/utility.py\"\n",
        "\n",
        "# Fetch and save the file locally\n",
        "response = requests.get(url)\n",
        "with open(\"utility.py\", \"wb\") as f:\n",
        "    f.write(response.content)\n",
        "\n",
        "\n",
        "import utility\n",
        "print(\"utility.py downloaded successfully.\")"
      ],
      "metadata": {
        "id": "pI8cfZmMpqhd",
        "colab": {
          "base_uri": "https://localhost:8080/"
        },
        "outputId": "a2bfd397-8941-44c6-835a-ab5995fe6ecb"
      },
      "execution_count": null,
      "outputs": [
        {
          "output_type": "stream",
          "name": "stdout",
          "text": [
            "utils.py downloaded successfully.\n"
          ]
        }
      ]
    },
    {
      "cell_type": "code",
      "source": [
        "data = utility.get_data()"
      ],
      "metadata": {
        "collapsed": true,
        "id": "4M8WNTabfHI5"
      },
      "execution_count": null,
      "outputs": []
    },
    {
      "cell_type": "code",
      "source": [
        "first_3_pets = list(data.items())[:3]\n",
        "first_3_pets"
      ],
      "metadata": {
        "colab": {
          "base_uri": "https://localhost:8080/"
        },
        "id": "pUGZoYY_ivIs",
        "outputId": "9c8ee2f7-160a-46ac-f934-4f96532e2506"
      },
      "execution_count": null,
      "outputs": [
        {
          "output_type": "execute_result",
          "data": {
            "text/plain": [
              "[('tanyny-chomutov-2024-12-21',\n",
              "  {'Jméno': 'Tanyny',\n",
              "   'Pohlaví': 'Samec',\n",
              "   'Kraj': 'Ústecký',\n",
              "   'Okres': 'Chomutov',\n",
              "   'Plemeno': 'Kříženec',\n",
              "   'Věk': '5 let',\n",
              "   'Barva': 'Černá',\n",
              "   'Velikost': 'Střední - 10-17kg',\n",
              "   'url': 'https://www.psidetektiv.cz/zvire/tanyny-chomutov-2024-12-21',\n",
              "   'images': ['https://www.psidetektiv.cz/data/catalog/big/2024/12/22/img190390.jpg',\n",
              "    'https://www.psidetektiv.cz/data/catalog/big/2024/12/22/img190391.jpg',\n",
              "    'https://www.psidetektiv.cz/data/catalog/big/2024/12/22/img190392.jpg',\n",
              "    'https://www.psidetektiv.cz/data/catalog/big/2024/12/22/img190393.jpg',\n",
              "    'https://www.psidetektiv.cz/data/catalog/big/2024/12/22/img190394.jpg']}),\n",
              " ('haily-tachov-2024-12-21',\n",
              "  {'Jméno': 'Haily',\n",
              "   'Pohlaví': 'Samice',\n",
              "   'Kraj': 'Plzeňský',\n",
              "   'Okres': 'Tachov',\n",
              "   'Plemeno': 'Jezevčík',\n",
              "   'Věk': '5 let',\n",
              "   'Barva': 'Tmavý divočák',\n",
              "   'Velikost': 'Střední - 10-17kg',\n",
              "   'url': 'https://www.psidetektiv.cz/zvire/haily-tachov-2024-12-21',\n",
              "   'images': ['https://www.psidetektiv.cz/data/catalog/big/2024/12/21/img190383.jpg',\n",
              "    'https://www.psidetektiv.cz/data/catalog/big/2024/12/21/img190384.jpg']}),\n",
              " ('egy-karlovy-vary-2024-12-17',\n",
              "  {'Jméno': 'Egy',\n",
              "   'Pohlaví': 'Samec',\n",
              "   'Kraj': 'Karlovarský',\n",
              "   'Okres': 'Karlovy Vary',\n",
              "   'Plemeno': 'Kříženec',\n",
              "   'Věk': 'cca 1 rok',\n",
              "   'Barva': 'Mourovatý',\n",
              "   'Velikost': 'Malá - do 9kg',\n",
              "   'url': 'https://www.psidetektiv.cz/zvire/egy-karlovy-vary-2024-12-17',\n",
              "   'images': ['https://www.psidetektiv.cz/data/catalog/big/2024/12/21/img190378.jpg',\n",
              "    'https://www.psidetektiv.cz/data/catalog/big/2024/12/21/img190379.jpg',\n",
              "    'https://www.psidetektiv.cz/data/catalog/big/2024/12/21/img190380.jpg',\n",
              "    'https://www.psidetektiv.cz/data/catalog/big/2024/12/21/img190381.jpg']})]"
            ]
          },
          "metadata": {},
          "execution_count": 90
        }
      ]
    },
    {
      "cell_type": "markdown",
      "source": [
        "Load the pre-trained EfficientNetB0 model"
      ],
      "metadata": {
        "id": "jZ1amhmWpkEu"
      }
    },
    {
      "cell_type": "code",
      "source": [
        "import tensorflow as tf\n",
        "\n",
        "from tensorflow.keras.applications import EfficientNetB0\n",
        "\n",
        "\n",
        "model = EfficientNetB0(weights='imagenet', include_top=False, pooling='avg')"
      ],
      "metadata": {
        "id": "xyUBvQM6pmba",
        "colab": {
          "base_uri": "https://localhost:8080/"
        },
        "outputId": "dda12fa5-0126-4861-d515-f5abe454cfec"
      },
      "execution_count": null,
      "outputs": [
        {
          "output_type": "stream",
          "name": "stdout",
          "text": [
            "Downloading data from https://storage.googleapis.com/keras-applications/efficientnetb0_notop.h5\n",
            "\u001b[1m16705208/16705208\u001b[0m \u001b[32m━━━━━━━━━━━━━━━━━━━━\u001b[0m\u001b[37m\u001b[0m \u001b[1m0s\u001b[0m 0us/step\n"
          ]
        }
      ]
    }
  ]
}