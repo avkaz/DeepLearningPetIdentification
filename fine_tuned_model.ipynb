{
  "nbformat": 4,
  "nbformat_minor": 0,
  "metadata": {
    "colab": {
      "provenance": [],
      "authorship_tag": "ABX9TyOsjwlhsnoeQe4nd6Oi2mdI",
      "include_colab_link": true
    },
    "kernelspec": {
      "name": "python3",
      "display_name": "Python 3"
    },
    "language_info": {
      "name": "python"
    }
  },
  "cells": [
    {
      "cell_type": "markdown",
      "metadata": {
        "id": "view-in-github",
        "colab_type": "text"
      },
      "source": [
        "<a href=\"https://colab.research.google.com/github/avkaz/DeepLearningPetIdentification/blob/fine-tuned-model/fine_tuned_model.ipynb\" target=\"_parent\"><img src=\"https://colab.research.google.com/assets/colab-badge.svg\" alt=\"Open In Colab\"/></a>"
      ]
    },
    {
      "cell_type": "markdown",
      "source": [
        "# Fine Tuned model"
      ],
      "metadata": {
        "id": "oPULtlbnPEBo"
      }
    },
    {
      "cell_type": "markdown",
      "source": [
        "## Importing Utility library"
      ],
      "metadata": {
        "id": "5tO_BhpQPAj9"
      }
    },
    {
      "cell_type": "code",
      "execution_count": 1,
      "metadata": {
        "colab": {
          "base_uri": "https://localhost:8080/"
        },
        "id": "ay6d2zwoO-bo",
        "outputId": "a81d2ef4-12c0-4d7f-a925-49fb44dd66f7"
      },
      "outputs": [
        {
          "output_type": "stream",
          "name": "stdout",
          "text": [
            "utility.py downloaded successfully.\n"
          ]
        }
      ],
      "source": [
        "## 1st -  Download utility.py file from github repository\n",
        "## 2nd - Imports all functions from utility.py\n",
        "\n",
        "import requests\n",
        "\n",
        "# Correct raw URL for the utility.py file\n",
        "url = \"https://raw.githubusercontent.com/avkaz/DeepLearningPetIdentification/main/utility.py\"\n",
        "\n",
        "# Fetch and save the file locally\n",
        "response = requests.get(url)\n",
        "with open(\"utility.py\", \"wb\") as f:\n",
        "    f.write(response.content)\n",
        "\n",
        "\n",
        "import utility\n",
        "print(\"utility.py downloaded successfully.\")"
      ]
    },
    {
      "cell_type": "markdown",
      "source": [
        "## Getting data"
      ],
      "metadata": {
        "id": "RE0pwBqFPOWH"
      }
    },
    {
      "cell_type": "code",
      "source": [
        "# Loading data from google drive\n",
        "utility.download_file_from_google_drive()"
      ],
      "metadata": {
        "colab": {
          "base_uri": "https://localhost:8080/"
        },
        "id": "9SQnE2-pPTij",
        "outputId": "c4e420d4-0ded-4464-d035-0060ea112eab"
      },
      "execution_count": 3,
      "outputs": [
        {
          "output_type": "stream",
          "name": "stdout",
          "text": [
            "Downloading file from Google Drive: https://drive.google.com/uc?id=1VR5GWGrVjEtJHEzTPIB-EHDQMG3UnmZ9&export=download\n"
          ]
        },
        {
          "output_type": "stream",
          "name": "stderr",
          "text": [
            "Downloading...\n",
            "From (original): https://drive.google.com/uc?id=1VR5GWGrVjEtJHEzTPIB-EHDQMG3UnmZ9&export=download\n",
            "From (redirected): https://drive.google.com/uc?id=1VR5GWGrVjEtJHEzTPIB-EHDQMG3UnmZ9&export=download&confirm=t&uuid=f82f48b1-e49a-4017-ba01-2b54ed7257e6\n",
            "To: /content/pets_pair.json\n",
            "100%|██████████| 3.02G/3.02G [00:46<00:00, 65.5MB/s]"
          ]
        },
        {
          "output_type": "stream",
          "name": "stdout",
          "text": [
            "File saved to: ./pets_pair.json\n"
          ]
        },
        {
          "output_type": "stream",
          "name": "stderr",
          "text": [
            "\n"
          ]
        }
      ]
    },
    {
      "cell_type": "markdown",
      "source": [],
      "metadata": {
        "id": "IvXTPaF9PXQ8"
      }
    },
    {
      "cell_type": "code",
      "source": [
        "# creating a pandas dataset\n",
        "df = utility.load_and_prepare_dataframe('./pets_pair.json')"
      ],
      "metadata": {
        "colab": {
          "base_uri": "https://localhost:8080/"
        },
        "id": "uGMjl9-ePglR",
        "outputId": "58d051c2-6cdf-46b7-efa7-afc1f140669f"
      },
      "execution_count": 4,
      "outputs": [
        {
          "output_type": "stream",
          "name": "stdout",
          "text": [
            "Loading the JSON file into a pandas DataFrame...\n",
            "Unwrapping image tensors from lists...\n",
            "DataFrame after processing:\n",
            "   plemeno1   vek1         barva1          velikost1  \\\n",
            "0  Kříženec  5 let          Černá  Střední - 10-17kg   \n",
            "1  Kříženec  5 let          Černá  Střední - 10-17kg   \n",
            "2  Kříženec  5 let          Černá  Střední - 10-17kg   \n",
            "3  Kříženec  5 let          Černá  Střední - 10-17kg   \n",
            "4  Jezevčík  5 let  Tmavý divočák  Střední - 10-17kg   \n",
            "\n",
            "                                              fotka1  plemeno2      vek2  \\\n",
            "0  [[[0.14509804546833002, 0.15686275064945202, 0...  Kříženec     5 let   \n",
            "1  [[[0.14509804546833002, 0.15686275064945202, 0...  Kříženec     5 let   \n",
            "2  [[[0.14509804546833002, 0.15686275064945202, 0...  Kříženec    2 roky   \n",
            "3  [[[0.14509804546833002, 0.15686275064945202, 0...  Kříženec  6 měsíců   \n",
            "4  [[[0.7254902124404901, 0.623529434204101, 0.57...  Jezevčík     5 let   \n",
            "\n",
            "          barva2             velikost2  \\\n",
            "0          Černá     Střední - 10-17kg   \n",
            "1          Černá     Střední - 10-17kg   \n",
            "2          Plavý  Velká - 18 a více kg   \n",
            "3         zrzavá         Malá - do 9kg   \n",
            "4  Tmavý divočák     Střední - 10-17kg   \n",
            "\n",
            "                                              fotka2  label  \n",
            "0  [[[0.8000000119209291, 0.6196078658103941, 0.6...      1  \n",
            "1  [[[0.207843139767646, 0.19607843458652402, 0.1...      1  \n",
            "2  [[[0.8901960849761961, 0.8156862854957581, 0.6...      0  \n",
            "3  [[[0.31764706969261103, 0.23529411852359702, 0...      0  \n",
            "4  [[[0.31764706969261103, 0.321568638086318, 0.2...      1  \n"
          ]
        }
      ]
    }
  ]
}