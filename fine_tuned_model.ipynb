{
  "cells": [
    {
      "cell_type": "markdown",
      "metadata": {
        "colab_type": "text",
        "id": "view-in-github"
      },
      "source": [
        "<a href=\"https://colab.research.google.com/github/avkaz/DeepLearningPetIdentification/blob/fine-tuned-model/fine_tuned_model.ipynb\" target=\"_parent\"><img src=\"https://colab.research.google.com/assets/colab-badge.svg\" alt=\"Open In Colab\"/></a>"
      ]
    },
    {
      "cell_type": "markdown",
      "metadata": {
        "id": "oPULtlbnPEBo"
      },
      "source": [
        "# Fine Tuned model"
      ]
    },
    {
      "cell_type": "markdown",
      "metadata": {
        "id": "5tO_BhpQPAj9"
      },
      "source": [
        "## Importing Utility library"
      ]
    },
    {
      "cell_type": "code",
      "execution_count": 11,
      "metadata": {
        "colab": {
          "base_uri": "https://localhost:8080/"
        },
        "id": "ay6d2zwoO-bo",
        "outputId": "a81d2ef4-12c0-4d7f-a925-49fb44dd66f7"
      },
      "outputs": [
        {
          "ename": "ModuleNotFoundError",
          "evalue": "No module named 'requests'",
          "output_type": "error",
          "traceback": [
            "\u001b[1;31m---------------------------------------------------------------------------\u001b[0m",
            "\u001b[1;31mModuleNotFoundError\u001b[0m                       Traceback (most recent call last)",
            "Cell \u001b[1;32mIn[11], line 4\u001b[0m\n\u001b[0;32m      1\u001b[0m \u001b[38;5;66;03m## 1st -  Download utility.py file from github repository\u001b[39;00m\n\u001b[0;32m      2\u001b[0m \u001b[38;5;66;03m## 2nd - Imports all functions from utility.py\u001b[39;00m\n\u001b[1;32m----> 4\u001b[0m \u001b[38;5;28;01mimport\u001b[39;00m\u001b[38;5;250m \u001b[39m\u001b[38;5;21;01mrequests\u001b[39;00m\n\u001b[0;32m      6\u001b[0m \u001b[38;5;66;03m# Correct raw URL for the utility.py file\u001b[39;00m\n\u001b[0;32m      7\u001b[0m url \u001b[38;5;241m=\u001b[39m \u001b[38;5;124m\"\u001b[39m\u001b[38;5;124mhttps://raw.githubusercontent.com/avkaz/DeepLearningPetIdentification/main/utility.py\u001b[39m\u001b[38;5;124m\"\u001b[39m\n",
            "\u001b[1;31mModuleNotFoundError\u001b[0m: No module named 'requests'"
          ]
        }
      ],
      "source": [
        "## 1st -  Download utility.py file from github repository\n",
        "## 2nd - Imports all functions from utility.py\n",
        "\n",
        "import requests\n",
        "\n",
        "# Correct raw URL for the utility.py file\n",
        "url = \"https://raw.githubusercontent.com/avkaz/DeepLearningPetIdentification/main/utility.py\"\n",
        "\n",
        "# Fetch and save the file locally\n",
        "response = requests.get(url)\n",
        "with open(\"utility.py\", \"wb\") as f:\n",
        "    f.write(response.content)\n",
        "\n",
        "\n",
        "import utility\n",
        "print(\"utility.py downloaded successfully.\")"
      ]
    },
    {
      "cell_type": "markdown",
      "metadata": {
        "id": "RE0pwBqFPOWH"
      },
      "source": [
        "## Getting data"
      ]
    },
    {
      "cell_type": "code",
      "execution_count": 3,
      "metadata": {
        "colab": {
          "base_uri": "https://localhost:8080/"
        },
        "id": "9SQnE2-pPTij",
        "outputId": "c4e420d4-0ded-4464-d035-0060ea112eab"
      },
      "outputs": [
        {
          "name": "stdout",
          "output_type": "stream",
          "text": [
            "Downloading file from Google Drive: https://drive.google.com/uc?id=1VR5GWGrVjEtJHEzTPIB-EHDQMG3UnmZ9&export=download\n"
          ]
        },
        {
          "name": "stderr",
          "output_type": "stream",
          "text": [
            "Downloading...\n",
            "From (original): https://drive.google.com/uc?id=1VR5GWGrVjEtJHEzTPIB-EHDQMG3UnmZ9&export=download\n",
            "From (redirected): https://drive.google.com/uc?id=1VR5GWGrVjEtJHEzTPIB-EHDQMG3UnmZ9&export=download&confirm=t&uuid=f82f48b1-e49a-4017-ba01-2b54ed7257e6\n",
            "To: /content/pets_pair.json\n",
            "100%|██████████| 3.02G/3.02G [00:46<00:00, 65.5MB/s]"
          ]
        },
        {
          "name": "stdout",
          "output_type": "stream",
          "text": [
            "File saved to: ./pets_pair.json\n"
          ]
        },
        {
          "name": "stderr",
          "output_type": "stream",
          "text": [
            "\n"
          ]
        }
      ],
      "source": [
        "# Loading data from google drive\n",
        "utility.download_file_from_google_drive()"
      ]
    },
    {
      "cell_type": "markdown",
      "metadata": {
        "id": "IvXTPaF9PXQ8"
      },
      "source": []
    },
    {
      "cell_type": "code",
      "execution_count": 4,
      "metadata": {
        "colab": {
          "base_uri": "https://localhost:8080/"
        },
        "id": "uGMjl9-ePglR",
        "outputId": "58d051c2-6cdf-46b7-efa7-afc1f140669f"
      },
      "outputs": [
        {
          "name": "stdout",
          "output_type": "stream",
          "text": [
            "Loading the JSON file into a pandas DataFrame...\n",
            "Unwrapping image tensors from lists...\n",
            "DataFrame after processing:\n",
            "   plemeno1   vek1         barva1          velikost1  \\\n",
            "0  Kříženec  5 let          Černá  Střední - 10-17kg   \n",
            "1  Kříženec  5 let          Černá  Střední - 10-17kg   \n",
            "2  Kříženec  5 let          Černá  Střední - 10-17kg   \n",
            "3  Kříženec  5 let          Černá  Střední - 10-17kg   \n",
            "4  Jezevčík  5 let  Tmavý divočák  Střední - 10-17kg   \n",
            "\n",
            "                                              fotka1  plemeno2      vek2  \\\n",
            "0  [[[0.14509804546833002, 0.15686275064945202, 0...  Kříženec     5 let   \n",
            "1  [[[0.14509804546833002, 0.15686275064945202, 0...  Kříženec     5 let   \n",
            "2  [[[0.14509804546833002, 0.15686275064945202, 0...  Kříženec    2 roky   \n",
            "3  [[[0.14509804546833002, 0.15686275064945202, 0...  Kříženec  6 měsíců   \n",
            "4  [[[0.7254902124404901, 0.623529434204101, 0.57...  Jezevčík     5 let   \n",
            "\n",
            "          barva2             velikost2  \\\n",
            "0          Černá     Střední - 10-17kg   \n",
            "1          Černá     Střední - 10-17kg   \n",
            "2          Plavý  Velká - 18 a více kg   \n",
            "3         zrzavá         Malá - do 9kg   \n",
            "4  Tmavý divočák     Střední - 10-17kg   \n",
            "\n",
            "                                              fotka2  label  \n",
            "0  [[[0.8000000119209291, 0.6196078658103941, 0.6...      1  \n",
            "1  [[[0.207843139767646, 0.19607843458652402, 0.1...      1  \n",
            "2  [[[0.8901960849761961, 0.8156862854957581, 0.6...      0  \n",
            "3  [[[0.31764706969261103, 0.23529411852359702, 0...      0  \n",
            "4  [[[0.31764706969261103, 0.321568638086318, 0.2...      1  \n"
          ]
        }
      ],
      "source": [
        "# creating a pandas dataset\n",
        "df = utility.load_and_prepare_dataframe('./pets_pair.json')"
      ]
    },
    {
      "cell_type": "code",
      "execution_count": null,
      "metadata": {},
      "outputs": [],
      "source": []
    }
  ],
  "metadata": {
    "colab": {
      "authorship_tag": "ABX9TyOsjwlhsnoeQe4nd6Oi2mdI",
      "include_colab_link": true,
      "provenance": []
    },
    "kernelspec": {
      "display_name": "Python 3",
      "name": "python3"
    },
    "language_info": {
      "codemirror_mode": {
        "name": "ipython",
        "version": 3
      },
      "file_extension": ".py",
      "mimetype": "text/x-python",
      "name": "python",
      "nbconvert_exporter": "python",
      "pygments_lexer": "ipython3",
      "version": "3.13.0"
    }
  },
  "nbformat": 4,
  "nbformat_minor": 0
}
